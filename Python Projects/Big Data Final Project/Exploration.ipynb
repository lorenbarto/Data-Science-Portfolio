{
 "cells": [
  {
   "cell_type": "code",
   "execution_count": 114,
   "metadata": {},
   "outputs": [
    {
     "ename": "ValueError",
     "evalue": "Cannot run multiple SparkContexts at once; existing SparkContext(app=pyspark-shell, master=local) created by __init__ at <ipython-input-6-23ae3bfd1d13>:13 ",
     "output_type": "error",
     "traceback": [
      "\u001b[0;31m---------------------------------------------------------------------------\u001b[0m",
      "\u001b[0;31mValueError\u001b[0m                                Traceback (most recent call last)",
      "\u001b[0;32m<ipython-input-114-23ae3bfd1d13>\u001b[0m in \u001b[0;36m<module>\u001b[0;34m()\u001b[0m\n\u001b[1;32m     11\u001b[0m \u001b[0;32mfrom\u001b[0m \u001b[0mpyspark\u001b[0m\u001b[0;34m.\u001b[0m\u001b[0mcontext\u001b[0m \u001b[0;32mimport\u001b[0m \u001b[0mSparkContext\u001b[0m\u001b[0;34m\u001b[0m\u001b[0m\n\u001b[1;32m     12\u001b[0m \u001b[0;32mfrom\u001b[0m \u001b[0mpyspark\u001b[0m\u001b[0;34m.\u001b[0m\u001b[0msql\u001b[0m\u001b[0;34m.\u001b[0m\u001b[0msession\u001b[0m \u001b[0;32mimport\u001b[0m \u001b[0mSparkSession\u001b[0m\u001b[0;34m\u001b[0m\u001b[0m\n\u001b[0;32m---> 13\u001b[0;31m \u001b[0msc\u001b[0m \u001b[0;34m=\u001b[0m \u001b[0mSparkContext\u001b[0m\u001b[0;34m(\u001b[0m\u001b[0;34m'local'\u001b[0m\u001b[0;34m)\u001b[0m\u001b[0;34m\u001b[0m\u001b[0m\n\u001b[0m\u001b[1;32m     14\u001b[0m \u001b[0mspark\u001b[0m \u001b[0;34m=\u001b[0m \u001b[0mSparkSession\u001b[0m\u001b[0;34m(\u001b[0m\u001b[0msc\u001b[0m\u001b[0;34m)\u001b[0m\u001b[0;34m\u001b[0m\u001b[0m\n\u001b[1;32m     15\u001b[0m \u001b[0;32mfrom\u001b[0m \u001b[0mpyspark\u001b[0m\u001b[0;34m.\u001b[0m\u001b[0msql\u001b[0m\u001b[0;34m.\u001b[0m\u001b[0mfunctions\u001b[0m \u001b[0;32mimport\u001b[0m \u001b[0mcol\u001b[0m\u001b[0;34m,\u001b[0m \u001b[0mcountDistinct\u001b[0m\u001b[0;34m\u001b[0m\u001b[0m\n",
      "\u001b[0;32m~/anaconda3/envs/python3/lib/python3.6/site-packages/pyspark/context.py\u001b[0m in \u001b[0;36m__init__\u001b[0;34m(self, master, appName, sparkHome, pyFiles, environment, batchSize, serializer, conf, gateway, jsc, profiler_cls)\u001b[0m\n\u001b[1;32m    113\u001b[0m         \"\"\"\n\u001b[1;32m    114\u001b[0m         \u001b[0mself\u001b[0m\u001b[0;34m.\u001b[0m\u001b[0m_callsite\u001b[0m \u001b[0;34m=\u001b[0m \u001b[0mfirst_spark_call\u001b[0m\u001b[0;34m(\u001b[0m\u001b[0;34m)\u001b[0m \u001b[0;32mor\u001b[0m \u001b[0mCallSite\u001b[0m\u001b[0;34m(\u001b[0m\u001b[0;32mNone\u001b[0m\u001b[0;34m,\u001b[0m \u001b[0;32mNone\u001b[0m\u001b[0;34m,\u001b[0m \u001b[0;32mNone\u001b[0m\u001b[0;34m)\u001b[0m\u001b[0;34m\u001b[0m\u001b[0m\n\u001b[0;32m--> 115\u001b[0;31m         \u001b[0mSparkContext\u001b[0m\u001b[0;34m.\u001b[0m\u001b[0m_ensure_initialized\u001b[0m\u001b[0;34m(\u001b[0m\u001b[0mself\u001b[0m\u001b[0;34m,\u001b[0m \u001b[0mgateway\u001b[0m\u001b[0;34m=\u001b[0m\u001b[0mgateway\u001b[0m\u001b[0;34m,\u001b[0m \u001b[0mconf\u001b[0m\u001b[0;34m=\u001b[0m\u001b[0mconf\u001b[0m\u001b[0;34m)\u001b[0m\u001b[0;34m\u001b[0m\u001b[0m\n\u001b[0m\u001b[1;32m    116\u001b[0m         \u001b[0;32mtry\u001b[0m\u001b[0;34m:\u001b[0m\u001b[0;34m\u001b[0m\u001b[0m\n\u001b[1;32m    117\u001b[0m             self._do_init(master, appName, sparkHome, pyFiles, environment, batchSize, serializer,\n",
      "\u001b[0;32m~/anaconda3/envs/python3/lib/python3.6/site-packages/pyspark/context.py\u001b[0m in \u001b[0;36m_ensure_initialized\u001b[0;34m(cls, instance, gateway, conf)\u001b[0m\n\u001b[1;32m    297\u001b[0m                         \u001b[0;34m\" created by %s at %s:%s \"\u001b[0m\u001b[0;34m\u001b[0m\u001b[0m\n\u001b[1;32m    298\u001b[0m                         % (currentAppName, currentMaster,\n\u001b[0;32m--> 299\u001b[0;31m                             callsite.function, callsite.file, callsite.linenum))\n\u001b[0m\u001b[1;32m    300\u001b[0m                 \u001b[0;32melse\u001b[0m\u001b[0;34m:\u001b[0m\u001b[0;34m\u001b[0m\u001b[0m\n\u001b[1;32m    301\u001b[0m                     \u001b[0mSparkContext\u001b[0m\u001b[0;34m.\u001b[0m\u001b[0m_active_spark_context\u001b[0m \u001b[0;34m=\u001b[0m \u001b[0minstance\u001b[0m\u001b[0;34m\u001b[0m\u001b[0m\n",
      "\u001b[0;31mValueError\u001b[0m: Cannot run multiple SparkContexts at once; existing SparkContext(app=pyspark-shell, master=local) created by __init__ at <ipython-input-6-23ae3bfd1d13>:13 "
     ]
    }
   ],
   "source": [
    "#Package Imports\n",
    "%matplotlib inline\n",
    "import numpy as np\n",
    "import pandas as pd\n",
    "import matplotlib.pyplot as plt\n",
    "from sklearn import preprocessing\n",
    "import csv\n",
    "import sklearn.metrics as metrics\n",
    "from subprocess import check_output\n",
    "import seaborn as sns\n",
    "from pyspark.context import SparkContext\n",
    "from pyspark.sql.session import SparkSession\n",
    "sc = SparkContext('local')\n",
    "spark = SparkSession(sc)\n",
    "from pyspark.sql.functions import col, countDistinct\n",
    "from pyspark.sql import SQLContext\n",
    "from pyspark.sql.types import *\n",
    "sqlContext = SQLContext(sc)"
   ]
  },
  {
   "cell_type": "code",
   "execution_count": 7,
   "metadata": {
    "scrolled": true
   },
   "outputs": [
    {
     "name": "stdout",
     "output_type": "stream",
     "text": [
      "Solving environment: done\n",
      "\n",
      "## Package Plan ##\n",
      "\n",
      "  environment location: /home/ec2-user/anaconda3/envs/python3\n",
      "\n",
      "  added / updated specs: \n",
      "    - xgboost\n",
      "\n",
      "\n",
      "The following packages will be downloaded:\n",
      "\n",
      "    package                    |            build\n",
      "    ---------------------------|-----------------\n",
      "    libxgboost-0.80            |       hfc679d8_1         3.4 MB  conda-forge\n",
      "    _py-xgboost-mutex-2.0      |            cpu_0           8 KB  conda-forge\n",
      "    py-xgboost-0.80            |   py36hfc679d8_1          61 KB  conda-forge\n",
      "    xgboost-0.80               |   py36hfc679d8_1           8 KB  conda-forge\n",
      "    ------------------------------------------------------------\n",
      "                                           Total:         3.4 MB\n",
      "\n",
      "The following NEW packages will be INSTALLED:\n",
      "\n",
      "    _py-xgboost-mutex: 2.0-cpu_0            conda-forge\n",
      "    libxgboost:        0.80-hfc679d8_1      conda-forge\n",
      "    py-xgboost:        0.80-py36hfc679d8_1  conda-forge\n",
      "    xgboost:           0.80-py36hfc679d8_1  conda-forge\n",
      "\n",
      "The following packages will be UPDATED:\n",
      "\n",
      "    ca-certificates:   2018.8.24-ha4d7672_0 conda-forge --> 2018.11.29-ha4d7672_0 conda-forge\n",
      "    certifi:           2018.8.24-py36_1     conda-forge --> 2018.11.29-py36_1000  conda-forge\n",
      "    openssl:           1.0.2p-h470a237_0    conda-forge --> 1.0.2p-h470a237_1     conda-forge\n",
      "\n",
      "\n",
      "Downloading and Extracting Packages\n",
      "libxgboost-0.80      | 3.4 MB    | ##################################### | 100% \n",
      "_py-xgboost-mutex-2. | 8 KB      | ##################################### | 100% \n",
      "py-xgboost-0.80      | 61 KB     | ##################################### | 100% \n",
      "xgboost-0.80         | 8 KB      | ##################################### | 100% \n",
      "Preparing transaction: done\n",
      "Verifying transaction: done\n",
      "Executing transaction: done\n"
     ]
    }
   ],
   "source": [
    "!conda install -y -c conda-forge xgboost"
   ]
  },
  {
   "cell_type": "code",
   "execution_count": 81,
   "metadata": {},
   "outputs": [],
   "source": [
    "#Create Data Schema\n",
    "schema_T = StructType([StructField(\"resident_status\", StringType(), True)\\\n",
    "                    ,StructField(\"education_eithy_nine\", IntegerType(), True)\\\n",
    "                    ,StructField(\"education_o_three\", IntegerType(), True)\\\n",
    "                    ,StructField(\"education_flag\", IntegerType(), True)\\\n",
    "                    ,StructField(\"month_of_death\", IntegerType(), True)\\\n",
    "                    ,StructField(\"sex\", StringType(), True)\\\n",
    "                    ,StructField(\"detail_age_type\", IntegerType(), True)\\\n",
    "                    ,StructField(\"detail_age\", IntegerType(), True)\\\n",
    "                    ,StructField(\"age_substitution_flag\", IntegerType(), True)\\\n",
    "                    ,StructField(\"age_recode_fifty_two\", IntegerType(), True)\\\n",
    "                    ,StructField(\"age_recode_twenty_seven\", IntegerType(), True)\\\n",
    "                    ,StructField(\"age_recode_twelve\", IntegerType(), True)\\\n",
    "                    ,StructField(\"infant_age_recode_twenty_two\", IntegerType(), True)\\\n",
    "                    ,StructField(\"place_of_death_and_decedents_status\", IntegerType(), True)\\\n",
    "                    ,StructField(\"marital_status\", StringType(), True)\\\n",
    "                    ,StructField(\"day_of_week_of_death\", IntegerType(), True)\\\n",
    "                    ,StructField(\"current_data_year\",  IntegerType(), True)\\\n",
    "                    ,StructField(\"injury_at_work\", StringType(), True)\\\n",
    "                    ,StructField(\"manner_of_death\", IntegerType(), True)\\\n",
    "                    ,StructField(\"method_of_disposition\", StringType(), True)\\\n",
    "                    ,StructField(\"autopsy\", StringType(), True)\\\n",
    "                    ,StructField(\"activity_code\", IntegerType(), True)\\\n",
    "                    ,StructField(\"place_of_injury_for_causes\", IntegerType(), True)\\\n",
    "                    ,StructField(\"icd_code_tenth_revision\", StringType(), True)\\\n",
    "                    ,StructField(\"three_fifty_eight_cause_recode\", IntegerType(), True)\\\n",
    "                    ,StructField(\"one_thirteen_cause_recode \", IntegerType(), True)\\\n",
    "                    ,StructField(\"one_thirty_infant_cause_recode\", IntegerType(), True)\\\n",
    "                    ,StructField(\"thirty_nine_cause_recode \", IntegerType(), True)\\\n",
    "                    ,StructField(\"number_of_entity_axis_conditions \", IntegerType(), True)\\\n",
    "                    ,StructField(\"entity_condition_one\", StringType(), True)\\\n",
    "                    ,StructField(\"entity_condition_two\", StringType(), True)\\\n",
    "                    ,StructField(\"entity_condition_three\", StringType(), True)\\\n",
    "                    ,StructField(\"entity_condition_four\", StringType(), True)\\\n",
    "                    ,StructField(\"entity_condition_five\", StringType(), True)\\\n",
    "                    ,StructField(\"entity_condition_six\", StringType(), True)\\\n",
    "                    ,StructField(\"entity_condition_seven\", StringType(), True)\\\n",
    "                    ,StructField(\"entity_condition_eight\", StringType(), True)\\\n",
    "                    ,StructField(\"entity_condition_nine\", StringType(), True)\\\n",
    "                    ,StructField(\"entity_condition_ten\", StringType(), True)\\\n",
    "                    ,StructField(\"entity_condition_eleven\", StringType(), True)\\\n",
    "                    ,StructField(\"entity_condition_twelve\", StringType(), True)\\\n",
    "                    ,StructField(\"entity_condition_thirteen\", StringType(), True)\\\n",
    "                    ,StructField(\"entity_condition_fourteen\", StringType(), True)\\\n",
    "                    ,StructField(\"entity_condition_fifteen\", StringType(), True)\\\n",
    "                    ,StructField(\"entity_condition_sixteen\", StringType(), True)\\\n",
    "                    ,StructField(\"entity_condition_seventeen\", StringType(), True)\\\n",
    "                    ,StructField(\"entity_condition_eighteen\", StringType(), True)\\\n",
    "                    ,StructField(\"entity_condition_nineteen\", StringType(), True)\\\n",
    "                    ,StructField(\"entity_condition_twenty\", StringType(), True)\\\n",
    "                    ,StructField(\"number_of_record_axis_conditions\", IntegerType(), True)\\\n",
    "                    ,StructField(\"record_condition_one\", StringType(), True)\\\n",
    "                    ,StructField(\"record_condition_two\", StringType(), True)\\\n",
    "                    ,StructField(\"record_condition_three\", StringType(), True)\\\n",
    "                    ,StructField(\"record_condition_four\", StringType(), True)\\\n",
    "                    ,StructField(\"record_condition_five\", StringType(), True)\\\n",
    "                    ,StructField(\"record_condition_six\", StringType(), True)\\\n",
    "                    ,StructField(\"record_condition_seven\", StringType(), True)\\\n",
    "                    ,StructField(\"record_condition_eight\", StringType(), True)\\\n",
    "                    ,StructField(\"record_condition_nine\", StringType(), True)\\\n",
    "                    ,StructField(\"record_condition_ten\", StringType(), True)\\\n",
    "                    ,StructField(\"record_condition_eleven\", StringType(), True)\\\n",
    "                    ,StructField(\"record_condition_twelve\", StringType(), True)\\\n",
    "                    ,StructField(\"record_condition_thirteen\", StringType(), True)\\\n",
    "                    ,StructField(\"record_condition_fourteen\", StringType(), True)\\\n",
    "                    ,StructField(\"record_condition_fifteen\", StringType(), True)\\\n",
    "                    ,StructField(\"record_condition_sixteen\", StringType(), True)\\\n",
    "                    ,StructField(\"record_condition_seventeen\", StringType(), True)\\\n",
    "                    ,StructField(\"record_condition_eighteen\", StringType(), True)\\\n",
    "                    ,StructField(\"record_condition_nineteen\", StringType(), True)\\\n",
    "                    ,StructField(\"record_condition_twenty\", StringType(), True)\\\n",
    "                    ,StructField(\"race\", IntegerType(), True)\\\n",
    "                    ,StructField(\"bridged_race_flag\", IntegerType(), True)\\\n",
    "                    ,StructField(\"race_imputation_flag\", IntegerType(), True)\\\n",
    "                    ,StructField(\"race_recode_three\", IntegerType(), True)\\\n",
    "                    ,StructField(\"race_recode_five\", IntegerType(), True)\\\n",
    "                    ,StructField(\"hispanic_origin\", IntegerType(), True)\\\n",
    "                    ,StructField(\"hispanic_originrace_recode\", IntegerType(), True)\\\n",
    "                    ])\n",
    "schema_ICD = StructType([StructField(\"code\", StringType(), True)\\\n",
    "                    ,StructField(\"description\", StringType(), True)\\\n",
    "                    ])"
   ]
  },
  {
   "cell_type": "code",
   "execution_count": 101,
   "metadata": {},
   "outputs": [
    {
     "data": {
      "text/plain": [
       "70938"
      ]
     },
     "execution_count": 101,
     "metadata": {},
     "output_type": "execute_result"
    }
   ],
   "source": [
    "#Load ICD Description Dataset\n",
    "df_icd = sqlContext.read.format('com.databricks.spark.csv').options(header='true').load('Section111ValidICD10-2018.csv', schema=schema_ICD)\n",
    "df_icd.count()"
   ]
  },
  {
   "cell_type": "code",
   "execution_count": 105,
   "metadata": {},
   "outputs": [
    {
     "data": {
      "text/plain": [
       "[('code', 'string'), ('description', 'string')]"
      ]
     },
     "execution_count": 105,
     "metadata": {},
     "output_type": "execute_result"
    }
   ],
   "source": [
    "df_icd.dtypes"
   ]
  },
  {
   "cell_type": "code",
   "execution_count": 104,
   "metadata": {},
   "outputs": [
    {
     "data": {
      "text/plain": [
       "27720683"
      ]
     },
     "execution_count": 104,
     "metadata": {},
     "output_type": "execute_result"
    }
   ],
   "source": [
    "#Load the Merged data\n",
    "df = sqlContext.read.format('com.databricks.spark.csv').options(header='true').load('all_mortality.csv', schema=schema_T)\n",
    "df.count()"
   ]
  },
  {
   "cell_type": "code",
   "execution_count": 100,
   "metadata": {
    "scrolled": true
   },
   "outputs": [
    {
     "data": {
      "text/plain": [
       "[('resident_status', 'string'),\n",
       " ('education_eithy_nine', 'int'),\n",
       " ('education_o_three', 'int'),\n",
       " ('education_flag', 'int'),\n",
       " ('month_of_death', 'int'),\n",
       " ('sex', 'string'),\n",
       " ('detail_age_type', 'int'),\n",
       " ('detail_age', 'int'),\n",
       " ('age_substitution_flag', 'int'),\n",
       " ('age_recode_fifty_two', 'int'),\n",
       " ('age_recode_twenty_seven', 'int'),\n",
       " ('age_recode_twelve', 'int'),\n",
       " ('infant_age_recode_twenty_two', 'int'),\n",
       " ('place_of_death_and_decedents_status', 'int'),\n",
       " ('marital_status', 'string'),\n",
       " ('day_of_week_of_death', 'int'),\n",
       " ('current_data_year', 'int'),\n",
       " ('injury_at_work', 'string'),\n",
       " ('manner_of_death', 'int'),\n",
       " ('method_of_disposition', 'string'),\n",
       " ('autopsy', 'string'),\n",
       " ('activity_code', 'int'),\n",
       " ('place_of_injury_for_causes', 'int'),\n",
       " ('icd_code_tenth_revision', 'string'),\n",
       " ('three_fifty_eight_cause_recode', 'int'),\n",
       " ('one_thirteen_cause_recode ', 'int'),\n",
       " ('one_thirty_infant_cause_recode', 'int'),\n",
       " ('thirty_nine_cause_recode ', 'int'),\n",
       " ('number_of_entity_axis_conditions ', 'int'),\n",
       " ('entity_condition_one', 'string'),\n",
       " ('entity_condition_two', 'string'),\n",
       " ('entity_condition_three', 'string'),\n",
       " ('entity_condition_four', 'string'),\n",
       " ('entity_condition_five', 'string'),\n",
       " ('entity_condition_six', 'string'),\n",
       " ('entity_condition_seven', 'string'),\n",
       " ('entity_condition_eight', 'string'),\n",
       " ('entity_condition_nine', 'string'),\n",
       " ('entity_condition_ten', 'string'),\n",
       " ('entity_condition_eleven', 'string'),\n",
       " ('entity_condition_twelve', 'string'),\n",
       " ('entity_condition_thirteen', 'string'),\n",
       " ('entity_condition_fourteen', 'string'),\n",
       " ('entity_condition_fifteen', 'string'),\n",
       " ('entity_condition_sixteen', 'string'),\n",
       " ('entity_condition_seventeen', 'string'),\n",
       " ('entity_condition_eighteen', 'string'),\n",
       " ('entity_condition_nineteen', 'string'),\n",
       " ('entity_condition_twenty', 'string'),\n",
       " ('number_of_record_axis_conditions', 'int'),\n",
       " ('record_condition_one', 'string'),\n",
       " ('record_condition_two', 'string'),\n",
       " ('record_condition_three', 'string'),\n",
       " ('record_condition_four', 'string'),\n",
       " ('record_condition_five', 'string'),\n",
       " ('record_condition_six', 'string'),\n",
       " ('record_condition_seven', 'string'),\n",
       " ('record_condition_eight', 'string'),\n",
       " ('record_condition_nine', 'string'),\n",
       " ('record_condition_ten', 'string'),\n",
       " ('record_condition_eleven', 'string'),\n",
       " ('record_condition_twelve', 'string'),\n",
       " ('record_condition_thirteen', 'string'),\n",
       " ('record_condition_fourteen', 'string'),\n",
       " ('record_condition_fifteen', 'string'),\n",
       " ('record_condition_sixteen', 'string'),\n",
       " ('record_condition_seventeen', 'string'),\n",
       " ('record_condition_eighteen', 'string'),\n",
       " ('record_condition_nineteen', 'string'),\n",
       " ('record_condition_twenty', 'string'),\n",
       " ('race', 'int'),\n",
       " ('bridged_race_flag', 'int'),\n",
       " ('race_imputation_flag', 'int'),\n",
       " ('race_recode_three', 'int'),\n",
       " ('race_recode_five', 'int'),\n",
       " ('hispanic_origin', 'int'),\n",
       " ('hispanic_originrace_recode', 'int')]"
      ]
     },
     "execution_count": 100,
     "metadata": {},
     "output_type": "execute_result"
    }
   ],
   "source": [
    "df.dtypes"
   ]
  },
  {
   "cell_type": "markdown",
   "metadata": {},
   "source": [
    "# EXPLORATORY DATA ANALYSES"
   ]
  },
  {
   "cell_type": "markdown",
   "metadata": {},
   "source": [
    "# Business Question 1: What happens to Americans after Death?"
   ]
  },
  {
   "cell_type": "code",
   "execution_count": 11,
   "metadata": {
    "collapsed": true
   },
   "outputs": [
    {
     "name": "stdout",
     "output_type": "stream",
     "text": [
      "Corpse Dispositions Stats by Year\n",
      "+-----------------+---------------------+-------+\n",
      "|current_data_year|method_of_disposition|  count|\n",
      "+-----------------+---------------------+-------+\n",
      "|                0|                    m|     10|\n",
      "|             2005|                    U|1489091|\n",
      "|             2005|                    E|  21247|\n",
      "|             2005|                    R|  31954|\n",
      "|             2005|                    C| 350018|\n",
      "|             2005|                    D|   4795|\n",
      "|             2005|                    B| 553202|\n",
      "|             2005|                    O|   2199|\n",
      "|             2006|                    O|   2252|\n",
      "|             2006|                    U|1266857|\n",
      "|             2006|                    C| 423282|\n",
      "|             2006|                    E|  23412|\n",
      "|             2006|                    D|   6883|\n",
      "|             2006|                    B| 667169|\n",
      "|             2006|                    R|  40870|\n",
      "|             2007|                    E|  26139|\n",
      "|             2007|                    C| 472220|\n",
      "|             2007|                    O|   3119|\n",
      "|             2007|                    U|1151069|\n",
      "|             2007|                    R|  41411|\n",
      "|             2007|                    B| 725666|\n",
      "|             2007|                    D|   8719|\n",
      "|             2008|                    D|  10981|\n",
      "|             2008|                    B| 866384|\n",
      "|             2008|                    C| 579827|\n",
      "|             2008|                    O|   5511|\n",
      "|             2008|                    R|  44713|\n",
      "|             2008|                    E|  31913|\n",
      "|             2008|                    U| 937482|\n",
      "|             2009|                    O|   3688|\n",
      "|             2009|                    B| 802305|\n",
      "|             2009|                    C| 599202|\n",
      "|             2009|                    D|  12011|\n",
      "|             2009|                    U| 948218|\n",
      "|             2009|                    E|  30344|\n",
      "|             2009|                    R|  45451|\n",
      "|             2010|                    E|  32807|\n",
      "|             2010|                    B| 906430|\n",
      "|             2010|                    D|  15208|\n",
      "|             2010|                    U| 760192|\n",
      "|             2010|                    R|  47899|\n",
      "|             2010|                    O|   3782|\n",
      "|             2010|                    C| 706224|\n",
      "|             2011|                    E|  33847|\n",
      "|             2011|                    D|  17450|\n",
      "|             2011|                    U| 685325|\n",
      "|             2011|                    B| 950372|\n",
      "|             2011|                    C| 780480|\n",
      "|             2011|                    O|   5169|\n",
      "|             2011|                    R|  47199|\n",
      "|             2012|                    D|  20790|\n",
      "|             2012|                    E|  35110|\n",
      "|             2012|                    R|  52896|\n",
      "|             2012|                    O|   6649|\n",
      "|             2012|                    C| 898222|\n",
      "|             2012|                    B|1093628|\n",
      "|             2012|                    U| 440569|\n",
      "|             2013|                    B|1113362|\n",
      "|             2013|                    R|  53678|\n",
      "|             2013|                    U| 395080|\n",
      "|             2013|                    E|  36949|\n",
      "|             2013|                    C| 973768|\n",
      "|             2013|                    D|  21653|\n",
      "|             2013|                    O|   6962|\n",
      "|             2014|                    C|1094292|\n",
      "|             2014|                    B|1162836|\n",
      "|             2014|                    U| 242963|\n",
      "|             2014|                    D|  24004|\n",
      "|             2014|                    R|  59884|\n",
      "|             2014|                    E|  39321|\n",
      "|             2014|                    O|   7871|\n",
      "|             2015|                    D|  27870|\n",
      "|             2015|                    U|  74050|\n",
      "|             2015|                    R|  71744|\n",
      "|             2015|                    C|1244297|\n",
      "|             2015|                    O|  11729|\n",
      "|             2015|                    B|1247628|\n",
      "|             2015|                    E|  40880|\n",
      "+-----------------+---------------------+-------+\n",
      "\n"
     ]
    }
   ],
   "source": [
    "#VERSION 1\n",
    "print('Corpse Dispositions Stats by Year')\n",
    "df.groupBy(df[16], df[19]).count().sort(df[16]).show(100)"
   ]
  },
  {
   "cell_type": "code",
   "execution_count": null,
   "metadata": {
    "scrolled": true
   },
   "outputs": [],
   "source": [
    "#VERSION 2\n",
    "print('Corpse Dispositions Stats by Year')\n",
    "df.registerTempTable(\"data\")\n",
    "methods = sqlContext.sql(\"\\\n",
    "    SELECT current_data_year AS Year, \\\n",
    "        CASE method_of_disposition \\\n",
    "            WHEN 'C' THEN 'Cremation' \\\n",
    "            WHEN 'B' THEN 'Burial' \\\n",
    "            WHEN 'D' THEN 'Donation' \\\n",
    "            WHEN 'E' THEN 'E' \\\n",
    "            WHEN 'O' THEN 'Other' \\\n",
    "            WHEN 'R' THEN 'RemovedFromUSA' \\\n",
    "            WHEN 'U' THEN 'Unknown' \\\n",
    "            END AS MethodofDisposition, \\\n",
    "        COUNT(*) AS Count \\\n",
    "        FROM data \\\n",
    "        GROUP BY 1, 2\\\n",
    "        ORDER BY 1, 3\\\n",
    "    \").show(1000)"
   ]
  },
  {
   "cell_type": "markdown",
   "metadata": {},
   "source": [
    "# Business Question 2: Leading Cuases and Manner of Death by Year"
   ]
  },
  {
   "cell_type": "code",
   "execution_count": 13,
   "metadata": {
    "scrolled": true
   },
   "outputs": [
    {
     "name": "stdout",
     "output_type": "stream",
     "text": [
      "Leading Manner of Deaths in the USA by Year\n",
      "+-----------------+---------------+-------+\n",
      "|current_data_year|manner_of_death|  count|\n",
      "+-----------------+---------------+-------+\n",
      "|                0|              0|     10|\n",
      "|             2005|              5|   9131|\n",
      "|             2005|              1| 113949|\n",
      "|             2005|              3|  19235|\n",
      "|             2005|              0| 732891|\n",
      "|             2005|              2|  32934|\n",
      "|             2005|              7|1537327|\n",
      "|             2005|              4|   7039|\n",
      "|             2006|              3|  19773|\n",
      "|             2006|              1| 118224|\n",
      "|             2006|              7|1549667|\n",
      "|             2006|              4|   4651|\n",
      "|             2006|              0| 693733|\n",
      "|             2006|              2|  33562|\n",
      "|             2006|              5|  11115|\n",
      "|             2007|              0| 680409|\n",
      "|             2007|              1| 119657|\n",
      "|             2007|              5|  10886|\n",
      "|             2007|              2|  34827|\n",
      "|             2007|              7|1558812|\n",
      "|             2007|              3|  19501|\n",
      "|             2007|              4|   4251|\n",
      "|             2008|              5|  10759|\n",
      "|             2008|              4|   7419|\n",
      "|             2008|              7|1739775|\n",
      "|             2008|              3|  18879|\n",
      "|             2008|              0| 546130|\n",
      "|             2008|              1| 117598|\n",
      "|             2008|              2|  36251|\n",
      "|             2009|              1| 114651|\n",
      "|             2009|              2|  37205|\n",
      "|             2009|              5|  10735|\n",
      "|             2009|              7|1731078|\n",
      "|             2009|              4|   8265|\n",
      "|             2009|              3|  17839|\n",
      "|             2009|              0| 521446|\n",
      "|             2010|              5|  11506|\n",
      "|             2010|              4|   5094|\n",
      "|             2010|              1| 116092|\n",
      "|             2010|              0| 441424|\n",
      "|             2010|              7|1842436|\n",
      "|             2010|              2|  38710|\n",
      "|             2010|              3|  17280|\n",
      "|             2011|              5|  11420|\n",
      "|             2011|              3|  17203|\n",
      "|             2011|              2|  39878|\n",
      "|             2011|              4|   3323|\n",
      "|             2011|              0| 435309|\n",
      "|             2011|              7|1891079|\n",
      "|             2011|              1| 121630|\n",
      "|             2012|              0| 422937|\n",
      "|             2012|              7|1926483|\n",
      "|             2012|              2|  40929|\n",
      "|             2012|              3|  17878|\n",
      "|             2012|              4|   3977|\n",
      "|             2012|              1| 124216|\n",
      "|             2012|              5|  11444|\n",
      "|             2013|              7|1970220|\n",
      "|             2013|              0| 430113|\n",
      "|             2013|              5|  10868|\n",
      "|             2013|              1| 127606|\n",
      "|             2013|              2|  41509|\n",
      "|             2013|              3|  17215|\n",
      "|             2013|              4|   3921|\n",
      "|             2014|              0| 364034|\n",
      "|             2014|              7|2059933|\n",
      "|             2014|              2|  43139|\n",
      "|             2014|              1| 132684|\n",
      "|             2014|              5|  10838|\n",
      "|             2014|              4|   3703|\n",
      "|             2014|              3|  16840|\n",
      "|             2015|              2|  44417|\n",
      "|             2015|              3|  18885|\n",
      "|             2015|              0| 388364|\n",
      "|             2015|              1| 143961|\n",
      "|             2015|              4|   4165|\n",
      "|             2015|              5|  11054|\n",
      "|             2015|              7|2107352|\n",
      "+-----------------+---------------+-------+\n",
      "\n"
     ]
    }
   ],
   "source": [
    "#VERSION 1\n",
    "print('Leading Manner of Deaths in the USA by Year')\n",
    "mannerOfDeath = df.groupBy(df[16], df[18]).count().sort(df[16]).show(200)"
   ]
  },
  {
   "cell_type": "code",
   "execution_count": 60,
   "metadata": {
    "scrolled": true
   },
   "outputs": [
    {
     "name": "stdout",
     "output_type": "stream",
     "text": [
      "+----+--------------------+-------+\n",
      "|Year|       MannerOfDeath|  Count|\n",
      "+----+--------------------+-------+\n",
      "|   0|       Not Specified|     10|\n",
      "|2005|Pending investiga...|   7039|\n",
      "|2005|Could not be dete...|   9131|\n",
      "|2005|            Homicide|  19235|\n",
      "|2005|             Suicide|  32934|\n",
      "|2005|            Accident| 113949|\n",
      "|2005|       Not Specified| 732891|\n",
      "|2005|             Natural|1537327|\n",
      "|2006|Pending investiga...|   4651|\n",
      "|2006|Could not be dete...|  11115|\n",
      "|2006|            Homicide|  19773|\n",
      "|2006|             Suicide|  33562|\n",
      "|2006|            Accident| 118224|\n",
      "|2006|       Not Specified| 693733|\n",
      "|2006|             Natural|1549667|\n",
      "|2007|Pending investiga...|   4251|\n",
      "|2007|Could not be dete...|  10886|\n",
      "|2007|            Homicide|  19501|\n",
      "|2007|             Suicide|  34827|\n",
      "|2007|            Accident| 119657|\n",
      "|2007|       Not Specified| 680409|\n",
      "|2007|             Natural|1558812|\n",
      "|2008|Pending investiga...|   7419|\n",
      "|2008|Could not be dete...|  10759|\n",
      "|2008|            Homicide|  18879|\n",
      "|2008|             Suicide|  36251|\n",
      "|2008|            Accident| 117598|\n",
      "|2008|       Not Specified| 546130|\n",
      "|2008|             Natural|1739775|\n",
      "|2009|Pending investiga...|   8265|\n",
      "|2009|Could not be dete...|  10735|\n",
      "|2009|            Homicide|  17839|\n",
      "|2009|             Suicide|  37205|\n",
      "|2009|            Accident| 114651|\n",
      "|2009|       Not Specified| 521446|\n",
      "|2009|             Natural|1731078|\n",
      "|2010|Pending investiga...|   5094|\n",
      "|2010|Could not be dete...|  11506|\n",
      "|2010|            Homicide|  17280|\n",
      "|2010|             Suicide|  38710|\n",
      "|2010|            Accident| 116092|\n",
      "|2010|       Not Specified| 441424|\n",
      "|2010|             Natural|1842436|\n",
      "|2011|Pending investiga...|   3323|\n",
      "|2011|Could not be dete...|  11420|\n",
      "|2011|            Homicide|  17203|\n",
      "|2011|             Suicide|  39878|\n",
      "|2011|            Accident| 121630|\n",
      "|2011|       Not Specified| 435309|\n",
      "|2011|             Natural|1891079|\n",
      "|2012|Pending investiga...|   3977|\n",
      "|2012|Could not be dete...|  11444|\n",
      "|2012|            Homicide|  17878|\n",
      "|2012|             Suicide|  40929|\n",
      "|2012|            Accident| 124216|\n",
      "|2012|       Not Specified| 422937|\n",
      "|2012|             Natural|1926483|\n",
      "|2013|Pending investiga...|   3921|\n",
      "|2013|Could not be dete...|  10868|\n",
      "|2013|            Homicide|  17215|\n",
      "|2013|             Suicide|  41509|\n",
      "|2013|            Accident| 127606|\n",
      "|2013|       Not Specified| 430113|\n",
      "|2013|             Natural|1970220|\n",
      "|2014|Pending investiga...|   3703|\n",
      "|2014|Could not be dete...|  10838|\n",
      "|2014|            Homicide|  16840|\n",
      "|2014|             Suicide|  43139|\n",
      "|2014|            Accident| 132684|\n",
      "|2014|       Not Specified| 364034|\n",
      "|2014|             Natural|2059933|\n",
      "|2015|Pending investiga...|   4165|\n",
      "|2015|Could not be dete...|  11054|\n",
      "|2015|            Homicide|  18885|\n",
      "|2015|             Suicide|  44417|\n",
      "|2015|            Accident| 143961|\n",
      "|2015|       Not Specified| 388364|\n",
      "|2015|             Natural|2107352|\n",
      "+----+--------------------+-------+\n",
      "\n"
     ]
    }
   ],
   "source": [
    "#VERSION 2\n",
    "print('Leading Manner of Deaths in the USA by Year')\n",
    "sqlContext.sql(\"\\\n",
    "    SELECT current_data_year AS Year, \\\n",
    "        CASE manner_of_death \\\n",
    "            WHEN 0 THEN 'Not Specified' \\\n",
    "            WHEN '1' THEN 'Accident' \\\n",
    "            WHEN '2' THEN 'Suicide' \\\n",
    "            WHEN '3' THEN 'Homicide' \\\n",
    "            WHEN '4' THEN 'Pending investigation' \\\n",
    "            WHEN '5' THEN 'Could not be determine' \\\n",
    "            WHEN '6' THEN 'Self-Inflicted' \\\n",
    "            WHEN '7' THEN 'Natural' \\\n",
    "            END AS MannerOfDeath, \\\n",
    "        COUNT(*) AS Count \\\n",
    "        FROM data \\\n",
    "        GROUP BY 1, 2\\\n",
    "        ORDER BY 1, 3\\\n",
    "    \").show(1000)"
   ]
  },
  {
   "cell_type": "code",
   "execution_count": 68,
   "metadata": {},
   "outputs": [
    {
     "name": "stdout",
     "output_type": "stream",
     "text": [
      "Leading Causes of Deaths in the USA by Year\n",
      "+--------------------+------------------------------+\n",
      "|         description|count(icd_code_tenth_revision)|\n",
      "+--------------------+------------------------------+\n",
      "|Acute myocardial ...|                       1388327|\n",
      "|Chronic obstructi...|                       1136896|\n",
      "|Alzheimer's disea...|                        896200|\n",
      "|Pneumonia, unspec...|                        512409|\n",
      "|Malignant neoplas...|                        451882|\n",
      "|Malignant neoplas...|                        403164|\n",
      "|Sepsis, unspecifi...|                        368875|\n",
      "|Malignant neoplas...|                        311877|\n",
      "|Hypertensive hear...|                        251086|\n",
      "| Parkinson's disease|                        246814|\n",
      "|Pneumonitis due t...|                        194079|\n",
      "|Cardiomyopathy, u...|                        192955|\n",
      "|Essential (primar...|                        190549|\n",
      "|Chronic obstructi...|                        177701|\n",
      "|Malignant neoplas...|                        161336|\n",
      "|Nontraumatic intr...|                        158492|\n",
      "|Malignant neoplas...|                        155951|\n",
      "|Unspecified kidne...|                        154515|\n",
      "|Cardiac arrest, c...|                        149181|\n",
      "|Malignant neoplas...|                        147226|\n",
      "+--------------------+------------------------------+\n",
      "\n"
     ]
    }
   ],
   "source": [
    "print('Leading 20 Causes of Deaths in the USA by Year')\n",
    "df_icd.registerTempTable(\"data_icd\")\n",
    "manner = sqlContext.sql(\"\\\n",
    "    SELECT DISTINCT data_icd.description, COUNT(data.icd_code_tenth_revision) \\\n",
    "        FROM data_icd JOIN data \\\n",
    "        ON data.icd_code_tenth_revision = data_icd.code \\\n",
    "        GROUP BY data_icd.description \\\n",
    "        ORDER BY 2 DESC \\\n",
    "        LIMIT 20 \\\n",
    "    \").show()"
   ]
  },
  {
   "cell_type": "markdown",
   "metadata": {},
   "source": [
    "# Predictive Model: "
   ]
  },
  {
   "cell_type": "code",
   "execution_count": 75,
   "metadata": {
    "collapsed": true
   },
   "outputs": [
    {
     "name": "stdout",
     "output_type": "stream",
     "text": [
      "[array([2.00750488e+03, 1.23996237e+00]), array([2.00549772e+03, 1.23480844e+00]), array([2010.35401701,   63.64384885]), array([2.01001060e+03, 1.25157888e+00]), array([2.01352563e+03, 1.27847561e+00])]\n"
     ]
    }
   ],
   "source": [
    "from pyspark.mllib.clustering import KMeans\n",
    "\n",
    "filename = 'all_mortality.csv'\n",
    "data = sc.textFile(filename)\n",
    "K = 5"
   ]
  },
  {
   "cell_type": "code",
   "execution_count": 76,
   "metadata": {
    "scrolled": true
   },
   "outputs": [
    {
     "name": "stdout",
     "output_type": "stream",
     "text": [
      "[array([2.01352563e+03, 1.27847561e+00]), array([2.00750360e+03, 1.31923546e+00]), array([2.00549734e+03, 1.18828149e+00]), array([2010.35401701,   63.64384885]), array([2.01001165e+03, 1.22957572e+00])]\n"
     ]
    }
   ],
   "source": [
    "#Does Race Determine Manner of Death?\n",
    "data.map(lambda line: line.split(\",\"))\\\n",
    "   .map(lambda fields: [float(fields[16]),float(fields[70])])\\\n",
    "   .filter(lambda point: sum(point) != 0)\\\n",
    "   .persist()\n",
    "\n",
    "clusters = KMeans.train(data, K, maxIterations=100, runs=1, initializationMode=\"random\")\n",
    "center = clusters.clusterCenters\n",
    "print (center)"
   ]
  },
  {
   "cell_type": "code",
   "execution_count": 106,
   "metadata": {},
   "outputs": [
    {
     "name": "stdout",
     "output_type": "stream",
     "text": [
      "[array([2.00650327e+03, 1.23739046e+00]), array([2010.35401701,   63.64384885]), array([2.01051836e+03, 1.25519391e+00]), array([2.01401468e+03, 1.28255731e+00])]\n"
     ]
    }
   ],
   "source": [
    "#Does Age Determine Method of Disposition?\n",
    "data.map(lambda line: line.split(\",\"))\\\n",
    "   .map(lambda fields: [float(fields[7]),float(fields[19])])\\\n",
    "   .filter(lambda point: sum(point) != 0)\\\n",
    "   .persist()\n",
    "\n",
    "clusters = KMeans.train(data, K, maxIterations=100, runs=1, initializationMode=\"random\")\n",
    "center = clusters.clusterCenters\n",
    "print (center)\n",
    "\n"
   ]
  },
  {
   "cell_type": "code",
   "execution_count": 108,
   "metadata": {},
   "outputs": [
    {
     "ename": "NameError",
     "evalue": "name 'LogisticRegression' is not defined",
     "output_type": "error",
     "traceback": [
      "\u001b[0;31m---------------------------------------------------------------------------\u001b[0m",
      "\u001b[0;31mNameError\u001b[0m                                 Traceback (most recent call last)",
      "\u001b[0;32m<ipython-input-108-fb370492f434>\u001b[0m in \u001b[0;36m<module>\u001b[0;34m()\u001b[0m\n\u001b[0;32m----> 1\u001b[0;31m \u001b[0mlr\u001b[0m \u001b[0;34m=\u001b[0m \u001b[0mLogisticRegression\u001b[0m\u001b[0;34m(\u001b[0m\u001b[0mmaxIter\u001b[0m\u001b[0;34m=\u001b[0m\u001b[0;36m10\u001b[0m\u001b[0;34m,\u001b[0m \u001b[0mregParam\u001b[0m\u001b[0;34m=\u001b[0m\u001b[0;36m0.3\u001b[0m\u001b[0;34m,\u001b[0m \u001b[0melasticNetParam\u001b[0m\u001b[0;34m=\u001b[0m\u001b[0;36m0.8\u001b[0m\u001b[0;34m)\u001b[0m\u001b[0;34m\u001b[0m\u001b[0m\n\u001b[0m\u001b[1;32m      2\u001b[0m \u001b[0;31m# Print the coefficients and intercept for logistic regression\u001b[0m\u001b[0;34m\u001b[0m\u001b[0;34m\u001b[0m\u001b[0m\n\u001b[1;32m      3\u001b[0m \u001b[0mprint\u001b[0m\u001b[0;34m(\u001b[0m\u001b[0;34m\"Coefficients: \"\u001b[0m \u001b[0;34m+\u001b[0m \u001b[0mstr\u001b[0m\u001b[0;34m(\u001b[0m\u001b[0mlrModel\u001b[0m\u001b[0;34m.\u001b[0m\u001b[0mcoefficients\u001b[0m\u001b[0;34m)\u001b[0m\u001b[0;34m)\u001b[0m\u001b[0;34m\u001b[0m\u001b[0m\n\u001b[1;32m      4\u001b[0m \u001b[0mprint\u001b[0m\u001b[0;34m(\u001b[0m\u001b[0;34m\"Intercept: \"\u001b[0m \u001b[0;34m+\u001b[0m \u001b[0mstr\u001b[0m\u001b[0;34m(\u001b[0m\u001b[0mlrModel\u001b[0m\u001b[0;34m.\u001b[0m\u001b[0mintercept\u001b[0m\u001b[0;34m)\u001b[0m\u001b[0;34m)\u001b[0m\u001b[0;34m\u001b[0m\u001b[0m\n\u001b[1;32m      5\u001b[0m \u001b[0;34m\u001b[0m\u001b[0m\n",
      "\u001b[0;31mNameError\u001b[0m: name 'LogisticRegression' is not defined"
     ]
    }
   ],
   "source": []
  },
  {
   "cell_type": "code",
   "execution_count": 109,
   "metadata": {},
   "outputs": [
    {
     "ename": "NameError",
     "evalue": "name 'LogisticRegression' is not defined",
     "output_type": "error",
     "traceback": [
      "\u001b[0;31m---------------------------------------------------------------------------\u001b[0m",
      "\u001b[0;31mNameError\u001b[0m                                 Traceback (most recent call last)",
      "\u001b[0;32m<ipython-input-109-fb370492f434>\u001b[0m in \u001b[0;36m<module>\u001b[0;34m()\u001b[0m\n\u001b[0;32m----> 1\u001b[0;31m \u001b[0mlr\u001b[0m \u001b[0;34m=\u001b[0m \u001b[0mLogisticRegression\u001b[0m\u001b[0;34m(\u001b[0m\u001b[0mmaxIter\u001b[0m\u001b[0;34m=\u001b[0m\u001b[0;36m10\u001b[0m\u001b[0;34m,\u001b[0m \u001b[0mregParam\u001b[0m\u001b[0;34m=\u001b[0m\u001b[0;36m0.3\u001b[0m\u001b[0;34m,\u001b[0m \u001b[0melasticNetParam\u001b[0m\u001b[0;34m=\u001b[0m\u001b[0;36m0.8\u001b[0m\u001b[0;34m)\u001b[0m\u001b[0;34m\u001b[0m\u001b[0m\n\u001b[0m\u001b[1;32m      2\u001b[0m \u001b[0;31m# Print the coefficients and intercept for logistic regression\u001b[0m\u001b[0;34m\u001b[0m\u001b[0;34m\u001b[0m\u001b[0m\n\u001b[1;32m      3\u001b[0m \u001b[0mprint\u001b[0m\u001b[0;34m(\u001b[0m\u001b[0;34m\"Coefficients: \"\u001b[0m \u001b[0;34m+\u001b[0m \u001b[0mstr\u001b[0m\u001b[0;34m(\u001b[0m\u001b[0mlrModel\u001b[0m\u001b[0;34m.\u001b[0m\u001b[0mcoefficients\u001b[0m\u001b[0;34m)\u001b[0m\u001b[0;34m)\u001b[0m\u001b[0;34m\u001b[0m\u001b[0m\n\u001b[1;32m      4\u001b[0m \u001b[0mprint\u001b[0m\u001b[0;34m(\u001b[0m\u001b[0;34m\"Intercept: \"\u001b[0m \u001b[0;34m+\u001b[0m \u001b[0mstr\u001b[0m\u001b[0;34m(\u001b[0m\u001b[0mlrModel\u001b[0m\u001b[0;34m.\u001b[0m\u001b[0mintercept\u001b[0m\u001b[0;34m)\u001b[0m\u001b[0;34m)\u001b[0m\u001b[0;34m\u001b[0m\u001b[0m\n\u001b[1;32m      5\u001b[0m \u001b[0;34m\u001b[0m\u001b[0m\n",
      "\u001b[0;31mNameError\u001b[0m: name 'LogisticRegression' is not defined"
     ]
    }
   ],
   "source": [
    "lr = LogisticRegression(maxIter=10, regParam=0.3, elasticNetParam=0.8)\n",
    "# Print the coefficients and intercept for logistic regression\n",
    "print(\"Coefficients: \" + str(lrModel.coefficients))\n",
    "print(\"Intercept: \" + str(lrModel.intercept))\n",
    "\n",
    "# We can also use the multinomial family for binary classification\n",
    "mlr = LogisticRegression(maxIter=10, regParam=0.3, elasticNetParam=0.8, family=\"multinomial\")\n",
    "\n",
    "# Fit the model\n",
    "mlrModel = mlr.fit(df)\n",
    "\n",
    "# Print the coefficients and intercepts for logistic regression with multinomial family\n",
    "print(\"Multinomial coefficients: \" + str(mlrModel.coefficientMatrix))\n",
    "print(\"Multinomial intercepts: \" + str(mlrModel.interceptVector))"
   ]
  },
  {
   "cell_type": "code",
   "execution_count": 111,
   "metadata": {},
   "outputs": [
    {
     "ename": "NameError",
     "evalue": "name 'training' is not defined",
     "output_type": "error",
     "traceback": [
      "\u001b[0;31m---------------------------------------------------------------------------\u001b[0m",
      "\u001b[0;31mNameError\u001b[0m                                 Traceback (most recent call last)",
      "\u001b[0;32m<ipython-input-111-be813004a6f9>\u001b[0m in \u001b[0;36m<module>\u001b[0;34m()\u001b[0m\n\u001b[1;32m      1\u001b[0m \u001b[0;32mfrom\u001b[0m \u001b[0mpyspark\u001b[0m\u001b[0;34m.\u001b[0m\u001b[0mml\u001b[0m\u001b[0;34m.\u001b[0m\u001b[0mclassification\u001b[0m \u001b[0;32mimport\u001b[0m \u001b[0mLogisticRegression\u001b[0m\u001b[0;34m\u001b[0m\u001b[0m\n\u001b[1;32m      2\u001b[0m \u001b[0mlr\u001b[0m \u001b[0;34m=\u001b[0m \u001b[0mLogisticRegression\u001b[0m\u001b[0;34m(\u001b[0m\u001b[0mmaxIter\u001b[0m\u001b[0;34m=\u001b[0m\u001b[0;36m10\u001b[0m\u001b[0;34m,\u001b[0m \u001b[0mregParam\u001b[0m\u001b[0;34m=\u001b[0m\u001b[0;36m0.3\u001b[0m\u001b[0;34m,\u001b[0m \u001b[0melasticNetParam\u001b[0m\u001b[0;34m=\u001b[0m\u001b[0;36m0.8\u001b[0m\u001b[0;34m)\u001b[0m\u001b[0;34m\u001b[0m\u001b[0m\n\u001b[0;32m----> 3\u001b[0;31m \u001b[0mlrModel\u001b[0m \u001b[0;34m=\u001b[0m \u001b[0mlr\u001b[0m\u001b[0;34m.\u001b[0m\u001b[0mfit\u001b[0m\u001b[0;34m(\u001b[0m\u001b[0mtraining\u001b[0m\u001b[0;34m)\u001b[0m\u001b[0;34m\u001b[0m\u001b[0m\n\u001b[0m\u001b[1;32m      4\u001b[0m \u001b[0;31m# Print the coefficients and intercept for logistic regression\u001b[0m\u001b[0;34m\u001b[0m\u001b[0;34m\u001b[0m\u001b[0m\n\u001b[1;32m      5\u001b[0m \u001b[0mprint\u001b[0m\u001b[0;34m(\u001b[0m\u001b[0;34m\"Coefficients: \"\u001b[0m \u001b[0;34m+\u001b[0m \u001b[0mstr\u001b[0m\u001b[0;34m(\u001b[0m\u001b[0mlrModel\u001b[0m\u001b[0;34m.\u001b[0m\u001b[0mcoefficients\u001b[0m\u001b[0;34m)\u001b[0m\u001b[0;34m)\u001b[0m\u001b[0;34m\u001b[0m\u001b[0m\n",
      "\u001b[0;31mNameError\u001b[0m: name 'training' is not defined"
     ]
    }
   ],
   "source": [
    "from pyspark.ml.classification import LogisticRegression\n",
    "lr = LogisticRegression(maxIter=10, regParam=0.3, elasticNetParam=0.8)\n",
    "lrModel = lr.fit(training)\n",
    "# Print the coefficients and intercept for logistic regression\n",
    "print(\"Coefficients: \" + str(lrModel.coefficients))\n",
    "print(\"Intercept: \" + str(lrModel.intercept))\n",
    "\n",
    "# We can also use the multinomial family for binary classification\n",
    "mlr = LogisticRegression(maxIter=10, regParam=0.3, elasticNetParam=0.8, family=\"multinomial\")\n",
    "\n",
    "# Fit the model\n",
    "mlrModel = mlr.fit(df)\n",
    "\n",
    "# Print the coefficients and intercepts for logistic regression with multinomial family\n",
    "print(\"Multinomial coefficients: \" + str(mlrModel.coefficientMatrix))\n",
    "print(\"Multinomial intercepts: \" + str(mlrModel.interceptVector))"
   ]
  },
  {
   "cell_type": "code",
   "execution_count": 112,
   "metadata": {},
   "outputs": [
    {
     "ename": "NameError",
     "evalue": "name 'training' is not defined",
     "output_type": "error",
     "traceback": [
      "\u001b[0;31m---------------------------------------------------------------------------\u001b[0m",
      "\u001b[0;31mNameError\u001b[0m                                 Traceback (most recent call last)",
      "\u001b[0;32m<ipython-input-112-be813004a6f9>\u001b[0m in \u001b[0;36m<module>\u001b[0;34m()\u001b[0m\n\u001b[1;32m      1\u001b[0m \u001b[0;32mfrom\u001b[0m \u001b[0mpyspark\u001b[0m\u001b[0;34m.\u001b[0m\u001b[0mml\u001b[0m\u001b[0;34m.\u001b[0m\u001b[0mclassification\u001b[0m \u001b[0;32mimport\u001b[0m \u001b[0mLogisticRegression\u001b[0m\u001b[0;34m\u001b[0m\u001b[0m\n\u001b[1;32m      2\u001b[0m \u001b[0mlr\u001b[0m \u001b[0;34m=\u001b[0m \u001b[0mLogisticRegression\u001b[0m\u001b[0;34m(\u001b[0m\u001b[0mmaxIter\u001b[0m\u001b[0;34m=\u001b[0m\u001b[0;36m10\u001b[0m\u001b[0;34m,\u001b[0m \u001b[0mregParam\u001b[0m\u001b[0;34m=\u001b[0m\u001b[0;36m0.3\u001b[0m\u001b[0;34m,\u001b[0m \u001b[0melasticNetParam\u001b[0m\u001b[0;34m=\u001b[0m\u001b[0;36m0.8\u001b[0m\u001b[0;34m)\u001b[0m\u001b[0;34m\u001b[0m\u001b[0m\n\u001b[0;32m----> 3\u001b[0;31m \u001b[0mlrModel\u001b[0m \u001b[0;34m=\u001b[0m \u001b[0mlr\u001b[0m\u001b[0;34m.\u001b[0m\u001b[0mfit\u001b[0m\u001b[0;34m(\u001b[0m\u001b[0mtraining\u001b[0m\u001b[0;34m)\u001b[0m\u001b[0;34m\u001b[0m\u001b[0m\n\u001b[0m\u001b[1;32m      4\u001b[0m \u001b[0;31m# Print the coefficients and intercept for logistic regression\u001b[0m\u001b[0;34m\u001b[0m\u001b[0;34m\u001b[0m\u001b[0m\n\u001b[1;32m      5\u001b[0m \u001b[0mprint\u001b[0m\u001b[0;34m(\u001b[0m\u001b[0;34m\"Coefficients: \"\u001b[0m \u001b[0;34m+\u001b[0m \u001b[0mstr\u001b[0m\u001b[0;34m(\u001b[0m\u001b[0mlrModel\u001b[0m\u001b[0;34m.\u001b[0m\u001b[0mcoefficients\u001b[0m\u001b[0;34m)\u001b[0m\u001b[0;34m)\u001b[0m\u001b[0;34m\u001b[0m\u001b[0m\n",
      "\u001b[0;31mNameError\u001b[0m: name 'training' is not defined"
     ]
    }
   ],
   "source": [
    "from pyspark.ml.classification import LogisticRegression\n",
    "lr = LogisticRegression(maxIter=10, regParam=0.3, elasticNetParam=0.8)\n",
    "lrModel = lr.fit(df)\n",
    "# Print the coefficients and intercept for logistic regression\n",
    "print(\"Coefficients: \" + str(lrModel.coefficients))\n",
    "print(\"Intercept: \" + str(lrModel.intercept))\n",
    "\n",
    "# We can also use the multinomial family for binary classification\n",
    "mlr = LogisticRegression(maxIter=10, regParam=0.3, elasticNetParam=0.8, family=\"multinomial\")\n",
    "\n",
    "# Fit the model\n",
    "mlrModel = mlr.fit(df)\n",
    "\n",
    "# Print the coefficients and intercepts for logistic regression with multinomial family\n",
    "print(\"Multinomial coefficients: \" + str(mlrModel.coefficientMatrix))\n",
    "print(\"Multinomial intercepts: \" + str(mlrModel.interceptVector))"
   ]
  },
  {
   "cell_type": "code",
   "execution_count": 113,
   "metadata": {},
   "outputs": [
    {
     "ename": "IllegalArgumentException",
     "evalue": "'Field \"features\" does not exist.'",
     "output_type": "error",
     "traceback": [
      "\u001b[0;31m---------------------------------------------------------------------------\u001b[0m",
      "\u001b[0;31mPy4JJavaError\u001b[0m                             Traceback (most recent call last)",
      "\u001b[0;32m~/anaconda3/envs/python3/lib/python3.6/site-packages/pyspark/sql/utils.py\u001b[0m in \u001b[0;36mdeco\u001b[0;34m(*a, **kw)\u001b[0m\n\u001b[1;32m     62\u001b[0m         \u001b[0;32mtry\u001b[0m\u001b[0;34m:\u001b[0m\u001b[0;34m\u001b[0m\u001b[0m\n\u001b[0;32m---> 63\u001b[0;31m             \u001b[0;32mreturn\u001b[0m \u001b[0mf\u001b[0m\u001b[0;34m(\u001b[0m\u001b[0;34m*\u001b[0m\u001b[0ma\u001b[0m\u001b[0;34m,\u001b[0m \u001b[0;34m**\u001b[0m\u001b[0mkw\u001b[0m\u001b[0;34m)\u001b[0m\u001b[0;34m\u001b[0m\u001b[0m\n\u001b[0m\u001b[1;32m     64\u001b[0m         \u001b[0;32mexcept\u001b[0m \u001b[0mpy4j\u001b[0m\u001b[0;34m.\u001b[0m\u001b[0mprotocol\u001b[0m\u001b[0;34m.\u001b[0m\u001b[0mPy4JJavaError\u001b[0m \u001b[0;32mas\u001b[0m \u001b[0me\u001b[0m\u001b[0;34m:\u001b[0m\u001b[0;34m\u001b[0m\u001b[0m\n",
      "\u001b[0;32m~/anaconda3/envs/python3/lib/python3.6/site-packages/py4j/protocol.py\u001b[0m in \u001b[0;36mget_return_value\u001b[0;34m(answer, gateway_client, target_id, name)\u001b[0m\n\u001b[1;32m    318\u001b[0m                     \u001b[0;34m\"An error occurred while calling {0}{1}{2}.\\n\"\u001b[0m\u001b[0;34m.\u001b[0m\u001b[0;34m\u001b[0m\u001b[0m\n\u001b[0;32m--> 319\u001b[0;31m                     format(target_id, \".\", name), value)\n\u001b[0m\u001b[1;32m    320\u001b[0m             \u001b[0;32melse\u001b[0m\u001b[0;34m:\u001b[0m\u001b[0;34m\u001b[0m\u001b[0m\n",
      "\u001b[0;31mPy4JJavaError\u001b[0m: An error occurred while calling o963.fit.\n: java.lang.IllegalArgumentException: Field \"features\" does not exist.\n\tat org.apache.spark.sql.types.StructType$$anonfun$apply$1.apply(StructType.scala:266)\n\tat org.apache.spark.sql.types.StructType$$anonfun$apply$1.apply(StructType.scala:266)\n\tat scala.collection.MapLike$class.getOrElse(MapLike.scala:128)\n\tat scala.collection.AbstractMap.getOrElse(Map.scala:59)\n\tat org.apache.spark.sql.types.StructType.apply(StructType.scala:265)\n\tat org.apache.spark.ml.util.SchemaUtils$.checkColumnType(SchemaUtils.scala:40)\n\tat org.apache.spark.ml.PredictorParams$class.validateAndTransformSchema(Predictor.scala:51)\n\tat org.apache.spark.ml.classification.Classifier.org$apache$spark$ml$classification$ClassifierParams$$super$validateAndTransformSchema(Classifier.scala:58)\n\tat org.apache.spark.ml.classification.ClassifierParams$class.validateAndTransformSchema(Classifier.scala:42)\n\tat org.apache.spark.ml.classification.ProbabilisticClassifier.org$apache$spark$ml$classification$ProbabilisticClassifierParams$$super$validateAndTransformSchema(ProbabilisticClassifier.scala:53)\n\tat org.apache.spark.ml.classification.ProbabilisticClassifierParams$class.validateAndTransformSchema(ProbabilisticClassifier.scala:37)\n\tat org.apache.spark.ml.classification.LogisticRegression.org$apache$spark$ml$classification$LogisticRegressionParams$$super$validateAndTransformSchema(LogisticRegression.scala:278)\n\tat org.apache.spark.ml.classification.LogisticRegressionParams$class.validateAndTransformSchema(LogisticRegression.scala:265)\n\tat org.apache.spark.ml.classification.LogisticRegression.validateAndTransformSchema(LogisticRegression.scala:278)\n\tat org.apache.spark.ml.Predictor.transformSchema(Predictor.scala:144)\n\tat org.apache.spark.ml.PipelineStage.transformSchema(Pipeline.scala:74)\n\tat org.apache.spark.ml.Predictor.fit(Predictor.scala:100)\n\tat sun.reflect.NativeMethodAccessorImpl.invoke0(Native Method)\n\tat sun.reflect.NativeMethodAccessorImpl.invoke(NativeMethodAccessorImpl.java:62)\n\tat sun.reflect.DelegatingMethodAccessorImpl.invoke(DelegatingMethodAccessorImpl.java:43)\n\tat java.lang.reflect.Method.invoke(Method.java:498)\n\tat py4j.reflection.MethodInvoker.invoke(MethodInvoker.java:244)\n\tat py4j.reflection.ReflectionEngine.invoke(ReflectionEngine.java:357)\n\tat py4j.Gateway.invoke(Gateway.java:280)\n\tat py4j.commands.AbstractCommand.invokeMethod(AbstractCommand.java:132)\n\tat py4j.commands.CallCommand.execute(CallCommand.java:79)\n\tat py4j.GatewayConnection.run(GatewayConnection.java:214)\n\tat java.lang.Thread.run(Thread.java:745)\n",
      "\nDuring handling of the above exception, another exception occurred:\n",
      "\u001b[0;31mIllegalArgumentException\u001b[0m                  Traceback (most recent call last)",
      "\u001b[0;32m<ipython-input-113-7d06ee34343a>\u001b[0m in \u001b[0;36m<module>\u001b[0;34m()\u001b[0m\n\u001b[1;32m      1\u001b[0m \u001b[0;32mfrom\u001b[0m \u001b[0mpyspark\u001b[0m\u001b[0;34m.\u001b[0m\u001b[0mml\u001b[0m\u001b[0;34m.\u001b[0m\u001b[0mclassification\u001b[0m \u001b[0;32mimport\u001b[0m \u001b[0mLogisticRegression\u001b[0m\u001b[0;34m\u001b[0m\u001b[0m\n\u001b[1;32m      2\u001b[0m \u001b[0mlr\u001b[0m \u001b[0;34m=\u001b[0m \u001b[0mLogisticRegression\u001b[0m\u001b[0;34m(\u001b[0m\u001b[0mmaxIter\u001b[0m\u001b[0;34m=\u001b[0m\u001b[0;36m10\u001b[0m\u001b[0;34m,\u001b[0m \u001b[0mregParam\u001b[0m\u001b[0;34m=\u001b[0m\u001b[0;36m0.3\u001b[0m\u001b[0;34m,\u001b[0m \u001b[0melasticNetParam\u001b[0m\u001b[0;34m=\u001b[0m\u001b[0;36m0.8\u001b[0m\u001b[0;34m)\u001b[0m\u001b[0;34m\u001b[0m\u001b[0m\n\u001b[0;32m----> 3\u001b[0;31m \u001b[0mlrModel\u001b[0m \u001b[0;34m=\u001b[0m \u001b[0mlr\u001b[0m\u001b[0;34m.\u001b[0m\u001b[0mfit\u001b[0m\u001b[0;34m(\u001b[0m\u001b[0mdf\u001b[0m\u001b[0;34m)\u001b[0m\u001b[0;34m\u001b[0m\u001b[0m\n\u001b[0m\u001b[1;32m      4\u001b[0m \u001b[0;31m# Print the coefficients and intercept for logistic regression\u001b[0m\u001b[0;34m\u001b[0m\u001b[0;34m\u001b[0m\u001b[0m\n\u001b[1;32m      5\u001b[0m \u001b[0mprint\u001b[0m\u001b[0;34m(\u001b[0m\u001b[0;34m\"Coefficients: \"\u001b[0m \u001b[0;34m+\u001b[0m \u001b[0mstr\u001b[0m\u001b[0;34m(\u001b[0m\u001b[0mlrModel\u001b[0m\u001b[0;34m.\u001b[0m\u001b[0mcoefficients\u001b[0m\u001b[0;34m)\u001b[0m\u001b[0;34m)\u001b[0m\u001b[0;34m\u001b[0m\u001b[0m\n",
      "\u001b[0;32m~/anaconda3/envs/python3/lib/python3.6/site-packages/pyspark/ml/base.py\u001b[0m in \u001b[0;36mfit\u001b[0;34m(self, dataset, params)\u001b[0m\n\u001b[1;32m     62\u001b[0m                 \u001b[0;32mreturn\u001b[0m \u001b[0mself\u001b[0m\u001b[0;34m.\u001b[0m\u001b[0mcopy\u001b[0m\u001b[0;34m(\u001b[0m\u001b[0mparams\u001b[0m\u001b[0;34m)\u001b[0m\u001b[0;34m.\u001b[0m\u001b[0m_fit\u001b[0m\u001b[0;34m(\u001b[0m\u001b[0mdataset\u001b[0m\u001b[0;34m)\u001b[0m\u001b[0;34m\u001b[0m\u001b[0m\n\u001b[1;32m     63\u001b[0m             \u001b[0;32melse\u001b[0m\u001b[0;34m:\u001b[0m\u001b[0;34m\u001b[0m\u001b[0m\n\u001b[0;32m---> 64\u001b[0;31m                 \u001b[0;32mreturn\u001b[0m \u001b[0mself\u001b[0m\u001b[0;34m.\u001b[0m\u001b[0m_fit\u001b[0m\u001b[0;34m(\u001b[0m\u001b[0mdataset\u001b[0m\u001b[0;34m)\u001b[0m\u001b[0;34m\u001b[0m\u001b[0m\n\u001b[0m\u001b[1;32m     65\u001b[0m         \u001b[0;32melse\u001b[0m\u001b[0;34m:\u001b[0m\u001b[0;34m\u001b[0m\u001b[0m\n\u001b[1;32m     66\u001b[0m             raise ValueError(\"Params must be either a param map or a list/tuple of param maps, \"\n",
      "\u001b[0;32m~/anaconda3/envs/python3/lib/python3.6/site-packages/pyspark/ml/wrapper.py\u001b[0m in \u001b[0;36m_fit\u001b[0;34m(self, dataset)\u001b[0m\n\u001b[1;32m    263\u001b[0m \u001b[0;34m\u001b[0m\u001b[0m\n\u001b[1;32m    264\u001b[0m     \u001b[0;32mdef\u001b[0m \u001b[0m_fit\u001b[0m\u001b[0;34m(\u001b[0m\u001b[0mself\u001b[0m\u001b[0;34m,\u001b[0m \u001b[0mdataset\u001b[0m\u001b[0;34m)\u001b[0m\u001b[0;34m:\u001b[0m\u001b[0;34m\u001b[0m\u001b[0m\n\u001b[0;32m--> 265\u001b[0;31m         \u001b[0mjava_model\u001b[0m \u001b[0;34m=\u001b[0m \u001b[0mself\u001b[0m\u001b[0;34m.\u001b[0m\u001b[0m_fit_java\u001b[0m\u001b[0;34m(\u001b[0m\u001b[0mdataset\u001b[0m\u001b[0;34m)\u001b[0m\u001b[0;34m\u001b[0m\u001b[0m\n\u001b[0m\u001b[1;32m    266\u001b[0m         \u001b[0;32mreturn\u001b[0m \u001b[0mself\u001b[0m\u001b[0;34m.\u001b[0m\u001b[0m_create_model\u001b[0m\u001b[0;34m(\u001b[0m\u001b[0mjava_model\u001b[0m\u001b[0;34m)\u001b[0m\u001b[0;34m\u001b[0m\u001b[0m\n\u001b[1;32m    267\u001b[0m \u001b[0;34m\u001b[0m\u001b[0m\n",
      "\u001b[0;32m~/anaconda3/envs/python3/lib/python3.6/site-packages/pyspark/ml/wrapper.py\u001b[0m in \u001b[0;36m_fit_java\u001b[0;34m(self, dataset)\u001b[0m\n\u001b[1;32m    260\u001b[0m         \"\"\"\n\u001b[1;32m    261\u001b[0m         \u001b[0mself\u001b[0m\u001b[0;34m.\u001b[0m\u001b[0m_transfer_params_to_java\u001b[0m\u001b[0;34m(\u001b[0m\u001b[0;34m)\u001b[0m\u001b[0;34m\u001b[0m\u001b[0m\n\u001b[0;32m--> 262\u001b[0;31m         \u001b[0;32mreturn\u001b[0m \u001b[0mself\u001b[0m\u001b[0;34m.\u001b[0m\u001b[0m_java_obj\u001b[0m\u001b[0;34m.\u001b[0m\u001b[0mfit\u001b[0m\u001b[0;34m(\u001b[0m\u001b[0mdataset\u001b[0m\u001b[0;34m.\u001b[0m\u001b[0m_jdf\u001b[0m\u001b[0;34m)\u001b[0m\u001b[0;34m\u001b[0m\u001b[0m\n\u001b[0m\u001b[1;32m    263\u001b[0m \u001b[0;34m\u001b[0m\u001b[0m\n\u001b[1;32m    264\u001b[0m     \u001b[0;32mdef\u001b[0m \u001b[0m_fit\u001b[0m\u001b[0;34m(\u001b[0m\u001b[0mself\u001b[0m\u001b[0;34m,\u001b[0m \u001b[0mdataset\u001b[0m\u001b[0;34m)\u001b[0m\u001b[0;34m:\u001b[0m\u001b[0;34m\u001b[0m\u001b[0m\n",
      "\u001b[0;32m~/anaconda3/envs/python3/lib/python3.6/site-packages/py4j/java_gateway.py\u001b[0m in \u001b[0;36m__call__\u001b[0;34m(self, *args)\u001b[0m\n\u001b[1;32m   1131\u001b[0m         \u001b[0manswer\u001b[0m \u001b[0;34m=\u001b[0m \u001b[0mself\u001b[0m\u001b[0;34m.\u001b[0m\u001b[0mgateway_client\u001b[0m\u001b[0;34m.\u001b[0m\u001b[0msend_command\u001b[0m\u001b[0;34m(\u001b[0m\u001b[0mcommand\u001b[0m\u001b[0;34m)\u001b[0m\u001b[0;34m\u001b[0m\u001b[0m\n\u001b[1;32m   1132\u001b[0m         return_value = get_return_value(\n\u001b[0;32m-> 1133\u001b[0;31m             answer, self.gateway_client, self.target_id, self.name)\n\u001b[0m\u001b[1;32m   1134\u001b[0m \u001b[0;34m\u001b[0m\u001b[0m\n\u001b[1;32m   1135\u001b[0m         \u001b[0;32mfor\u001b[0m \u001b[0mtemp_arg\u001b[0m \u001b[0;32min\u001b[0m \u001b[0mtemp_args\u001b[0m\u001b[0;34m:\u001b[0m\u001b[0;34m\u001b[0m\u001b[0m\n",
      "\u001b[0;32m~/anaconda3/envs/python3/lib/python3.6/site-packages/pyspark/sql/utils.py\u001b[0m in \u001b[0;36mdeco\u001b[0;34m(*a, **kw)\u001b[0m\n\u001b[1;32m     77\u001b[0m                 \u001b[0;32mraise\u001b[0m \u001b[0mQueryExecutionException\u001b[0m\u001b[0;34m(\u001b[0m\u001b[0ms\u001b[0m\u001b[0;34m.\u001b[0m\u001b[0msplit\u001b[0m\u001b[0;34m(\u001b[0m\u001b[0;34m': '\u001b[0m\u001b[0;34m,\u001b[0m \u001b[0;36m1\u001b[0m\u001b[0;34m)\u001b[0m\u001b[0;34m[\u001b[0m\u001b[0;36m1\u001b[0m\u001b[0;34m]\u001b[0m\u001b[0;34m,\u001b[0m \u001b[0mstackTrace\u001b[0m\u001b[0;34m)\u001b[0m\u001b[0;34m\u001b[0m\u001b[0m\n\u001b[1;32m     78\u001b[0m             \u001b[0;32mif\u001b[0m \u001b[0ms\u001b[0m\u001b[0;34m.\u001b[0m\u001b[0mstartswith\u001b[0m\u001b[0;34m(\u001b[0m\u001b[0;34m'java.lang.IllegalArgumentException: '\u001b[0m\u001b[0;34m)\u001b[0m\u001b[0;34m:\u001b[0m\u001b[0;34m\u001b[0m\u001b[0m\n\u001b[0;32m---> 79\u001b[0;31m                 \u001b[0;32mraise\u001b[0m \u001b[0mIllegalArgumentException\u001b[0m\u001b[0;34m(\u001b[0m\u001b[0ms\u001b[0m\u001b[0;34m.\u001b[0m\u001b[0msplit\u001b[0m\u001b[0;34m(\u001b[0m\u001b[0;34m': '\u001b[0m\u001b[0;34m,\u001b[0m \u001b[0;36m1\u001b[0m\u001b[0;34m)\u001b[0m\u001b[0;34m[\u001b[0m\u001b[0;36m1\u001b[0m\u001b[0;34m]\u001b[0m\u001b[0;34m,\u001b[0m \u001b[0mstackTrace\u001b[0m\u001b[0;34m)\u001b[0m\u001b[0;34m\u001b[0m\u001b[0m\n\u001b[0m\u001b[1;32m     80\u001b[0m             \u001b[0;32mraise\u001b[0m\u001b[0;34m\u001b[0m\u001b[0m\n\u001b[1;32m     81\u001b[0m     \u001b[0;32mreturn\u001b[0m \u001b[0mdeco\u001b[0m\u001b[0;34m\u001b[0m\u001b[0m\n",
      "\u001b[0;31mIllegalArgumentException\u001b[0m: 'Field \"features\" does not exist.'"
     ]
    }
   ],
   "source": [
    "from pyspark.ml.classification import LogisticRegression\n",
    "lr = LogisticRegression(maxIter=10, regParam=0.3, elasticNetParam=0.8)\n",
    "lrModel = lr.fit(df)\n",
    "# Print the coefficients and intercept for logistic regression\n",
    "print(\"Coefficients: \" + str(lrModel.coefficients))\n",
    "print(\"Intercept: \" + str(lrModel.intercept))\n",
    "\n",
    "# We can also use the multinomial family for binary classification\n",
    "mlr = LogisticRegression(maxIter=10, regParam=0.3, elasticNetParam=0.8, family=\"multinomial\")\n",
    "\n",
    "# Fit the model\n",
    "mlrModel = mlr.fit(df)\n",
    "\n",
    "# Print the coefficients and intercepts for logistic regression with multinomial family\n",
    "print(\"Multinomial coefficients: \" + str(mlrModel.coefficientMatrix))\n",
    "print(\"Multinomial intercepts: \" + str(mlrModel.interceptVector))"
   ]
  },
  {
   "cell_type": "code",
   "execution_count": 115,
   "metadata": {},
   "outputs": [
    {
     "data": {
      "text/plain": [
       "27720683"
      ]
     },
     "execution_count": 115,
     "metadata": {},
     "output_type": "execute_result"
    }
   ],
   "source": [
    "#Load the Merged data\n",
    "df = sqlContext.read.format('com.databricks.spark.csv').options(header='true').load('all_mortality.csv', schema=schema_T)\n",
    "df.count()"
   ]
  },
  {
   "cell_type": "code",
   "execution_count": 116,
   "metadata": {},
   "outputs": [
    {
     "data": {
      "text/plain": [
       "27720683"
      ]
     },
     "execution_count": 116,
     "metadata": {},
     "output_type": "execute_result"
    }
   ],
   "source": [
    "df.count()"
   ]
  },
  {
   "cell_type": "code",
   "execution_count": null,
   "metadata": {},
   "outputs": [],
   "source": [
    "df.count()\n"
   ]
  },
  {
   "cell_type": "code",
   "execution_count": 126,
   "metadata": {},
   "outputs": [
    {
     "ename": "IllegalArgumentException",
     "evalue": "\"requirement failed: The number of columns doesn't match.\\nOld column names (77): resident_status, education_eithy_nine, education_o_three, education_flag, month_of_death, sex, detail_age_type, detail_age, age_substitution_flag, age_recode_fifty_two, age_recode_twenty_seven, age_recode_twelve, infant_age_recode_twenty_two, place_of_death_and_decedents_status, marital_status, day_of_week_of_death, current_data_year, injury_at_work, manner_of_death, method_of_disposition, autopsy, activity_code, place_of_injury_for_causes, icd_code_tenth_revision, three_fifty_eight_cause_recode, one_thirteen_cause_recode , one_thirty_infant_cause_recode, thirty_nine_cause_recode , number_of_entity_axis_conditions , entity_condition_one, entity_condition_two, entity_condition_three, entity_condition_four, entity_condition_five, entity_condition_six, entity_condition_seven, entity_condition_eight, entity_condition_nine, entity_condition_ten, entity_condition_eleven, entity_condition_twelve, entity_condition_thirteen, entity_condition_fourteen, entity_condition_fifteen, entity_condition_sixteen, entity_condition_seventeen, entity_condition_eighteen, entity_condition_nineteen, entity_condition_twenty, number_of_record_axis_conditions, record_condition_one, record_condition_two, record_condition_three, record_condition_four, record_condition_five, record_condition_six, record_condition_seven, record_condition_eight, record_condition_nine, record_condition_ten, record_condition_eleven, record_condition_twelve, record_condition_thirteen, record_condition_fourteen, record_condition_fifteen, record_condition_sixteen, record_condition_seventeen, record_condition_eighteen, record_condition_nineteen, record_condition_twenty, race, bridged_race_flag, race_imputation_flag, race_recode_three, race_recode_five, hispanic_origin, hispanic_originrace_recode\\nNew column names (0): \"",
     "output_type": "error",
     "traceback": [
      "\u001b[0;31m---------------------------------------------------------------------------\u001b[0m",
      "\u001b[0;31mPy4JJavaError\u001b[0m                             Traceback (most recent call last)",
      "\u001b[0;32m~/anaconda3/envs/python3/lib/python3.6/site-packages/pyspark/sql/utils.py\u001b[0m in \u001b[0;36mdeco\u001b[0;34m(*a, **kw)\u001b[0m\n\u001b[1;32m     62\u001b[0m         \u001b[0;32mtry\u001b[0m\u001b[0;34m:\u001b[0m\u001b[0;34m\u001b[0m\u001b[0m\n\u001b[0;32m---> 63\u001b[0;31m             \u001b[0;32mreturn\u001b[0m \u001b[0mf\u001b[0m\u001b[0;34m(\u001b[0m\u001b[0;34m*\u001b[0m\u001b[0ma\u001b[0m\u001b[0;34m,\u001b[0m \u001b[0;34m**\u001b[0m\u001b[0mkw\u001b[0m\u001b[0;34m)\u001b[0m\u001b[0;34m\u001b[0m\u001b[0m\n\u001b[0m\u001b[1;32m     64\u001b[0m         \u001b[0;32mexcept\u001b[0m \u001b[0mpy4j\u001b[0m\u001b[0;34m.\u001b[0m\u001b[0mprotocol\u001b[0m\u001b[0;34m.\u001b[0m\u001b[0mPy4JJavaError\u001b[0m \u001b[0;32mas\u001b[0m \u001b[0me\u001b[0m\u001b[0;34m:\u001b[0m\u001b[0;34m\u001b[0m\u001b[0m\n",
      "\u001b[0;32m~/anaconda3/envs/python3/lib/python3.6/site-packages/py4j/protocol.py\u001b[0m in \u001b[0;36mget_return_value\u001b[0;34m(answer, gateway_client, target_id, name)\u001b[0m\n\u001b[1;32m    318\u001b[0m                     \u001b[0;34m\"An error occurred while calling {0}{1}{2}.\\n\"\u001b[0m\u001b[0;34m.\u001b[0m\u001b[0;34m\u001b[0m\u001b[0m\n\u001b[0;32m--> 319\u001b[0;31m                     format(target_id, \".\", name), value)\n\u001b[0m\u001b[1;32m    320\u001b[0m             \u001b[0;32melse\u001b[0m\u001b[0;34m:\u001b[0m\u001b[0;34m\u001b[0m\u001b[0m\n",
      "\u001b[0;31mPy4JJavaError\u001b[0m: An error occurred while calling o1041.toDF.\n: java.lang.IllegalArgumentException: requirement failed: The number of columns doesn't match.\nOld column names (77): resident_status, education_eithy_nine, education_o_three, education_flag, month_of_death, sex, detail_age_type, detail_age, age_substitution_flag, age_recode_fifty_two, age_recode_twenty_seven, age_recode_twelve, infant_age_recode_twenty_two, place_of_death_and_decedents_status, marital_status, day_of_week_of_death, current_data_year, injury_at_work, manner_of_death, method_of_disposition, autopsy, activity_code, place_of_injury_for_causes, icd_code_tenth_revision, three_fifty_eight_cause_recode, one_thirteen_cause_recode , one_thirty_infant_cause_recode, thirty_nine_cause_recode , number_of_entity_axis_conditions , entity_condition_one, entity_condition_two, entity_condition_three, entity_condition_four, entity_condition_five, entity_condition_six, entity_condition_seven, entity_condition_eight, entity_condition_nine, entity_condition_ten, entity_condition_eleven, entity_condition_twelve, entity_condition_thirteen, entity_condition_fourteen, entity_condition_fifteen, entity_condition_sixteen, entity_condition_seventeen, entity_condition_eighteen, entity_condition_nineteen, entity_condition_twenty, number_of_record_axis_conditions, record_condition_one, record_condition_two, record_condition_three, record_condition_four, record_condition_five, record_condition_six, record_condition_seven, record_condition_eight, record_condition_nine, record_condition_ten, record_condition_eleven, record_condition_twelve, record_condition_thirteen, record_condition_fourteen, record_condition_fifteen, record_condition_sixteen, record_condition_seventeen, record_condition_eighteen, record_condition_nineteen, record_condition_twenty, race, bridged_race_flag, race_imputation_flag, race_recode_three, race_recode_five, hispanic_origin, hispanic_originrace_recode\nNew column names (0): \n\tat scala.Predef$.require(Predef.scala:224)\n\tat org.apache.spark.sql.Dataset.toDF(Dataset.scala:393)\n\tat sun.reflect.NativeMethodAccessorImpl.invoke0(Native Method)\n\tat sun.reflect.NativeMethodAccessorImpl.invoke(NativeMethodAccessorImpl.java:62)\n\tat sun.reflect.DelegatingMethodAccessorImpl.invoke(DelegatingMethodAccessorImpl.java:43)\n\tat java.lang.reflect.Method.invoke(Method.java:498)\n\tat py4j.reflection.MethodInvoker.invoke(MethodInvoker.java:244)\n\tat py4j.reflection.ReflectionEngine.invoke(ReflectionEngine.java:357)\n\tat py4j.Gateway.invoke(Gateway.java:280)\n\tat py4j.commands.AbstractCommand.invokeMethod(AbstractCommand.java:132)\n\tat py4j.commands.CallCommand.execute(CallCommand.java:79)\n\tat py4j.GatewayConnection.run(GatewayConnection.java:214)\n\tat java.lang.Thread.run(Thread.java:745)\n",
      "\nDuring handling of the above exception, another exception occurred:\n",
      "\u001b[0;31mIllegalArgumentException\u001b[0m                  Traceback (most recent call last)",
      "\u001b[0;32m<ipython-input-126-b7bcb2dc8df8>\u001b[0m in \u001b[0;36m<module>\u001b[0;34m()\u001b[0m\n\u001b[0;32m----> 1\u001b[0;31m \u001b[0mnew_df\u001b[0m \u001b[0;34m=\u001b[0m \u001b[0mdf\u001b[0m\u001b[0;34m.\u001b[0m\u001b[0mtoDF\u001b[0m\u001b[0;34m(\u001b[0m\u001b[0;34m)\u001b[0m\u001b[0;34m\u001b[0m\u001b[0m\n\u001b[0m",
      "\u001b[0;32m~/anaconda3/envs/python3/lib/python3.6/site-packages/pyspark/sql/dataframe.py\u001b[0m in \u001b[0;36mtoDF\u001b[0;34m(self, *cols)\u001b[0m\n\u001b[1;32m   1683\u001b[0m         \u001b[0;34m[\u001b[0m\u001b[0mRow\u001b[0m\u001b[0;34m(\u001b[0m\u001b[0mf1\u001b[0m\u001b[0;34m=\u001b[0m\u001b[0;36m2\u001b[0m\u001b[0;34m,\u001b[0m \u001b[0mf2\u001b[0m\u001b[0;34m=\u001b[0m\u001b[0;34mu'Alice'\u001b[0m\u001b[0;34m)\u001b[0m\u001b[0;34m,\u001b[0m \u001b[0mRow\u001b[0m\u001b[0;34m(\u001b[0m\u001b[0mf1\u001b[0m\u001b[0;34m=\u001b[0m\u001b[0;36m5\u001b[0m\u001b[0;34m,\u001b[0m \u001b[0mf2\u001b[0m\u001b[0;34m=\u001b[0m\u001b[0;34mu'Bob'\u001b[0m\u001b[0;34m)\u001b[0m\u001b[0;34m]\u001b[0m\u001b[0;34m\u001b[0m\u001b[0m\n\u001b[1;32m   1684\u001b[0m         \"\"\"\n\u001b[0;32m-> 1685\u001b[0;31m         \u001b[0mjdf\u001b[0m \u001b[0;34m=\u001b[0m \u001b[0mself\u001b[0m\u001b[0;34m.\u001b[0m\u001b[0m_jdf\u001b[0m\u001b[0;34m.\u001b[0m\u001b[0mtoDF\u001b[0m\u001b[0;34m(\u001b[0m\u001b[0mself\u001b[0m\u001b[0;34m.\u001b[0m\u001b[0m_jseq\u001b[0m\u001b[0;34m(\u001b[0m\u001b[0mcols\u001b[0m\u001b[0;34m)\u001b[0m\u001b[0;34m)\u001b[0m\u001b[0;34m\u001b[0m\u001b[0m\n\u001b[0m\u001b[1;32m   1686\u001b[0m         \u001b[0;32mreturn\u001b[0m \u001b[0mDataFrame\u001b[0m\u001b[0;34m(\u001b[0m\u001b[0mjdf\u001b[0m\u001b[0;34m,\u001b[0m \u001b[0mself\u001b[0m\u001b[0;34m.\u001b[0m\u001b[0msql_ctx\u001b[0m\u001b[0;34m)\u001b[0m\u001b[0;34m\u001b[0m\u001b[0m\n\u001b[1;32m   1687\u001b[0m \u001b[0;34m\u001b[0m\u001b[0m\n",
      "\u001b[0;32m~/anaconda3/envs/python3/lib/python3.6/site-packages/py4j/java_gateway.py\u001b[0m in \u001b[0;36m__call__\u001b[0;34m(self, *args)\u001b[0m\n\u001b[1;32m   1131\u001b[0m         \u001b[0manswer\u001b[0m \u001b[0;34m=\u001b[0m \u001b[0mself\u001b[0m\u001b[0;34m.\u001b[0m\u001b[0mgateway_client\u001b[0m\u001b[0;34m.\u001b[0m\u001b[0msend_command\u001b[0m\u001b[0;34m(\u001b[0m\u001b[0mcommand\u001b[0m\u001b[0;34m)\u001b[0m\u001b[0;34m\u001b[0m\u001b[0m\n\u001b[1;32m   1132\u001b[0m         return_value = get_return_value(\n\u001b[0;32m-> 1133\u001b[0;31m             answer, self.gateway_client, self.target_id, self.name)\n\u001b[0m\u001b[1;32m   1134\u001b[0m \u001b[0;34m\u001b[0m\u001b[0m\n\u001b[1;32m   1135\u001b[0m         \u001b[0;32mfor\u001b[0m \u001b[0mtemp_arg\u001b[0m \u001b[0;32min\u001b[0m \u001b[0mtemp_args\u001b[0m\u001b[0;34m:\u001b[0m\u001b[0;34m\u001b[0m\u001b[0m\n",
      "\u001b[0;32m~/anaconda3/envs/python3/lib/python3.6/site-packages/pyspark/sql/utils.py\u001b[0m in \u001b[0;36mdeco\u001b[0;34m(*a, **kw)\u001b[0m\n\u001b[1;32m     77\u001b[0m                 \u001b[0;32mraise\u001b[0m \u001b[0mQueryExecutionException\u001b[0m\u001b[0;34m(\u001b[0m\u001b[0ms\u001b[0m\u001b[0;34m.\u001b[0m\u001b[0msplit\u001b[0m\u001b[0;34m(\u001b[0m\u001b[0;34m': '\u001b[0m\u001b[0;34m,\u001b[0m \u001b[0;36m1\u001b[0m\u001b[0;34m)\u001b[0m\u001b[0;34m[\u001b[0m\u001b[0;36m1\u001b[0m\u001b[0;34m]\u001b[0m\u001b[0;34m,\u001b[0m \u001b[0mstackTrace\u001b[0m\u001b[0;34m)\u001b[0m\u001b[0;34m\u001b[0m\u001b[0m\n\u001b[1;32m     78\u001b[0m             \u001b[0;32mif\u001b[0m \u001b[0ms\u001b[0m\u001b[0;34m.\u001b[0m\u001b[0mstartswith\u001b[0m\u001b[0;34m(\u001b[0m\u001b[0;34m'java.lang.IllegalArgumentException: '\u001b[0m\u001b[0;34m)\u001b[0m\u001b[0;34m:\u001b[0m\u001b[0;34m\u001b[0m\u001b[0m\n\u001b[0;32m---> 79\u001b[0;31m                 \u001b[0;32mraise\u001b[0m \u001b[0mIllegalArgumentException\u001b[0m\u001b[0;34m(\u001b[0m\u001b[0ms\u001b[0m\u001b[0;34m.\u001b[0m\u001b[0msplit\u001b[0m\u001b[0;34m(\u001b[0m\u001b[0;34m': '\u001b[0m\u001b[0;34m,\u001b[0m \u001b[0;36m1\u001b[0m\u001b[0;34m)\u001b[0m\u001b[0;34m[\u001b[0m\u001b[0;36m1\u001b[0m\u001b[0;34m]\u001b[0m\u001b[0;34m,\u001b[0m \u001b[0mstackTrace\u001b[0m\u001b[0;34m)\u001b[0m\u001b[0;34m\u001b[0m\u001b[0m\n\u001b[0m\u001b[1;32m     80\u001b[0m             \u001b[0;32mraise\u001b[0m\u001b[0;34m\u001b[0m\u001b[0m\n\u001b[1;32m     81\u001b[0m     \u001b[0;32mreturn\u001b[0m \u001b[0mdeco\u001b[0m\u001b[0;34m\u001b[0m\u001b[0m\n",
      "\u001b[0;31mIllegalArgumentException\u001b[0m: \"requirement failed: The number of columns doesn't match.\\nOld column names (77): resident_status, education_eithy_nine, education_o_three, education_flag, month_of_death, sex, detail_age_type, detail_age, age_substitution_flag, age_recode_fifty_two, age_recode_twenty_seven, age_recode_twelve, infant_age_recode_twenty_two, place_of_death_and_decedents_status, marital_status, day_of_week_of_death, current_data_year, injury_at_work, manner_of_death, method_of_disposition, autopsy, activity_code, place_of_injury_for_causes, icd_code_tenth_revision, three_fifty_eight_cause_recode, one_thirteen_cause_recode , one_thirty_infant_cause_recode, thirty_nine_cause_recode , number_of_entity_axis_conditions , entity_condition_one, entity_condition_two, entity_condition_three, entity_condition_four, entity_condition_five, entity_condition_six, entity_condition_seven, entity_condition_eight, entity_condition_nine, entity_condition_ten, entity_condition_eleven, entity_condition_twelve, entity_condition_thirteen, entity_condition_fourteen, entity_condition_fifteen, entity_condition_sixteen, entity_condition_seventeen, entity_condition_eighteen, entity_condition_nineteen, entity_condition_twenty, number_of_record_axis_conditions, record_condition_one, record_condition_two, record_condition_three, record_condition_four, record_condition_five, record_condition_six, record_condition_seven, record_condition_eight, record_condition_nine, record_condition_ten, record_condition_eleven, record_condition_twelve, record_condition_thirteen, record_condition_fourteen, record_condition_fifteen, record_condition_sixteen, record_condition_seventeen, record_condition_eighteen, record_condition_nineteen, record_condition_twenty, race, bridged_race_flag, race_imputation_flag, race_recode_three, race_recode_five, hispanic_origin, hispanic_originrace_recode\\nNew column names (0): \""
     ]
    }
   ],
   "source": [
    "new_df = df.toDF()"
   ]
  },
  {
   "cell_type": "code",
   "execution_count": 125,
   "metadata": {},
   "outputs": [
    {
     "ename": "AttributeError",
     "evalue": "'function' object has no attribute 'printSchema'",
     "output_type": "error",
     "traceback": [
      "\u001b[0;31m---------------------------------------------------------------------------\u001b[0m",
      "\u001b[0;31mAttributeError\u001b[0m                            Traceback (most recent call last)",
      "\u001b[0;32m<ipython-input-125-5cfebb8afdb5>\u001b[0m in \u001b[0;36m<module>\u001b[0;34m()\u001b[0m\n\u001b[0;32m----> 1\u001b[0;31m \u001b[0mnew_df\u001b[0m\u001b[0;34m.\u001b[0m\u001b[0mprintSchema\u001b[0m\u001b[0;34m(\u001b[0m\u001b[0;34m)\u001b[0m\u001b[0;34m\u001b[0m\u001b[0m\n\u001b[0m",
      "\u001b[0;31mAttributeError\u001b[0m: 'function' object has no attribute 'printSchema'"
     ]
    }
   ],
   "source": [
    "new_df.printSchema()"
   ]
  },
  {
   "cell_type": "code",
   "execution_count": 118,
   "metadata": {},
   "outputs": [
    {
     "name": "stdout",
     "output_type": "stream",
     "text": [
      "+---------------+--------------------+-----------------+--------------+--------------+---+---------------+----------+---------------------+--------------------+-----------------------+-----------------+----------------------------+-----------------------------------+--------------+--------------------+-----------------+--------------+---------------+---------------------+-------+-------------+--------------------------+-----------------------+------------------------------+--------------------------+------------------------------+-------------------------+---------------------------------+--------------------+--------------------+----------------------+---------------------+---------------------+--------------------+----------------------+----------------------+---------------------+--------------------+-----------------------+-----------------------+-------------------------+-------------------------+------------------------+------------------------+--------------------------+-------------------------+-------------------------+-----------------------+--------------------------------+--------------------+--------------------+----------------------+---------------------+---------------------+--------------------+----------------------+----------------------+---------------------+--------------------+-----------------------+-----------------------+-------------------------+-------------------------+------------------------+------------------------+--------------------------+-------------------------+-------------------------+-----------------------+----+-----------------+--------------------+-----------------+----------------+---------------+--------------------------+\n",
      "|resident_status|education_eithy_nine|education_o_three|education_flag|month_of_death|sex|detail_age_type|detail_age|age_substitution_flag|age_recode_fifty_two|age_recode_twenty_seven|age_recode_twelve|infant_age_recode_twenty_two|place_of_death_and_decedents_status|marital_status|day_of_week_of_death|current_data_year|injury_at_work|manner_of_death|method_of_disposition|autopsy|activity_code|place_of_injury_for_causes|icd_code_tenth_revision|three_fifty_eight_cause_recode|one_thirteen_cause_recode |one_thirty_infant_cause_recode|thirty_nine_cause_recode |number_of_entity_axis_conditions |entity_condition_one|entity_condition_two|entity_condition_three|entity_condition_four|entity_condition_five|entity_condition_six|entity_condition_seven|entity_condition_eight|entity_condition_nine|entity_condition_ten|entity_condition_eleven|entity_condition_twelve|entity_condition_thirteen|entity_condition_fourteen|entity_condition_fifteen|entity_condition_sixteen|entity_condition_seventeen|entity_condition_eighteen|entity_condition_nineteen|entity_condition_twenty|number_of_record_axis_conditions|record_condition_one|record_condition_two|record_condition_three|record_condition_four|record_condition_five|record_condition_six|record_condition_seven|record_condition_eight|record_condition_nine|record_condition_ten|record_condition_eleven|record_condition_twelve|record_condition_thirteen|record_condition_fourteen|record_condition_fifteen|record_condition_sixteen|record_condition_seventeen|record_condition_eighteen|record_condition_nineteen|record_condition_twenty|race|bridged_race_flag|race_imputation_flag|race_recode_three|race_recode_five|hispanic_origin|hispanic_originrace_recode|\n",
      "+---------------+--------------------+-----------------+--------------+--------------+---+---------------+----------+---------------------+--------------------+-----------------------+-----------------+----------------------------+-----------------------------------+--------------+--------------------+-----------------+--------------+---------------+---------------------+-------+-------------+--------------------------+-----------------------+------------------------------+--------------------------+------------------------------+-------------------------+---------------------------------+--------------------+--------------------+----------------------+---------------------+---------------------+--------------------+----------------------+----------------------+---------------------+--------------------+-----------------------+-----------------------+-------------------------+-------------------------+------------------------+------------------------+--------------------------+-------------------------+-------------------------+-----------------------+--------------------------------+--------------------+--------------------+----------------------+---------------------+---------------------+--------------------+----------------------+----------------------+---------------------+--------------------+-----------------------+-----------------------+-------------------------+-------------------------+------------------------+------------------------+--------------------------+-------------------------+-------------------------+-----------------------+----+-----------------+--------------------+-----------------+----------------+---------------+--------------------------+\n",
      "|              1|                  11|                0|             0|             1|  F|              1|        45|                    0|                  35|                     15|                7|                           0|                                  1|             M|                   2|             2005|             U|              7|                    U|      N|            0|                         0|                   C439|                            98|                        28|                             0|                       15|                                1|              11C439|                null|                  null|                 null|                 null|                null|                  null|                  null|                 null|                null|                   null|                   null|                     null|                     null|                    null|                    null|                      null|                     null|                     null|                   null|                               1|                C439|                null|                  null|                 null|                 null|                null|                  null|                  null|                 null|                null|                   null|                   null|                     null|                     null|                    null|                    null|                      null|                     null|                     null|                   null|   1|                0|                   0|                1|               1|            100|                         6|\n",
      "|              1|                  13|                0|             0|             1|  M|              1|        61|                    0|                  38|                     18|                8|                           0|                                  1|             D|                   7|             2005|             U|              7|                    U|      N|            0|                         0|                   J439|                           266|                        84|                             0|                       28|                                1|              11J439|                null|                  null|                 null|                 null|                null|                  null|                  null|                 null|                null|                   null|                   null|                     null|                     null|                    null|                    null|                      null|                     null|                     null|                   null|                               1|                J439|                null|                  null|                 null|                 null|                null|                  null|                  null|                 null|                null|                   null|                   null|                     null|                     null|                    null|                    null|                      null|                     null|                     null|                   null|   1|                0|                   0|                1|               1|            100|                         6|\n",
      "|              1|                  12|                0|             0|             1|  F|              1|        79|                    0|                  41|                     21|               10|                           0|                                  6|             D|                   1|             2005|             U|              7|                    U|      N|            0|                         0|                   I698|                           239|                        70|                             0|                       24|                                5|              11R628|              21I698|                61J449|               62M199|               63R568|                null|                  null|                  null|                 null|                null|                   null|                   null|                     null|                     null|                    null|                    null|                      null|                     null|                     null|                   null|                               5|                I698|                J449|                  M199|                 R568|                 R628|                null|                  null|                  null|                 null|                null|                   null|                   null|                     null|                     null|                    null|                    null|                      null|                     null|                     null|                   null|   1|                0|                   0|                1|               1|            100|                         6|\n",
      "|              1|                  12|                0|             0|             1|  M|              1|        50|                    0|                  36|                     16|                7|                           0|                                  1|             S|                   4|             2005|             U|              7|                    U|      N|            0|                         0|                   E119|                           159|                        46|                             0|                       16|                                4|              11I469|              61E119|                62I500|               63K862|                 null|                null|                  null|                  null|                 null|                null|                   null|                   null|                     null|                     null|                    null|                    null|                      null|                     null|                     null|                   null|                               4|                E119|                I469|                  I500|                 K862|                 null|                null|                  null|                  null|                 null|                null|                   null|                   null|                     null|                     null|                    null|                    null|                      null|                     null|                     null|                   null|   1|                0|                   0|                1|               1|            100|                         6|\n",
      "|              1|                  14|                0|             0|             1|  F|              1|        68|                    0|                  39|                     19|                9|                           0|                                  1|             M|                   2|             2005|             U|              7|                    U|      N|            0|                         0|                   C349|                            93|                        27|                             0|                        8|                                3|              11C349|              61F179|                62J449|                 null|                 null|                null|                  null|                  null|                 null|                null|                   null|                   null|                     null|                     null|                    null|                    null|                      null|                     null|                     null|                   null|                               3|                C349|                F179|                  J449|                 null|                 null|                null|                  null|                  null|                 null|                null|                   null|                   null|                     null|                     null|                    null|                    null|                      null|                     null|                     null|                   null|   1|                0|                   0|                1|               1|            100|                         6|\n",
      "|              1|                   3|                0|             0|             1|  F|              1|        89|                    0|                  43|                     23|               11|                           0|                                  6|             W|                   7|             2005|             U|              7|                    U|      N|            0|                         0|                   I679|                           239|                        70|                             0|                       24|                                3|               11N19|              21I679|                 61F03|                 null|                 null|                null|                  null|                  null|                 null|                null|                   null|                   null|                     null|                     null|                    null|                    null|                      null|                     null|                     null|                   null|                               3|                 F03|                I679|                   N19|                 null|                 null|                null|                  null|                  null|                 null|                null|                   null|                   null|                     null|                     null|                    null|                    null|                      null|                     null|                     null|                   null|   3|                0|                   0|                2|               3|            100|                         8|\n",
      "|              1|                  12|                0|             0|             1|  F|              1|        68|                    0|                  39|                     19|                9|                           0|                                  1|             D|                   7|             2005|             U|              7|                    U|      N|            0|                         0|                   J439|                           266|                        84|                             0|                       28|                                1|              11J439|                null|                  null|                 null|                 null|                null|                  null|                  null|                 null|                null|                   null|                   null|                     null|                     null|                    null|                    null|                      null|                     null|                     null|                   null|                               1|                J439|                null|                  null|                 null|                 null|                null|                  null|                  null|                 null|                null|                   null|                   null|                     null|                     null|                    null|                    null|                      null|                     null|                     null|                   null|   1|                0|                   0|                1|               1|            100|                         6|\n",
      "|              1|                  12|                0|             0|             1|  M|              1|        61|                    0|                  38|                     18|                8|                           0|                                  1|             S|                   6|             2005|             U|              7|                    U|      N|            0|                         0|                   J449|                           267|                        86|                             0|                       28|                                3|              11I279|              21J449|                61F102|                 null|                 null|                null|                  null|                  null|                 null|                null|                   null|                   null|                     null|                     null|                    null|                    null|                      null|                     null|                     null|                   null|                               3|                F102|                I279|                  J449|                 null|                 null|                null|                  null|                  null|                 null|                null|                   null|                   null|                     null|                     null|                    null|                    null|                      null|                     null|                     null|                   null|   3|                0|                   0|                2|               3|            100|                         8|\n",
      "|              1|                  14|                0|             0|             1|  F|              1|        73|                    0|                  40|                     20|                9|                           0|                                  1|             D|                   6|             2005|             U|              7|                    U|      N|            0|                         0|                   J439|                           266|                        84|                             0|                       28|                                1|              11J439|                null|                  null|                 null|                 null|                null|                  null|                  null|                 null|                null|                   null|                   null|                     null|                     null|                    null|                    null|                      null|                     null|                     null|                   null|                               1|                J439|                null|                  null|                 null|                 null|                null|                  null|                  null|                 null|                null|                   null|                   null|                     null|                     null|                    null|                    null|                      null|                     null|                     null|                   null|   1|                0|                   0|                1|               1|            100|                         6|\n",
      "|              3|                   8|                0|             0|             1|  F|              1|        85|                    0|                  43|                     23|               11|                           0|                                  7|             W|                   6|             2005|             U|              7|                    U|      N|            0|                         0|                    C80|                           125|                        43|                             0|                       15|                                1|               11C80|                null|                  null|                 null|                 null|                null|                  null|                  null|                 null|                null|                   null|                   null|                     null|                     null|                    null|                    null|                      null|                     null|                     null|                   null|                               1|                 C80|                null|                  null|                 null|                 null|                null|                  null|                  null|                 null|                null|                   null|                   null|                     null|                     null|                    null|                    null|                      null|                     null|                     null|                   null|   1|                0|                   0|                1|               1|            100|                         6|\n",
      "|              1|                   3|                0|             0|             1|  F|              1|        93|                    0|                  44|                     24|               11|                           0|                                  6|             W|                   7|             2005|             U|              7|                    U|      N|            0|                         0|                    R99|                           379|                       110|                             0|                       36|                                1|               11R99|                null|                  null|                 null|                 null|                null|                  null|                  null|                 null|                null|                   null|                   null|                     null|                     null|                    null|                    null|                      null|                     null|                     null|                   null|                               1|                 R99|                null|                  null|                 null|                 null|                null|                  null|                  null|                 null|                null|                   null|                   null|                     null|                     null|                    null|                    null|                      null|                     null|                     null|                   null|   3|                0|                   0|                2|               3|            100|                         8|\n",
      "|              1|                  11|                0|             0|             1|  M|              1|        77|                    0|                  41|                     21|               10|                           0|                                  1|             M|                   4|             2005|             U|              7|                    U|      N|            0|                         0|                   C189|                            81|                        23|                             0|                        6|                                3|              11C189|              21C189|                 61F03|                 null|                 null|                null|                  null|                  null|                 null|                null|                   null|                   null|                     null|                     null|                    null|                    null|                      null|                     null|                     null|                   null|                               2|                C189|                 F03|                  null|                 null|                 null|                null|                  null|                  null|                 null|                null|                   null|                   null|                     null|                     null|                    null|                    null|                      null|                     null|                     null|                   null|   2|                0|                   0|                3|               2|            100|                         7|\n",
      "|              1|                   6|                0|             0|             1|  M|              1|        78|                    0|                  41|                     21|               10|                           0|                                  1|             D|                   2|             2005|             U|              7|                    U|      N|            0|                         0|                   J449|                           267|                        86|                             0|                       28|                                2|              11J969|              21J449|                  null|                 null|                 null|                null|                  null|                  null|                 null|                null|                   null|                   null|                     null|                     null|                    null|                    null|                      null|                     null|                     null|                   null|                               2|                J449|                J969|                  null|                 null|                 null|                null|                  null|                  null|                 null|                null|                   null|                   null|                     null|                     null|                    null|                    null|                      null|                     null|                     null|                   null|   1|                0|                   0|                1|               1|            100|                         6|\n",
      "|              1|                  14|                0|             0|             1|  M|              1|        48|                    0|                  35|                     15|                7|                           0|                                  1|             M|                   3|             2005|             U|              7|                    U|      N|            0|                         0|                   C439|                            98|                        28|                             0|                       15|                                1|              11C439|                null|                  null|                 null|                 null|                null|                  null|                  null|                 null|                null|                   null|                   null|                     null|                     null|                    null|                    null|                      null|                     null|                     null|                   null|                               1|                C439|                null|                  null|                 null|                 null|                null|                  null|                  null|                 null|                null|                   null|                   null|                     null|                     null|                    null|                    null|                      null|                     null|                     null|                   null|   1|                0|                   0|                1|               1|            100|                         6|\n",
      "|              1|                  12|                0|             0|             1|  M|              1|        78|                    0|                  41|                     21|               10|                           0|                                  1|             W|                   2|             2005|             U|              7|                    U|      N|            0|                         0|                   J849|                           278|                        89|                             0|                       37|                                8|              11J969|              21J849|                61J189|               62M819|               63M844|               64I64|                65I251|                 66C61|                 null|                null|                   null|                   null|                     null|                     null|                    null|                    null|                      null|                     null|                     null|                   null|                               7|                 C61|                I251|                   I64|                 J189|                 J849|                J969|                  M809|                  null|                 null|                null|                   null|                   null|                     null|                     null|                    null|                    null|                      null|                     null|                     null|                   null|   1|                0|                   0|                1|               1|            100|                         6|\n",
      "|              1|                  12|                0|             0|             1|  F|              1|        59|                    0|                  37|                     17|                8|                           0|                                  1|             M|                   4|             2005|             U|              7|                    U|      N|            0|                         0|                   C349|                            93|                        27|                             0|                        8|                                3|              11C349|              61J459|                 62N19|                 null|                 null|                null|                  null|                  null|                 null|                null|                   null|                   null|                     null|                     null|                    null|                    null|                      null|                     null|                     null|                   null|                               3|                C349|                J459|                   N19|                 null|                 null|                null|                  null|                  null|                 null|                null|                   null|                   null|                     null|                     null|                    null|                    null|                      null|                     null|                     null|                   null|   1|                0|                   0|                1|               1|            100|                         6|\n",
      "|              1|                   8|                0|             0|             1|  M|              1|        77|                    0|                  41|                     21|               10|                           0|                                  6|             M|                   6|             2005|             U|              7|                    U|      N|            9|                         9|                    X59|                           423|                       123|                             0|                       39|                                3|              11S720|               31F03|                 61X59|                 null|                 null|                null|                  null|                  null|                 null|                null|                   null|                   null|                     null|                     null|                    null|                    null|                      null|                     null|                     null|                   null|                               3|                 F03|                S720|                   X59|                 null|                 null|                null|                  null|                  null|                 null|                null|                   null|                   null|                     null|                     null|                    null|                    null|                      null|                     null|                     null|                   null|   3|                0|                   0|                2|               3|            100|                         8|\n",
      "|              1|                  17|                0|             0|             1|  M|              1|        39|                    0|                  33|                     13|                6|                           0|                                  1|             M|                   3|             2005|             N|              5|                    U|      Y|            9|                         0|                    Y20|                           448|                       133|                             0|                       42|                                4|               11T71|               12Y20|                21S199|               61S199|                 null|                null|                  null|                  null|                 null|                null|                   null|                   null|                     null|                     null|                    null|                    null|                      null|                     null|                     null|                   null|                               3|                S199|                 T71|                   Y20|                 null|                 null|                null|                  null|                  null|                 null|                null|                   null|                   null|                     null|                     null|                    null|                    null|                      null|                     null|                     null|                   null|   1|                0|                   0|                1|               1|            211|                         1|\n",
      "|              1|                  12|                0|             0|             1|  M|              1|        64|                    0|                  38|                     18|                8|                           0|                                  7|             D|                   1|             2005|             U|              7|                    U|      N|            0|                         0|                   I250|                           214|                        62|                             0|                       21|                                1|              11I250|                null|                  null|                 null|                 null|                null|                  null|                  null|                 null|                null|                   null|                   null|                     null|                     null|                    null|                    null|                      null|                     null|                     null|                   null|                               1|                I250|                null|                  null|                 null|                 null|                null|                  null|                  null|                 null|                null|                   null|                   null|                     null|                     null|                    null|                    null|                      null|                     null|                     null|                   null|   1|                0|                   0|                1|               1|            100|                         6|\n",
      "|              1|                  12|                0|             0|             1|  F|              1|        90|                    0|                  44|                     24|               11|                           0|                                  6|             W|                   2|             2005|             U|              7|                    U|      N|            0|                         0|                   J449|                           267|                        86|                             0|                       28|                                1|              11J449|                null|                  null|                 null|                 null|                null|                  null|                  null|                 null|                null|                   null|                   null|                     null|                     null|                    null|                    null|                      null|                     null|                     null|                   null|                               1|                J449|                null|                  null|                 null|                 null|                null|                  null|                  null|                 null|                null|                   null|                   null|                     null|                     null|                    null|                    null|                      null|                     null|                     null|                   null|   1|                0|                   0|                1|               1|            100|                         6|\n",
      "+---------------+--------------------+-----------------+--------------+--------------+---+---------------+----------+---------------------+--------------------+-----------------------+-----------------+----------------------------+-----------------------------------+--------------+--------------------+-----------------+--------------+---------------+---------------------+-------+-------------+--------------------------+-----------------------+------------------------------+--------------------------+------------------------------+-------------------------+---------------------------------+--------------------+--------------------+----------------------+---------------------+---------------------+--------------------+----------------------+----------------------+---------------------+--------------------+-----------------------+-----------------------+-------------------------+-------------------------+------------------------+------------------------+--------------------------+-------------------------+-------------------------+-----------------------+--------------------------------+--------------------+--------------------+----------------------+---------------------+---------------------+--------------------+----------------------+----------------------+---------------------+--------------------+-----------------------+-----------------------+-------------------------+-------------------------+------------------------+------------------------+--------------------------+-------------------------+-------------------------+-----------------------+----+-----------------+--------------------+-----------------+----------------+---------------+--------------------------+\n",
      "only showing top 20 rows\n",
      "\n"
     ]
    }
   ],
   "source": [
    "df.show()\n"
   ]
  },
  {
   "cell_type": "code",
   "execution_count": null,
   "metadata": {},
   "outputs": [],
   "source": []
  }
 ],
 "metadata": {
  "kernelspec": {
   "display_name": "conda_python3",
   "language": "python",
   "name": "conda_python3"
  },
  "language_info": {
   "codemirror_mode": {
    "name": "ipython",
    "version": 3
   },
   "file_extension": ".py",
   "mimetype": "text/x-python",
   "name": "python",
   "nbconvert_exporter": "python",
   "pygments_lexer": "ipython3",
   "version": "3.6.5"
  }
 },
 "nbformat": 4,
 "nbformat_minor": 2
}
