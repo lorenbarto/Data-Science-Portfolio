{
 "cells": [
  {
   "cell_type": "markdown",
   "metadata": {},
   "source": [
    "# 1. Data Loading and First Impressions"
   ]
  },
  {
   "cell_type": "code",
   "execution_count": 2,
   "metadata": {},
   "outputs": [
    {
     "name": "stderr",
     "output_type": "stream",
     "text": [
      "\n",
      "Attaching package: 'dplyr'\n",
      "\n",
      "The following objects are masked from 'package:plyr':\n",
      "\n",
      "    arrange, count, desc, failwith, id, mutate, rename, summarise,\n",
      "    summarize\n",
      "\n",
      "The following objects are masked from 'package:stats':\n",
      "\n",
      "    filter, lag\n",
      "\n",
      "The following objects are masked from 'package:base':\n",
      "\n",
      "    intersect, setdiff, setequal, union\n",
      "\n",
      "corrplot 0.84 loaded\n",
      "Loading required package: lattice\n",
      "\n",
      "Attaching package: 'lattice'\n",
      "\n",
      "The following object is masked from 'package:boot':\n",
      "\n",
      "    melanoma\n",
      "\n",
      "\n",
      "Attaching package: 'caret'\n",
      "\n",
      "The following objects are masked from 'package:Metrics':\n",
      "\n",
      "    precision, recall\n",
      "\n",
      "\n",
      "Attaching package: 'gridExtra'\n",
      "\n",
      "The following object is masked from 'package:dplyr':\n",
      "\n",
      "    combine\n",
      "\n",
      "randomForest 4.6-14\n",
      "Type rfNews() to see new features/changes/bug fixes.\n",
      "\n",
      "Attaching package: 'randomForest'\n",
      "\n",
      "The following object is masked from 'package:gridExtra':\n",
      "\n",
      "    combine\n",
      "\n",
      "The following object is masked from 'package:dplyr':\n",
      "\n",
      "    combine\n",
      "\n",
      "The following object is masked from 'package:ggplot2':\n",
      "\n",
      "    margin\n",
      "\n",
      "\n",
      "Attaching package: 'xgboost'\n",
      "\n",
      "The following object is masked from 'package:dplyr':\n",
      "\n",
      "    slice\n",
      "\n",
      "\n",
      "Attaching package: 'psych'\n",
      "\n",
      "The following object is masked from 'package:randomForest':\n",
      "\n",
      "    outlier\n",
      "\n",
      "The following objects are masked from 'package:scales':\n",
      "\n",
      "    alpha, rescale\n",
      "\n",
      "The following objects are masked from 'package:ggplot2':\n",
      "\n",
      "    %+%, alpha\n",
      "\n",
      "The following object is masked from 'package:boot':\n",
      "\n",
      "    logit\n",
      "\n",
      "Loading required package: Matrix\n",
      "Loading required package: foreach\n",
      "Loaded glmnet 2.0-16\n",
      "\n",
      "\n",
      "Attaching package: 'glmnet'\n",
      "\n",
      "The following object is masked from 'package:Metrics':\n",
      "\n",
      "    auc\n",
      "\n",
      "\n",
      "Attaching package: 'ranger'\n",
      "\n",
      "The following object is masked from 'package:randomForest':\n",
      "\n",
      "    importance\n",
      "\n",
      "-- Attaching packages --------------------------------------- tidyverse 1.2.1 --\n",
      "v tibble  1.4.2     v purrr   0.2.5\n",
      "v tidyr   0.8.2     v stringr 1.4.0\n",
      "v readr   1.3.1     v forcats 0.3.0\n",
      "-- Conflicts ------------------------------------------ tidyverse_conflicts() --\n",
      "x psych::%+%()            masks ggplot2::%+%()\n",
      "x purrr::accumulate()     masks foreach::accumulate()\n",
      "x psych::alpha()          masks scales::alpha(), ggplot2::alpha()\n",
      "x dplyr::arrange()        masks plyr::arrange()\n",
      "x readr::col_factor()     masks scales::col_factor()\n",
      "x randomForest::combine() masks gridExtra::combine(), dplyr::combine()\n",
      "x purrr::compact()        masks plyr::compact()\n",
      "x dplyr::count()          masks plyr::count()\n",
      "x purrr::discard()        masks scales::discard()\n",
      "x tidyr::expand()         masks Matrix::expand()\n",
      "x dplyr::failwith()       masks plyr::failwith()\n",
      "x dplyr::filter()         masks stats::filter()\n",
      "x dplyr::id()             masks plyr::id()\n",
      "x dplyr::lag()            masks stats::lag()\n",
      "x purrr::lift()           masks caret::lift()\n",
      "x randomForest::margin()  masks ggplot2::margin()\n",
      "x dplyr::mutate()         masks plyr::mutate()\n",
      "x dplyr::rename()         masks plyr::rename()\n",
      "x xgboost::slice()        masks dplyr::slice()\n",
      "x dplyr::summarise()      masks plyr::summarise()\n",
      "x dplyr::summarize()      masks plyr::summarize()\n",
      "x purrr::when()           masks foreach::when()\n"
     ]
    }
   ],
   "source": [
    "options(warn=-1) #Suppresses warnings\n",
    "library(knitr)\n",
    "library(boot)\n",
    "library(Metrics)\n",
    "library(ggplot2)\n",
    "library(plyr)\n",
    "library(dplyr)\n",
    "library(corrplot)\n",
    "library(caret)\n",
    "library(gridExtra)\n",
    "library(scales)\n",
    "library(Rmisc)\n",
    "library(ggrepel)\n",
    "library(randomForest)\n",
    "library(xgboost)\n",
    "library(psych)\n",
    "library(glmnet)\n",
    "library(ranger)\n",
    "library(tidyverse)"
   ]
  },
  {
   "cell_type": "code",
   "execution_count": 3,
   "metadata": {},
   "outputs": [
    {
     "data": {
      "text/html": [
       "'C:/Users/Rohan/OneDrive/Desktop/Rohan Workspace/Semester 2/01 Data Mining/08 Project/02 Data/01 Raw Data'"
      ],
      "text/latex": [
       "'C:/Users/Rohan/OneDrive/Desktop/Rohan Workspace/Semester 2/01 Data Mining/08 Project/02 Data/01 Raw Data'"
      ],
      "text/markdown": [
       "'C:/Users/Rohan/OneDrive/Desktop/Rohan Workspace/Semester 2/01 Data Mining/08 Project/02 Data/01 Raw Data'"
      ],
      "text/plain": [
       "[1] \"C:/Users/Rohan/OneDrive/Desktop/Rohan Workspace/Semester 2/01 Data Mining/08 Project/02 Data/01 Raw Data\""
      ]
     },
     "metadata": {},
     "output_type": "display_data"
    }
   ],
   "source": [
    "setwd('C:\\\\Users\\\\Rohan\\\\OneDrive\\\\Desktop\\\\Rohan Workspace\\\\Semester 2\\\\01 Data Mining\\\\08 Project\\\\02 Data\\\\01 Raw Data')\n",
    "getwd()\n",
    "\n",
    "#this.dir <- dirname(parent.frame(2)$ofile)\n",
    "#setwd(this.dir)"
   ]
  },
  {
   "cell_type": "code",
   "execution_count": 4,
   "metadata": {},
   "outputs": [
    {
     "data": {
      "text/html": [
       "<table>\n",
       "<thead><tr><th scope=col>Id</th><th scope=col>MSSubClass</th><th scope=col>MSZoning</th><th scope=col>LotFrontage</th><th scope=col>LotArea</th><th scope=col>Street</th><th scope=col>Alley</th><th scope=col>LotShape</th><th scope=col>LandContour</th><th scope=col>Utilities</th><th scope=col>...</th><th scope=col>PoolArea</th><th scope=col>PoolQC</th><th scope=col>Fence</th><th scope=col>MiscFeature</th><th scope=col>MiscVal</th><th scope=col>MoSold</th><th scope=col>YrSold</th><th scope=col>SaleType</th><th scope=col>SaleCondition</th><th scope=col>SalePrice</th></tr></thead>\n",
       "<tbody>\n",
       "\t<tr><td>1     </td><td>60    </td><td>RL    </td><td>65    </td><td> 8450 </td><td>Pave  </td><td>NA    </td><td>Reg   </td><td>Lvl   </td><td>AllPub</td><td>...   </td><td>0     </td><td>NA    </td><td>NA    </td><td>NA    </td><td>0     </td><td>2     </td><td>2008  </td><td>WD    </td><td>Normal</td><td>208500</td></tr>\n",
       "\t<tr><td>2     </td><td>20    </td><td>RL    </td><td>80    </td><td> 9600 </td><td>Pave  </td><td>NA    </td><td>Reg   </td><td>Lvl   </td><td>AllPub</td><td>...   </td><td>0     </td><td>NA    </td><td>NA    </td><td>NA    </td><td>0     </td><td>5     </td><td>2007  </td><td>WD    </td><td>Normal</td><td>181500</td></tr>\n",
       "\t<tr><td>3     </td><td>60    </td><td>RL    </td><td>68    </td><td>11250 </td><td>Pave  </td><td>NA    </td><td>IR1   </td><td>Lvl   </td><td>AllPub</td><td>...   </td><td>0     </td><td>NA    </td><td>NA    </td><td>NA    </td><td>0     </td><td>9     </td><td>2008  </td><td>WD    </td><td>Normal</td><td>223500</td></tr>\n",
       "</tbody>\n",
       "</table>\n"
      ],
      "text/latex": [
       "\\begin{tabular}{r|lllllllllllllllllllllllllllllllllllllllllllllllllllllllllllllllllllllllllllllllll}\n",
       " Id & MSSubClass & MSZoning & LotFrontage & LotArea & Street & Alley & LotShape & LandContour & Utilities & ... & PoolArea & PoolQC & Fence & MiscFeature & MiscVal & MoSold & YrSold & SaleType & SaleCondition & SalePrice\\\\\n",
       "\\hline\n",
       "\t 1      & 60     & RL     & 65     &  8450  & Pave   & NA     & Reg    & Lvl    & AllPub & ...    & 0      & NA     & NA     & NA     & 0      & 2      & 2008   & WD     & Normal & 208500\\\\\n",
       "\t 2      & 20     & RL     & 80     &  9600  & Pave   & NA     & Reg    & Lvl    & AllPub & ...    & 0      & NA     & NA     & NA     & 0      & 5      & 2007   & WD     & Normal & 181500\\\\\n",
       "\t 3      & 60     & RL     & 68     & 11250  & Pave   & NA     & IR1    & Lvl    & AllPub & ...    & 0      & NA     & NA     & NA     & 0      & 9      & 2008   & WD     & Normal & 223500\\\\\n",
       "\\end{tabular}\n"
      ],
      "text/markdown": [
       "\n",
       "Id | MSSubClass | MSZoning | LotFrontage | LotArea | Street | Alley | LotShape | LandContour | Utilities | ... | PoolArea | PoolQC | Fence | MiscFeature | MiscVal | MoSold | YrSold | SaleType | SaleCondition | SalePrice | \n",
       "|---|---|---|\n",
       "| 1      | 60     | RL     | 65     |  8450  | Pave   | NA     | Reg    | Lvl    | AllPub | ...    | 0      | NA     | NA     | NA     | 0      | 2      | 2008   | WD     | Normal | 208500 | \n",
       "| 2      | 20     | RL     | 80     |  9600  | Pave   | NA     | Reg    | Lvl    | AllPub | ...    | 0      | NA     | NA     | NA     | 0      | 5      | 2007   | WD     | Normal | 181500 | \n",
       "| 3      | 60     | RL     | 68     | 11250  | Pave   | NA     | IR1    | Lvl    | AllPub | ...    | 0      | NA     | NA     | NA     | 0      | 9      | 2008   | WD     | Normal | 223500 | \n",
       "\n",
       "\n"
      ],
      "text/plain": [
       "  Id MSSubClass MSZoning LotFrontage LotArea Street Alley LotShape LandContour\n",
       "1 1  60         RL       65           8450   Pave   NA    Reg      Lvl        \n",
       "2 2  20         RL       80           9600   Pave   NA    Reg      Lvl        \n",
       "3 3  60         RL       68          11250   Pave   NA    IR1      Lvl        \n",
       "  Utilities ... PoolArea PoolQC Fence MiscFeature MiscVal MoSold YrSold\n",
       "1 AllPub    ... 0        NA     NA    NA          0       2      2008  \n",
       "2 AllPub    ... 0        NA     NA    NA          0       5      2007  \n",
       "3 AllPub    ... 0        NA     NA    NA          0       9      2008  \n",
       "  SaleType SaleCondition SalePrice\n",
       "1 WD       Normal        208500   \n",
       "2 WD       Normal        181500   \n",
       "3 WD       Normal        223500   "
      ]
     },
     "metadata": {},
     "output_type": "display_data"
    },
    {
     "data": {
      "text/html": [
       "<table>\n",
       "<thead><tr><th scope=col>Id</th><th scope=col>MSSubClass</th><th scope=col>MSZoning</th><th scope=col>LotFrontage</th><th scope=col>LotArea</th><th scope=col>Street</th><th scope=col>Alley</th><th scope=col>LotShape</th><th scope=col>LandContour</th><th scope=col>Utilities</th><th scope=col>...</th><th scope=col>ScreenPorch</th><th scope=col>PoolArea</th><th scope=col>PoolQC</th><th scope=col>Fence</th><th scope=col>MiscFeature</th><th scope=col>MiscVal</th><th scope=col>MoSold</th><th scope=col>YrSold</th><th scope=col>SaleType</th><th scope=col>SaleCondition</th></tr></thead>\n",
       "<tbody>\n",
       "\t<tr><td>1461  </td><td>20    </td><td>RH    </td><td>80    </td><td>11622 </td><td>Pave  </td><td>NA    </td><td>Reg   </td><td>Lvl   </td><td>AllPub</td><td>...   </td><td>120   </td><td>0     </td><td>NA    </td><td>MnPrv </td><td>NA    </td><td>    0 </td><td>6     </td><td>2010  </td><td>WD    </td><td>Normal</td></tr>\n",
       "\t<tr><td>1462  </td><td>20    </td><td>RL    </td><td>81    </td><td>14267 </td><td>Pave  </td><td>NA    </td><td>IR1   </td><td>Lvl   </td><td>AllPub</td><td>...   </td><td>  0   </td><td>0     </td><td>NA    </td><td>NA    </td><td>Gar2  </td><td>12500 </td><td>6     </td><td>2010  </td><td>WD    </td><td>Normal</td></tr>\n",
       "\t<tr><td>1463  </td><td>60    </td><td>RL    </td><td>74    </td><td>13830 </td><td>Pave  </td><td>NA    </td><td>IR1   </td><td>Lvl   </td><td>AllPub</td><td>...   </td><td>  0   </td><td>0     </td><td>NA    </td><td>MnPrv </td><td>NA    </td><td>    0 </td><td>3     </td><td>2010  </td><td>WD    </td><td>Normal</td></tr>\n",
       "</tbody>\n",
       "</table>\n"
      ],
      "text/latex": [
       "\\begin{tabular}{r|llllllllllllllllllllllllllllllllllllllllllllllllllllllllllllllllllllllllllllllll}\n",
       " Id & MSSubClass & MSZoning & LotFrontage & LotArea & Street & Alley & LotShape & LandContour & Utilities & ... & ScreenPorch & PoolArea & PoolQC & Fence & MiscFeature & MiscVal & MoSold & YrSold & SaleType & SaleCondition\\\\\n",
       "\\hline\n",
       "\t 1461   & 20     & RH     & 80     & 11622  & Pave   & NA     & Reg    & Lvl    & AllPub & ...    & 120    & 0      & NA     & MnPrv  & NA     &     0  & 6      & 2010   & WD     & Normal\\\\\n",
       "\t 1462   & 20     & RL     & 81     & 14267  & Pave   & NA     & IR1    & Lvl    & AllPub & ...    &   0    & 0      & NA     & NA     & Gar2   & 12500  & 6      & 2010   & WD     & Normal\\\\\n",
       "\t 1463   & 60     & RL     & 74     & 13830  & Pave   & NA     & IR1    & Lvl    & AllPub & ...    &   0    & 0      & NA     & MnPrv  & NA     &     0  & 3      & 2010   & WD     & Normal\\\\\n",
       "\\end{tabular}\n"
      ],
      "text/markdown": [
       "\n",
       "Id | MSSubClass | MSZoning | LotFrontage | LotArea | Street | Alley | LotShape | LandContour | Utilities | ... | ScreenPorch | PoolArea | PoolQC | Fence | MiscFeature | MiscVal | MoSold | YrSold | SaleType | SaleCondition | \n",
       "|---|---|---|\n",
       "| 1461   | 20     | RH     | 80     | 11622  | Pave   | NA     | Reg    | Lvl    | AllPub | ...    | 120    | 0      | NA     | MnPrv  | NA     |     0  | 6      | 2010   | WD     | Normal | \n",
       "| 1462   | 20     | RL     | 81     | 14267  | Pave   | NA     | IR1    | Lvl    | AllPub | ...    |   0    | 0      | NA     | NA     | Gar2   | 12500  | 6      | 2010   | WD     | Normal | \n",
       "| 1463   | 60     | RL     | 74     | 13830  | Pave   | NA     | IR1    | Lvl    | AllPub | ...    |   0    | 0      | NA     | MnPrv  | NA     |     0  | 3      | 2010   | WD     | Normal | \n",
       "\n",
       "\n"
      ],
      "text/plain": [
       "  Id   MSSubClass MSZoning LotFrontage LotArea Street Alley LotShape\n",
       "1 1461 20         RH       80          11622   Pave   NA    Reg     \n",
       "2 1462 20         RL       81          14267   Pave   NA    IR1     \n",
       "3 1463 60         RL       74          13830   Pave   NA    IR1     \n",
       "  LandContour Utilities ... ScreenPorch PoolArea PoolQC Fence MiscFeature\n",
       "1 Lvl         AllPub    ... 120         0        NA     MnPrv NA         \n",
       "2 Lvl         AllPub    ...   0         0        NA     NA    Gar2       \n",
       "3 Lvl         AllPub    ...   0         0        NA     MnPrv NA         \n",
       "  MiscVal MoSold YrSold SaleType SaleCondition\n",
       "1     0   6      2010   WD       Normal       \n",
       "2 12500   6      2010   WD       Normal       \n",
       "3     0   3      2010   WD       Normal       "
      ]
     },
     "metadata": {},
     "output_type": "display_data"
    }
   ],
   "source": [
    "train <- read.csv('train.csv', stringsAsFactors=F)\n",
    "test <- read.csv('test.csv', stringsAsFactors = F)\n",
    "head(train,3)\n",
    "head(test,3)"
   ]
  },
  {
   "cell_type": "markdown",
   "metadata": {},
   "source": [
    "## Data Size / Structure"
   ]
  },
  {
   "cell_type": "code",
   "execution_count": 5,
   "metadata": {},
   "outputs": [
    {
     "data": {
      "text/html": [
       "<ol class=list-inline>\n",
       "\t<li>1460</li>\n",
       "\t<li>81</li>\n",
       "</ol>\n"
      ],
      "text/latex": [
       "\\begin{enumerate*}\n",
       "\\item 1460\n",
       "\\item 81\n",
       "\\end{enumerate*}\n"
      ],
      "text/markdown": [
       "1. 1460\n",
       "2. 81\n",
       "\n",
       "\n"
      ],
      "text/plain": [
       "[1] 1460   81"
      ]
     },
     "metadata": {},
     "output_type": "display_data"
    },
    {
     "data": {
      "text/html": [
       "<ol class=list-inline>\n",
       "\t<li>1459</li>\n",
       "\t<li>80</li>\n",
       "</ol>\n"
      ],
      "text/latex": [
       "\\begin{enumerate*}\n",
       "\\item 1459\n",
       "\\item 80\n",
       "\\end{enumerate*}\n"
      ],
      "text/markdown": [
       "1. 1459\n",
       "2. 80\n",
       "\n",
       "\n"
      ],
      "text/plain": [
       "[1] 1459   80"
      ]
     },
     "metadata": {},
     "output_type": "display_data"
    }
   ],
   "source": [
    "dim(train)\n",
    "dim(test)"
   ]
  },
  {
   "cell_type": "code",
   "execution_count": 6,
   "metadata": {
    "scrolled": true
   },
   "outputs": [
    {
     "name": "stdout",
     "output_type": "stream",
     "text": [
      "'data.frame':\t1460 obs. of  81 variables:\n",
      " $ Id           : int  1 2 3 4 5 6 7 8 9 10 ...\n",
      " $ MSSubClass   : int  60 20 60 70 60 50 20 60 50 190 ...\n",
      " $ MSZoning     : chr  \"RL\" \"RL\" \"RL\" \"RL\" ...\n",
      " $ LotFrontage  : int  65 80 68 60 84 85 75 NA 51 50 ...\n",
      " $ LotArea      : int  8450 9600 11250 9550 14260 14115 10084 10382 6120 7420 ...\n",
      " $ Street       : chr  \"Pave\" \"Pave\" \"Pave\" \"Pave\" ...\n",
      " $ Alley        : chr  NA NA NA NA ...\n",
      " $ LotShape     : chr  \"Reg\" \"Reg\" \"IR1\" \"IR1\" ...\n",
      " $ LandContour  : chr  \"Lvl\" \"Lvl\" \"Lvl\" \"Lvl\" ...\n",
      " $ Utilities    : chr  \"AllPub\" \"AllPub\" \"AllPub\" \"AllPub\" ...\n",
      " $ LotConfig    : chr  \"Inside\" \"FR2\" \"Inside\" \"Corner\" ...\n",
      " $ LandSlope    : chr  \"Gtl\" \"Gtl\" \"Gtl\" \"Gtl\" ...\n",
      " $ Neighborhood : chr  \"CollgCr\" \"Veenker\" \"CollgCr\" \"Crawfor\" ...\n",
      " $ Condition1   : chr  \"Norm\" \"Feedr\" \"Norm\" \"Norm\" ...\n",
      " $ Condition2   : chr  \"Norm\" \"Norm\" \"Norm\" \"Norm\" ...\n",
      " $ BldgType     : chr  \"1Fam\" \"1Fam\" \"1Fam\" \"1Fam\" ...\n",
      " $ HouseStyle   : chr  \"2Story\" \"1Story\" \"2Story\" \"2Story\" ...\n",
      " $ OverallQual  : int  7 6 7 7 8 5 8 7 7 5 ...\n",
      " $ OverallCond  : int  5 8 5 5 5 5 5 6 5 6 ...\n",
      " $ YearBuilt    : int  2003 1976 2001 1915 2000 1993 2004 1973 1931 1939 ...\n",
      " $ YearRemodAdd : int  2003 1976 2002 1970 2000 1995 2005 1973 1950 1950 ...\n",
      " $ RoofStyle    : chr  \"Gable\" \"Gable\" \"Gable\" \"Gable\" ...\n",
      " $ RoofMatl     : chr  \"CompShg\" \"CompShg\" \"CompShg\" \"CompShg\" ...\n",
      " $ Exterior1st  : chr  \"VinylSd\" \"MetalSd\" \"VinylSd\" \"Wd Sdng\" ...\n",
      " $ Exterior2nd  : chr  \"VinylSd\" \"MetalSd\" \"VinylSd\" \"Wd Shng\" ...\n",
      " $ MasVnrType   : chr  \"BrkFace\" \"None\" \"BrkFace\" \"None\" ...\n",
      " $ MasVnrArea   : int  196 0 162 0 350 0 186 240 0 0 ...\n",
      " $ ExterQual    : chr  \"Gd\" \"TA\" \"Gd\" \"TA\" ...\n",
      " $ ExterCond    : chr  \"TA\" \"TA\" \"TA\" \"TA\" ...\n",
      " $ Foundation   : chr  \"PConc\" \"CBlock\" \"PConc\" \"BrkTil\" ...\n",
      " $ BsmtQual     : chr  \"Gd\" \"Gd\" \"Gd\" \"TA\" ...\n",
      " $ BsmtCond     : chr  \"TA\" \"TA\" \"TA\" \"Gd\" ...\n",
      " $ BsmtExposure : chr  \"No\" \"Gd\" \"Mn\" \"No\" ...\n",
      " $ BsmtFinType1 : chr  \"GLQ\" \"ALQ\" \"GLQ\" \"ALQ\" ...\n",
      " $ BsmtFinSF1   : int  706 978 486 216 655 732 1369 859 0 851 ...\n",
      " $ BsmtFinType2 : chr  \"Unf\" \"Unf\" \"Unf\" \"Unf\" ...\n",
      " $ BsmtFinSF2   : int  0 0 0 0 0 0 0 32 0 0 ...\n",
      " $ BsmtUnfSF    : int  150 284 434 540 490 64 317 216 952 140 ...\n",
      " $ TotalBsmtSF  : int  856 1262 920 756 1145 796 1686 1107 952 991 ...\n",
      " $ Heating      : chr  \"GasA\" \"GasA\" \"GasA\" \"GasA\" ...\n",
      " $ HeatingQC    : chr  \"Ex\" \"Ex\" \"Ex\" \"Gd\" ...\n",
      " $ CentralAir   : chr  \"Y\" \"Y\" \"Y\" \"Y\" ...\n",
      " $ Electrical   : chr  \"SBrkr\" \"SBrkr\" \"SBrkr\" \"SBrkr\" ...\n",
      " $ X1stFlrSF    : int  856 1262 920 961 1145 796 1694 1107 1022 1077 ...\n",
      " $ X2ndFlrSF    : int  854 0 866 756 1053 566 0 983 752 0 ...\n",
      " $ LowQualFinSF : int  0 0 0 0 0 0 0 0 0 0 ...\n",
      " $ GrLivArea    : int  1710 1262 1786 1717 2198 1362 1694 2090 1774 1077 ...\n",
      " $ BsmtFullBath : int  1 0 1 1 1 1 1 1 0 1 ...\n",
      " $ BsmtHalfBath : int  0 1 0 0 0 0 0 0 0 0 ...\n",
      " $ FullBath     : int  2 2 2 1 2 1 2 2 2 1 ...\n",
      " $ HalfBath     : int  1 0 1 0 1 1 0 1 0 0 ...\n",
      " $ BedroomAbvGr : int  3 3 3 3 4 1 3 3 2 2 ...\n",
      " $ KitchenAbvGr : int  1 1 1 1 1 1 1 1 2 2 ...\n",
      " $ KitchenQual  : chr  \"Gd\" \"TA\" \"Gd\" \"Gd\" ...\n",
      " $ TotRmsAbvGrd : int  8 6 6 7 9 5 7 7 8 5 ...\n",
      " $ Functional   : chr  \"Typ\" \"Typ\" \"Typ\" \"Typ\" ...\n",
      " $ Fireplaces   : int  0 1 1 1 1 0 1 2 2 2 ...\n",
      " $ FireplaceQu  : chr  NA \"TA\" \"TA\" \"Gd\" ...\n",
      " $ GarageType   : chr  \"Attchd\" \"Attchd\" \"Attchd\" \"Detchd\" ...\n",
      " $ GarageYrBlt  : int  2003 1976 2001 1998 2000 1993 2004 1973 1931 1939 ...\n",
      " $ GarageFinish : chr  \"RFn\" \"RFn\" \"RFn\" \"Unf\" ...\n",
      " $ GarageCars   : int  2 2 2 3 3 2 2 2 2 1 ...\n",
      " $ GarageArea   : int  548 460 608 642 836 480 636 484 468 205 ...\n",
      " $ GarageQual   : chr  \"TA\" \"TA\" \"TA\" \"TA\" ...\n",
      " $ GarageCond   : chr  \"TA\" \"TA\" \"TA\" \"TA\" ...\n",
      " $ PavedDrive   : chr  \"Y\" \"Y\" \"Y\" \"Y\" ...\n",
      " $ WoodDeckSF   : int  0 298 0 0 192 40 255 235 90 0 ...\n",
      " $ OpenPorchSF  : int  61 0 42 35 84 30 57 204 0 4 ...\n",
      " $ EnclosedPorch: int  0 0 0 272 0 0 0 228 205 0 ...\n",
      " $ X3SsnPorch   : int  0 0 0 0 0 320 0 0 0 0 ...\n",
      " $ ScreenPorch  : int  0 0 0 0 0 0 0 0 0 0 ...\n",
      " $ PoolArea     : int  0 0 0 0 0 0 0 0 0 0 ...\n",
      " $ PoolQC       : chr  NA NA NA NA ...\n",
      " $ Fence        : chr  NA NA NA NA ...\n",
      " $ MiscFeature  : chr  NA NA NA NA ...\n",
      " $ MiscVal      : int  0 0 0 0 0 700 0 350 0 0 ...\n",
      " $ MoSold       : int  2 5 9 2 12 10 8 11 4 1 ...\n",
      " $ YrSold       : int  2008 2007 2008 2006 2008 2009 2007 2009 2008 2008 ...\n",
      " $ SaleType     : chr  \"WD\" \"WD\" \"WD\" \"WD\" ...\n",
      " $ SaleCondition: chr  \"Normal\" \"Normal\" \"Normal\" \"Abnorml\" ...\n",
      " $ SalePrice    : int  208500 181500 223500 140000 250000 143000 307000 200000 129900 118000 ...\n"
     ]
    }
   ],
   "source": [
    "str(train)"
   ]
  },
  {
   "cell_type": "markdown",
   "metadata": {},
   "source": [
    "Our DV is SalePrice. The dataset is composed of character and integers variables. Using the command stringasFactor = False, we end up with only characters. We will most likely have to do cleaning, to ensure that the right factors are encoded where we want them, as the default R parser tends to make mistakes. \n",
    "\n",
    "We will not be needing the ID column."
   ]
  },
  {
   "cell_type": "code",
   "execution_count": 7,
   "metadata": {},
   "outputs": [],
   "source": [
    "testID <- test$Id\n",
    "\n",
    "train$Id <- NULL\n",
    "test$Id <- NULL"
   ]
  },
  {
   "cell_type": "code",
   "execution_count": 8,
   "metadata": {},
   "outputs": [
    {
     "data": {
      "text/html": [
       "<ol class=list-inline>\n",
       "\t<li>1459</li>\n",
       "\t<li>79</li>\n",
       "</ol>\n"
      ],
      "text/latex": [
       "\\begin{enumerate*}\n",
       "\\item 1459\n",
       "\\item 79\n",
       "\\end{enumerate*}\n"
      ],
      "text/markdown": [
       "1. 1459\n",
       "2. 79\n",
       "\n",
       "\n"
      ],
      "text/plain": [
       "[1] 1459   79"
      ]
     },
     "metadata": {},
     "output_type": "display_data"
    },
    {
     "data": {
      "text/html": [
       "<ol class=list-inline>\n",
       "\t<li>1460</li>\n",
       "\t<li>80</li>\n",
       "</ol>\n"
      ],
      "text/latex": [
       "\\begin{enumerate*}\n",
       "\\item 1460\n",
       "\\item 80\n",
       "\\end{enumerate*}\n"
      ],
      "text/markdown": [
       "1. 1460\n",
       "2. 80\n",
       "\n",
       "\n"
      ],
      "text/plain": [
       "[1] 1460   80"
      ]
     },
     "metadata": {},
     "output_type": "display_data"
    }
   ],
   "source": [
    "dim(test)\n",
    "dim(train)"
   ]
  },
  {
   "cell_type": "markdown",
   "metadata": {},
   "source": [
    "For the purpose of data cleaning, We will merge the train and test datasets together. "
   ]
  },
  {
   "cell_type": "code",
   "execution_count": 9,
   "metadata": {},
   "outputs": [
    {
     "data": {
      "text/html": [
       "<ol class=list-inline>\n",
       "\t<li>2919</li>\n",
       "\t<li>80</li>\n",
       "</ol>\n"
      ],
      "text/latex": [
       "\\begin{enumerate*}\n",
       "\\item 2919\n",
       "\\item 80\n",
       "\\end{enumerate*}\n"
      ],
      "text/markdown": [
       "1. 2919\n",
       "2. 80\n",
       "\n",
       "\n"
      ],
      "text/plain": [
       "[1] 2919   80"
      ]
     },
     "metadata": {},
     "output_type": "display_data"
    }
   ],
   "source": [
    "test$SalePrice <- NA\n",
    "df <- rbind(train,test)\n",
    "dim(df)"
   ]
  },
  {
   "cell_type": "markdown",
   "metadata": {},
   "source": [
    "We then have our Response Variable, SalePrice, and 79 predictors for 2919 rows of data."
   ]
  },
  {
   "cell_type": "markdown",
   "metadata": {},
   "source": [
    "# 2. Variables Exploration"
   ]
  },
  {
   "cell_type": "markdown",
   "metadata": {},
   "source": [
    "## Sale Price"
   ]
  },
  {
   "cell_type": "code",
   "execution_count": 10,
   "metadata": {
    "scrolled": false
   },
   "outputs": [
    {
     "data": {},
     "metadata": {},
     "output_type": "display_data"
    },
    {
     "data": {
      "image/png": "[encoded data removed]",
      "text/plain": [
       "plot without title"
      ]
     },
     "metadata": {},
     "output_type": "display_data"
    }
   ],
   "source": [
    "ggplot(data = df[!is.na(df$SalePrice),], aes(x=SalePrice)) +\n",
    "    geom_histogram(colour='black',fill='red',binwidth=5000)+\n",
    "    scale_x_continuous(breaks = seq(0,800000,by=100000),labels=comma) "
   ]
  },
  {
   "cell_type": "markdown",
   "metadata": {},
   "source": [
    "The sales prices are rightly skewed, which makes sense since most people cannot afford expensive houses."
   ]
  },
  {
   "cell_type": "code",
   "execution_count": 11,
   "metadata": {},
   "outputs": [
    {
     "data": {
      "text/plain": [
       "   Min. 1st Qu.  Median    Mean 3rd Qu.    Max.    NA's \n",
       "  34900  129975  163000  180921  214000  755000    1459 "
      ]
     },
     "metadata": {},
     "output_type": "display_data"
    }
   ],
   "source": [
    "summary(df$SalePrice)"
   ]
  },
  {
   "cell_type": "markdown",
   "metadata": {},
   "source": [
    "Looking at the summary, we see that the median and the mean are roughly 17k away from each other, which coincides with our visualization since there are outliers skewing the data and bumping the mean compared to the median."
   ]
  },
  {
   "cell_type": "markdown",
   "metadata": {},
   "source": [
    "## Numeric Predictors"
   ]
  },
  {
   "cell_type": "code",
   "execution_count": 12,
   "metadata": {},
   "outputs": [
    {
     "data": {
      "text/html": [
       "37"
      ],
      "text/latex": [
       "37"
      ],
      "text/markdown": [
       "37"
      ],
      "text/plain": [
       "[1] 37"
      ]
     },
     "metadata": {},
     "output_type": "display_data"
    }
   ],
   "source": [
    "num <- which(sapply(df,is.numeric))\n",
    "numname <- names(num)\n",
    "length(num) #37 numeric variables in the dataset"
   ]
  },
  {
   "cell_type": "markdown",
   "metadata": {},
   "source": [
    "First, let's explore some of the correlations in the dataset to have a feel for the data, while trying to detect potentially dommageable multicollinearity within the data"
   ]
  },
  {
   "cell_type": "markdown",
   "metadata": {},
   "source": [
    "Correlation with SalePrice"
   ]
  },
  {
   "cell_type": "code",
   "execution_count": 13,
   "metadata": {
    "scrolled": false
   },
   "outputs": [
    {
     "data": {
      "image/png": "[encoded data removed]",
      "text/plain": [
       "Plot with title \"\""
      ]
     },
     "metadata": {},
     "output_type": "display_data"
    }
   ],
   "source": [
    "df_num <- df[,num] #Creates the dataframe with numeric variables only\n",
    "cor_dfnum <- cor(df_num, use = 'pairwise.complete.obs')\n",
    "\n",
    "# Sort by decreasing correlations with SalePrice\n",
    "cor_sort <- as.matrix(sort(cor_dfnum[,'SalePrice'],decreasing = TRUE))\n",
    "\n",
    "# Only get ones where correlation is above 0.6\n",
    "cor_strong <- names(which(apply(cor_sort,1,function(x) abs (x) > 0.6)))\n",
    "cor_dfnum <- cor_dfnum[cor_strong,cor_strong]\n",
    "                                \n",
    "corrplot.mixed(cor_dfnum, tl.col = 'black',tl.pos='lt')"
   ]
  },
  {
   "cell_type": "markdown",
   "metadata": {},
   "source": [
    "SalePrice is highly correlated with the Overall Quality and the 'GrLivArea' which corresponds to the area above ground, respectively 0.79 and 0.71.\n",
    "\n",
    "There seem to be a strong multicollinearity between Garage Area and Garage Cars (which is the size of the garage in sq meters VS size of the garage in terms of how many cars it can hold) with 0.89.\n",
    "Furthermore, there is a strong correlation between X1stFlSF (square footage on the 1st floor) and the Total Basement Square Footage, which makes total sense since basements usually have a very similar square footage to the 1st floor."
   ]
  },
  {
   "cell_type": "markdown",
   "metadata": {},
   "source": [
    "# 3. Missing Data and Factors/Ordinal"
   ]
  },
  {
   "cell_type": "markdown",
   "metadata": {},
   "source": [
    "## Missing Values"
   ]
  },
  {
   "cell_type": "code",
   "execution_count": 14,
   "metadata": {},
   "outputs": [
    {
     "data": {
      "text/plain": [
       "\n",
       " FALSE   TRUE \n",
       "218096  15424 "
      ]
     },
     "metadata": {},
     "output_type": "display_data"
    }
   ],
   "source": [
    "table(is.na(df))"
   ]
  },
  {
   "cell_type": "markdown",
   "metadata": {},
   "source": [
    "There are 15424 NA's in the data. "
   ]
  },
  {
   "cell_type": "code",
   "execution_count": 15,
   "metadata": {
    "scrolled": true
   },
   "outputs": [
    {
     "data": {
      "text/html": [
       "<dl class=dl-horizontal>\n",
       "\t<dt>PoolQC</dt>\n",
       "\t\t<dd>2909</dd>\n",
       "\t<dt>MiscFeature</dt>\n",
       "\t\t<dd>2814</dd>\n",
       "\t<dt>Alley</dt>\n",
       "\t\t<dd>2721</dd>\n",
       "\t<dt>Fence</dt>\n",
       "\t\t<dd>2348</dd>\n",
       "\t<dt>SalePrice</dt>\n",
       "\t\t<dd>1459</dd>\n",
       "\t<dt>FireplaceQu</dt>\n",
       "\t\t<dd>1420</dd>\n",
       "\t<dt>LotFrontage</dt>\n",
       "\t\t<dd>486</dd>\n",
       "\t<dt>GarageYrBlt</dt>\n",
       "\t\t<dd>159</dd>\n",
       "\t<dt>GarageFinish</dt>\n",
       "\t\t<dd>159</dd>\n",
       "\t<dt>GarageQual</dt>\n",
       "\t\t<dd>159</dd>\n",
       "\t<dt>GarageCond</dt>\n",
       "\t\t<dd>159</dd>\n",
       "\t<dt>GarageType</dt>\n",
       "\t\t<dd>157</dd>\n",
       "\t<dt>BsmtCond</dt>\n",
       "\t\t<dd>82</dd>\n",
       "\t<dt>BsmtExposure</dt>\n",
       "\t\t<dd>82</dd>\n",
       "\t<dt>BsmtQual</dt>\n",
       "\t\t<dd>81</dd>\n",
       "\t<dt>BsmtFinType2</dt>\n",
       "\t\t<dd>80</dd>\n",
       "\t<dt>BsmtFinType1</dt>\n",
       "\t\t<dd>79</dd>\n",
       "\t<dt>MasVnrType</dt>\n",
       "\t\t<dd>24</dd>\n",
       "\t<dt>MasVnrArea</dt>\n",
       "\t\t<dd>23</dd>\n",
       "\t<dt>MSZoning</dt>\n",
       "\t\t<dd>4</dd>\n",
       "\t<dt>Utilities</dt>\n",
       "\t\t<dd>2</dd>\n",
       "\t<dt>BsmtFullBath</dt>\n",
       "\t\t<dd>2</dd>\n",
       "\t<dt>BsmtHalfBath</dt>\n",
       "\t\t<dd>2</dd>\n",
       "\t<dt>Functional</dt>\n",
       "\t\t<dd>2</dd>\n",
       "\t<dt>Exterior1st</dt>\n",
       "\t\t<dd>1</dd>\n",
       "\t<dt>Exterior2nd</dt>\n",
       "\t\t<dd>1</dd>\n",
       "\t<dt>BsmtFinSF1</dt>\n",
       "\t\t<dd>1</dd>\n",
       "\t<dt>BsmtFinSF2</dt>\n",
       "\t\t<dd>1</dd>\n",
       "\t<dt>BsmtUnfSF</dt>\n",
       "\t\t<dd>1</dd>\n",
       "\t<dt>TotalBsmtSF</dt>\n",
       "\t\t<dd>1</dd>\n",
       "\t<dt>Electrical</dt>\n",
       "\t\t<dd>1</dd>\n",
       "\t<dt>KitchenQual</dt>\n",
       "\t\t<dd>1</dd>\n",
       "\t<dt>GarageCars</dt>\n",
       "\t\t<dd>1</dd>\n",
       "\t<dt>GarageArea</dt>\n",
       "\t\t<dd>1</dd>\n",
       "\t<dt>SaleType</dt>\n",
       "\t\t<dd>1</dd>\n",
       "</dl>\n"
      ],
      "text/latex": [
       "\\begin{description*}\n",
       "\\item[PoolQC] 2909\n",
       "\\item[MiscFeature] 2814\n",
       "\\item[Alley] 2721\n",
       "\\item[Fence] 2348\n",
       "\\item[SalePrice] 1459\n",
       "\\item[FireplaceQu] 1420\n",
       "\\item[LotFrontage] 486\n",
       "\\item[GarageYrBlt] 159\n",
       "\\item[GarageFinish] 159\n",
       "\\item[GarageQual] 159\n",
       "\\item[GarageCond] 159\n",
       "\\item[GarageType] 157\n",
       "\\item[BsmtCond] 82\n",
       "\\item[BsmtExposure] 82\n",
       "\\item[BsmtQual] 81\n",
       "\\item[BsmtFinType2] 80\n",
       "\\item[BsmtFinType1] 79\n",
       "\\item[MasVnrType] 24\n",
       "\\item[MasVnrArea] 23\n",
       "\\item[MSZoning] 4\n",
       "\\item[Utilities] 2\n",
       "\\item[BsmtFullBath] 2\n",
       "\\item[BsmtHalfBath] 2\n",
       "\\item[Functional] 2\n",
       "\\item[Exterior1st] 1\n",
       "\\item[Exterior2nd] 1\n",
       "\\item[BsmtFinSF1] 1\n",
       "\\item[BsmtFinSF2] 1\n",
       "\\item[BsmtUnfSF] 1\n",
       "\\item[TotalBsmtSF] 1\n",
       "\\item[Electrical] 1\n",
       "\\item[KitchenQual] 1\n",
       "\\item[GarageCars] 1\n",
       "\\item[GarageArea] 1\n",
       "\\item[SaleType] 1\n",
       "\\end{description*}\n"
      ],
      "text/markdown": [
       "PoolQC\n",
       ":   2909MiscFeature\n",
       ":   2814Alley\n",
       ":   2721Fence\n",
       ":   2348SalePrice\n",
       ":   1459FireplaceQu\n",
       ":   1420LotFrontage\n",
       ":   486GarageYrBlt\n",
       ":   159GarageFinish\n",
       ":   159GarageQual\n",
       ":   159GarageCond\n",
       ":   159GarageType\n",
       ":   157BsmtCond\n",
       ":   82BsmtExposure\n",
       ":   82BsmtQual\n",
       ":   81BsmtFinType2\n",
       ":   80BsmtFinType1\n",
       ":   79MasVnrType\n",
       ":   24MasVnrArea\n",
       ":   23MSZoning\n",
       ":   4Utilities\n",
       ":   2BsmtFullBath\n",
       ":   2BsmtHalfBath\n",
       ":   2Functional\n",
       ":   2Exterior1st\n",
       ":   1Exterior2nd\n",
       ":   1BsmtFinSF1\n",
       ":   1BsmtFinSF2\n",
       ":   1BsmtUnfSF\n",
       ":   1TotalBsmtSF\n",
       ":   1Electrical\n",
       ":   1KitchenQual\n",
       ":   1GarageCars\n",
       ":   1GarageArea\n",
       ":   1SaleType\n",
       ":   1\n",
       "\n"
      ],
      "text/plain": [
       "      PoolQC  MiscFeature        Alley        Fence    SalePrice  FireplaceQu \n",
       "        2909         2814         2721         2348         1459         1420 \n",
       " LotFrontage  GarageYrBlt GarageFinish   GarageQual   GarageCond   GarageType \n",
       "         486          159          159          159          159          157 \n",
       "    BsmtCond BsmtExposure     BsmtQual BsmtFinType2 BsmtFinType1   MasVnrType \n",
       "          82           82           81           80           79           24 \n",
       "  MasVnrArea     MSZoning    Utilities BsmtFullBath BsmtHalfBath   Functional \n",
       "          23            4            2            2            2            2 \n",
       " Exterior1st  Exterior2nd   BsmtFinSF1   BsmtFinSF2    BsmtUnfSF  TotalBsmtSF \n",
       "           1            1            1            1            1            1 \n",
       "  Electrical  KitchenQual   GarageCars   GarageArea     SaleType \n",
       "           1            1            1            1            1 "
      ]
     },
     "metadata": {},
     "output_type": "display_data"
    }
   ],
   "source": [
    "#NAS <- which(colSums(is.na(df))>0)\n",
    "sort(colSums(sapply(df[which(colSums(is.na(df))>0)],is.na)),decreasing = TRUE)"
   ]
  },
  {
   "cell_type": "markdown",
   "metadata": {},
   "source": [
    "There are 35 columns with missing data"
   ]
  },
  {
   "cell_type": "markdown",
   "metadata": {},
   "source": [
    "## What to do with the many missing values "
   ]
  },
  {
   "cell_type": "markdown",
   "metadata": {},
   "source": [
    "We will deal with missing values starting from the columns with the most missing values. Some values can be easily imputable, whereas some others may need some deeper processing. Furthermore, depending on the variable, there may be some character variables that can be encoded as ordinal - for example, the pool quality, going from No Pool = 0 to Excellent = 5. "
   ]
  },
  {
   "cell_type": "code",
   "execution_count": 16,
   "metadata": {},
   "outputs": [],
   "source": [
    "# Function to get number of missing values from any column\n",
    "\n",
    "na_check <- function(var){ \n",
    "    y = which(colnames(df)==var)\n",
    "    x = sum(is.na(df[y]))\n",
    "    z = colnames(df[y])\n",
    "    cat('There are',x,'missing values in column',z)\n",
    "}"
   ]
  },
  {
   "cell_type": "markdown",
   "metadata": {},
   "source": [
    "###  Pool Quality"
   ]
  },
  {
   "cell_type": "code",
   "execution_count": 17,
   "metadata": {},
   "outputs": [
    {
     "name": "stdout",
     "output_type": "stream",
     "text": [
      "There are 2909 missing values in column PoolQC"
     ]
    }
   ],
   "source": [
    "na_check('PoolQC')"
   ]
  },
  {
   "cell_type": "code",
   "execution_count": 18,
   "metadata": {},
   "outputs": [
    {
     "data": {
      "text/html": [
       "<ol class=list-inline>\n",
       "\t<li>NA</li>\n",
       "\t<li>'Ex'</li>\n",
       "\t<li>'Fa'</li>\n",
       "\t<li>'Gd'</li>\n",
       "</ol>\n"
      ],
      "text/latex": [
       "\\begin{enumerate*}\n",
       "\\item NA\n",
       "\\item 'Ex'\n",
       "\\item 'Fa'\n",
       "\\item 'Gd'\n",
       "\\end{enumerate*}\n"
      ],
      "text/markdown": [
       "1. NA\n",
       "2. 'Ex'\n",
       "3. 'Fa'\n",
       "4. 'Gd'\n",
       "\n",
       "\n"
      ],
      "text/plain": [
       "[1] NA   \"Ex\" \"Fa\" \"Gd\""
      ]
     },
     "metadata": {},
     "output_type": "display_data"
    }
   ],
   "source": [
    "unique(df$PoolQC)"
   ]
  },
  {
   "cell_type": "markdown",
   "metadata": {},
   "source": [
    "According to the document, these are the different pool qualities available\n",
    "\n",
    "   Ex   Excellent\n",
    "   \n",
    "   Gd   Good\n",
    "   \n",
    "   TA   Average/Typical\n",
    "   \n",
    "   Fa   Fair\n",
    "   \n",
    "   NA   No Pool\n",
    "   \n",
    "And from what we have seen above, the NA's actually mean that there is no pool, so we will simply input a value 'No Pool' in place of the NA. we will also encode an ordinal vector representing the quality of the pool."
   ]
  },
  {
   "cell_type": "code",
   "execution_count": 19,
   "metadata": {},
   "outputs": [],
   "source": [
    "df$PoolQC[is.na(df$PoolQC)] <- 'No Pool'"
   ]
  },
  {
   "cell_type": "code",
   "execution_count": 20,
   "metadata": {},
   "outputs": [
    {
     "data": {
      "text/plain": [
       "\n",
       "   0    1    2    3 \n",
       "2909    2    4    4 "
      ]
     },
     "metadata": {},
     "output_type": "display_data"
    }
   ],
   "source": [
    "PoolQualities  <- c('No Pool'=0, 'Fa'=1,'Gd'=2,'Ex'=3)\n",
    "df$PoolQC <- as.integer(revalue(df$PoolQC,PoolQualities))\n",
    "table(df$PoolQC)"
   ]
  },
  {
   "cell_type": "markdown",
   "metadata": {},
   "source": [
    "Let's check to make sure there are no houses left with pools that have not been inputted correctly."
   ]
  },
  {
   "cell_type": "code",
   "execution_count": 21,
   "metadata": {},
   "outputs": [
    {
     "data": {
      "text/html": [
       "<table>\n",
       "<thead><tr><th></th><th scope=col>PoolArea</th><th scope=col>PoolQC</th></tr></thead>\n",
       "<tbody>\n",
       "\t<tr><th scope=row>2421</th><td>368</td><td>0  </td></tr>\n",
       "\t<tr><th scope=row>2504</th><td>444</td><td>0  </td></tr>\n",
       "\t<tr><th scope=row>2600</th><td>561</td><td>0  </td></tr>\n",
       "</tbody>\n",
       "</table>\n"
      ],
      "text/latex": [
       "\\begin{tabular}{r|ll}\n",
       "  & PoolArea & PoolQC\\\\\n",
       "\\hline\n",
       "\t2421 & 368 & 0  \\\\\n",
       "\t2504 & 444 & 0  \\\\\n",
       "\t2600 & 561 & 0  \\\\\n",
       "\\end{tabular}\n"
      ],
      "text/markdown": [
       "\n",
       "| <!--/--> | PoolArea | PoolQC | \n",
       "|---|---|---|\n",
       "| 2421 | 368 | 0   | \n",
       "| 2504 | 444 | 0   | \n",
       "| 2600 | 561 | 0   | \n",
       "\n",
       "\n"
      ],
      "text/plain": [
       "     PoolArea PoolQC\n",
       "2421 368      0     \n",
       "2504 444      0     \n",
       "2600 561      0     "
      ]
     },
     "metadata": {},
     "output_type": "display_data"
    }
   ],
   "source": [
    "df[df$PoolArea>0 & df$PoolQC==0,c('PoolArea','PoolQC')]"
   ]
  },
  {
   "cell_type": "markdown",
   "metadata": {},
   "source": [
    "Because we cannot know wheter there was a mistake, or perhaps the pool is damaged, we will assume that there is no pool and assign 0 to the pool area."
   ]
  },
  {
   "cell_type": "code",
   "execution_count": 22,
   "metadata": {},
   "outputs": [],
   "source": [
    "df$PoolArea[df$PoolArea>0 & df$PoolQC==0] <- 0"
   ]
  },
  {
   "cell_type": "code",
   "execution_count": 23,
   "metadata": {},
   "outputs": [
    {
     "data": {
      "text/html": [
       "<table>\n",
       "<thead><tr><th></th><th scope=col>PoolArea</th><th scope=col>PoolQC</th></tr></thead>\n",
       "<tbody>\n",
       "\t<tr><th scope=row>2421</th><td>0</td><td>0</td></tr>\n",
       "</tbody>\n",
       "</table>\n"
      ],
      "text/latex": [
       "\\begin{tabular}{r|ll}\n",
       "  & PoolArea & PoolQC\\\\\n",
       "\\hline\n",
       "\t2421 & 0 & 0\\\\\n",
       "\\end{tabular}\n"
      ],
      "text/markdown": [
       "\n",
       "| <!--/--> | PoolArea | PoolQC | \n",
       "|---|\n",
       "| 2421 | 0 | 0 | \n",
       "\n",
       "\n"
      ],
      "text/plain": [
       "     PoolArea PoolQC\n",
       "2421 0        0     "
      ]
     },
     "metadata": {},
     "output_type": "display_data"
    },
    {
     "data": {
      "text/html": [
       "<table>\n",
       "<thead><tr><th></th><th scope=col>PoolArea</th><th scope=col>PoolQC</th></tr></thead>\n",
       "<tbody>\n",
       "\t<tr><th scope=row>2504</th><td>0</td><td>0</td></tr>\n",
       "</tbody>\n",
       "</table>\n"
      ],
      "text/latex": [
       "\\begin{tabular}{r|ll}\n",
       "  & PoolArea & PoolQC\\\\\n",
       "\\hline\n",
       "\t2504 & 0 & 0\\\\\n",
       "\\end{tabular}\n"
      ],
      "text/markdown": [
       "\n",
       "| <!--/--> | PoolArea | PoolQC | \n",
       "|---|\n",
       "| 2504 | 0 | 0 | \n",
       "\n",
       "\n"
      ],
      "text/plain": [
       "     PoolArea PoolQC\n",
       "2504 0        0     "
      ]
     },
     "metadata": {},
     "output_type": "display_data"
    },
    {
     "data": {
      "text/html": [
       "<table>\n",
       "<thead><tr><th></th><th scope=col>PoolArea</th><th scope=col>PoolQC</th></tr></thead>\n",
       "<tbody>\n",
       "\t<tr><th scope=row>2600</th><td>0</td><td>0</td></tr>\n",
       "</tbody>\n",
       "</table>\n"
      ],
      "text/latex": [
       "\\begin{tabular}{r|ll}\n",
       "  & PoolArea & PoolQC\\\\\n",
       "\\hline\n",
       "\t2600 & 0 & 0\\\\\n",
       "\\end{tabular}\n"
      ],
      "text/markdown": [
       "\n",
       "| <!--/--> | PoolArea | PoolQC | \n",
       "|---|\n",
       "| 2600 | 0 | 0 | \n",
       "\n",
       "\n"
      ],
      "text/plain": [
       "     PoolArea PoolQC\n",
       "2600 0        0     "
      ]
     },
     "metadata": {},
     "output_type": "display_data"
    }
   ],
   "source": [
    "# Check\n",
    "c = c('PoolArea','PoolQC')\n",
    "df[2421,c]\n",
    "df[2504,c]\n",
    "df[2600,c]"
   ]
  },
  {
   "cell_type": "markdown",
   "metadata": {},
   "source": [
    "### Miscellaneous Features"
   ]
  },
  {
   "cell_type": "code",
   "execution_count": 24,
   "metadata": {},
   "outputs": [
    {
     "name": "stdout",
     "output_type": "stream",
     "text": [
      "There are 2814 missing values in column MiscFeature"
     ]
    },
    {
     "data": {
      "text/html": [
       "<ol class=list-inline>\n",
       "\t<li>NA</li>\n",
       "\t<li>'Shed'</li>\n",
       "\t<li>'Gar2'</li>\n",
       "\t<li>'Othr'</li>\n",
       "\t<li>'TenC'</li>\n",
       "</ol>\n"
      ],
      "text/latex": [
       "\\begin{enumerate*}\n",
       "\\item NA\n",
       "\\item 'Shed'\n",
       "\\item 'Gar2'\n",
       "\\item 'Othr'\n",
       "\\item 'TenC'\n",
       "\\end{enumerate*}\n"
      ],
      "text/markdown": [
       "1. NA\n",
       "2. 'Shed'\n",
       "3. 'Gar2'\n",
       "4. 'Othr'\n",
       "5. 'TenC'\n",
       "\n",
       "\n"
      ],
      "text/plain": [
       "[1] NA     \"Shed\" \"Gar2\" \"Othr\" \"TenC\""
      ]
     },
     "metadata": {},
     "output_type": "display_data"
    }
   ],
   "source": [
    "na_check('MiscFeature')\n",
    "unique(df$MiscFeature)"
   ]
  },
  {
   "cell_type": "markdown",
   "metadata": {},
   "source": [
    "There are 2814 missing values, and according to the document, the different categories of miscellaneous features are as follows. \n",
    "\n",
    "       Elev\tElevator\n",
    "       Gar2\t2nd Garage (if not described in garage section)\n",
    "       Othr\tOther\n",
    "       Shed\tShed (over 100 SF)\n",
    "       TenC\tTennis Court\n",
    "       NA\tNone\n",
    "Thus I will replace the NA with 'No Features'. Additionally, since there is no order, I can turn this variable into a factor."
   ]
  },
  {
   "cell_type": "code",
   "execution_count": 25,
   "metadata": {},
   "outputs": [],
   "source": [
    "df$MiscFeature[is.na(df$MiscFeature)] <- 'No Features'\n",
    "df$MiscFeature <- as.factor(df$MiscFeature)"
   ]
  },
  {
   "cell_type": "code",
   "execution_count": 26,
   "metadata": {},
   "outputs": [
    {
     "data": {
      "text/plain": [
       "\n",
       "       Gar2 No Features        Othr        Shed        TenC \n",
       "          5        2814           4          95           1 "
      ]
     },
     "metadata": {},
     "output_type": "display_data"
    }
   ],
   "source": [
    "table(df$MiscFeature)"
   ]
  },
  {
   "cell_type": "markdown",
   "metadata": {},
   "source": [
    "### Type of Alley"
   ]
  },
  {
   "cell_type": "code",
   "execution_count": 27,
   "metadata": {},
   "outputs": [
    {
     "name": "stdout",
     "output_type": "stream",
     "text": [
      "There are 2721 missing values in column Alley"
     ]
    },
    {
     "data": {
      "text/html": [
       "<ol class=list-inline>\n",
       "\t<li>NA</li>\n",
       "\t<li>'Grvl'</li>\n",
       "\t<li>'Pave'</li>\n",
       "</ol>\n"
      ],
      "text/latex": [
       "\\begin{enumerate*}\n",
       "\\item NA\n",
       "\\item 'Grvl'\n",
       "\\item 'Pave'\n",
       "\\end{enumerate*}\n"
      ],
      "text/markdown": [
       "1. NA\n",
       "2. 'Grvl'\n",
       "3. 'Pave'\n",
       "\n",
       "\n"
      ],
      "text/plain": [
       "[1] NA     \"Grvl\" \"Pave\""
      ]
     },
     "metadata": {},
     "output_type": "display_data"
    }
   ],
   "source": [
    "na_check('Alley')\n",
    "unique(df$Alley)"
   ]
  },
  {
   "cell_type": "markdown",
   "metadata": {},
   "source": [
    "There are 2721 missing values, and according to the document, the different categories of alleys are:\n",
    "    \n",
    "       Grvl\tGravel\n",
    "       Pave\tPaved\n",
    "       NA \tNo alley access\n",
    " \n",
    "Thus we will replace the NA with 'No alley'. However, We are not sure whether the variable is ordinal or not. "
   ]
  },
  {
   "cell_type": "code",
   "execution_count": 28,
   "metadata": {},
   "outputs": [],
   "source": [
    "df$Alley[is.na(df$Alley)] <- 'No Alley'"
   ]
  },
  {
   "cell_type": "code",
   "execution_count": 29,
   "metadata": {
    "scrolled": true
   },
   "outputs": [
    {
     "data": {},
     "metadata": {},
     "output_type": "display_data"
    },
    {
     "data": {
      "image/png": "[encoded data removed]",
      "text/plain": [
       "plot without title"
      ]
     },
     "metadata": {},
     "output_type": "display_data"
    }
   ],
   "source": [
    "# Checking if there is any kind of order in the alley variables\n",
    "\n",
    "ggplot(df[!is.na(df$SalePrice),], aes(x=Alley, y=SalePrice)) +\n",
    "        geom_bar(stat='summary', fun.y = \"median\", fill='red',colour='black')+\n",
    "        scale_y_continuous(breaks= seq(0, 200000, by=50000), labels = comma)"
   ]
  },
  {
   "cell_type": "code",
   "execution_count": 30,
   "metadata": {},
   "outputs": [
    {
     "data": {
      "text/plain": [
       "\n",
       "    Grvl No Alley     Pave \n",
       "     120     2721       78 "
      ]
     },
     "metadata": {},
     "output_type": "display_data"
    }
   ],
   "source": [
    "# There is no ordinality. Thus, \n",
    "df$Alley <- as.factor(df$Alley)\n",
    "table(df$Alley)"
   ]
  },
  {
   "cell_type": "markdown",
   "metadata": {},
   "source": [
    "### Type of Fences"
   ]
  },
  {
   "cell_type": "code",
   "execution_count": 31,
   "metadata": {},
   "outputs": [
    {
     "name": "stdout",
     "output_type": "stream",
     "text": [
      "There are 2348 missing values in column Fence"
     ]
    },
    {
     "data": {
      "text/html": [
       "<ol class=list-inline>\n",
       "\t<li>NA</li>\n",
       "\t<li>'MnPrv'</li>\n",
       "\t<li>'GdWo'</li>\n",
       "\t<li>'GdPrv'</li>\n",
       "\t<li>'MnWw'</li>\n",
       "</ol>\n"
      ],
      "text/latex": [
       "\\begin{enumerate*}\n",
       "\\item NA\n",
       "\\item 'MnPrv'\n",
       "\\item 'GdWo'\n",
       "\\item 'GdPrv'\n",
       "\\item 'MnWw'\n",
       "\\end{enumerate*}\n"
      ],
      "text/markdown": [
       "1. NA\n",
       "2. 'MnPrv'\n",
       "3. 'GdWo'\n",
       "4. 'GdPrv'\n",
       "5. 'MnWw'\n",
       "\n",
       "\n"
      ],
      "text/plain": [
       "[1] NA      \"MnPrv\" \"GdWo\"  \"GdPrv\" \"MnWw\" "
      ]
     },
     "metadata": {},
     "output_type": "display_data"
    }
   ],
   "source": [
    "na_check('Fence')\n",
    "unique(df$Fence)"
   ]
  },
  {
   "cell_type": "markdown",
   "metadata": {},
   "source": [
    "There are 2348 missing values, and according to the document, the fence categories are as follows:\n",
    "\n",
    "       GdPrv\tGood Privacy\n",
    "       MnPrv\tMinimum Privacy\n",
    "       GdWo\tGood Wood\n",
    "       MnWw\tMinimum Wood/Wire\n",
    "       NA\tNo Fence\n",
    "We will replace NA with 'No Fence'. The values do not seem ordinal, We will turn them into a factor."
   ]
  },
  {
   "cell_type": "code",
   "execution_count": 32,
   "metadata": {},
   "outputs": [],
   "source": [
    "df$Fence[is.na(df$Fence)] <- 'No Fence'\n",
    "df$Fence <- as.factor(df$Fence)"
   ]
  },
  {
   "cell_type": "code",
   "execution_count": 33,
   "metadata": {},
   "outputs": [
    {
     "data": {
      "text/plain": [
       "\n",
       "   GdPrv     GdWo    MnPrv     MnWw No Fence \n",
       "     118      112      329       12     2348 "
      ]
     },
     "metadata": {},
     "output_type": "display_data"
    }
   ],
   "source": [
    "table(df$Fence)"
   ]
  },
  {
   "cell_type": "markdown",
   "metadata": {},
   "source": [
    "### Fireplace Quality and Quantity"
   ]
  },
  {
   "cell_type": "code",
   "execution_count": 34,
   "metadata": {},
   "outputs": [
    {
     "name": "stdout",
     "output_type": "stream",
     "text": [
      "There are 1420 missing values in column FireplaceQu"
     ]
    },
    {
     "data": {
      "text/html": [
       "<ol class=list-inline>\n",
       "\t<li>NA</li>\n",
       "\t<li>'TA'</li>\n",
       "\t<li>'Gd'</li>\n",
       "\t<li>'Fa'</li>\n",
       "\t<li>'Ex'</li>\n",
       "\t<li>'Po'</li>\n",
       "</ol>\n"
      ],
      "text/latex": [
       "\\begin{enumerate*}\n",
       "\\item NA\n",
       "\\item 'TA'\n",
       "\\item 'Gd'\n",
       "\\item 'Fa'\n",
       "\\item 'Ex'\n",
       "\\item 'Po'\n",
       "\\end{enumerate*}\n"
      ],
      "text/markdown": [
       "1. NA\n",
       "2. 'TA'\n",
       "3. 'Gd'\n",
       "4. 'Fa'\n",
       "5. 'Ex'\n",
       "6. 'Po'\n",
       "\n",
       "\n"
      ],
      "text/plain": [
       "[1] NA   \"TA\" \"Gd\" \"Fa\" \"Ex\" \"Po\""
      ]
     },
     "metadata": {},
     "output_type": "display_data"
    }
   ],
   "source": [
    "na_check('FireplaceQu')\n",
    "unique(df$FireplaceQu)"
   ]
  },
  {
   "cell_type": "markdown",
   "metadata": {},
   "source": [
    "There are 1420 missing values in the Fireplace Quality variable. According to the document, the following are the fireplace qualities:\n",
    "\n",
    "       Ex\tExcellent - Exceptional Masonry Fireplace\n",
    "       Gd\tGood - Masonry Fireplace in main level\n",
    "       TA\tAverage - Prefabricated Fireplace in main living area or \n",
    "       Fa\tFair - Prefabricated Fireplace in basement\n",
    "       Po\tPoor - Ben Franklin Stove\n",
    "       NA\tNo Fireplace\n",
    "\n",
    "       \n",
    "Since the number of houses with no fireplaces matches the number of NAs in fireplace quality, We can replace the NA with 'No Fireplace'. The quality is clearly ordinal. "
   ]
  },
  {
   "cell_type": "code",
   "execution_count": 35,
   "metadata": {},
   "outputs": [
    {
     "data": {
      "text/plain": [
       "\n",
       "          Ex           Fa           Gd No Fireplace           Po           TA \n",
       "          43           74          744         1420           46          592 "
      ]
     },
     "metadata": {},
     "output_type": "display_data"
    }
   ],
   "source": [
    "df$FireplaceQu[is.na(df$FireplaceQu)] <- 'No Fireplace'\n",
    "table(df$FireplaceQu)"
   ]
  },
  {
   "cell_type": "code",
   "execution_count": 36,
   "metadata": {},
   "outputs": [
    {
     "data": {
      "text/plain": [
       "\n",
       "   0    1    2    3    4    5 \n",
       "1420   46   74  592  744   43 "
      ]
     },
     "metadata": {},
     "output_type": "display_data"
    }
   ],
   "source": [
    "FirePlaceQuality <- c('No Fireplace'=0,'Po'=1,'Fa'=2,'TA'=3,'Gd'=4,'Ex'=5)\n",
    "df$FireplaceQu <- as.integer(revalue(df$FireplaceQu,FirePlaceQuality))\n",
    "table(df$FireplaceQu)"
   ]
  },
  {
   "cell_type": "code",
   "execution_count": 37,
   "metadata": {},
   "outputs": [
    {
     "name": "stdout",
     "output_type": "stream",
     "text": [
      "There are 0 missing values in column FireplaceQu"
     ]
    }
   ],
   "source": [
    "na_check('FireplaceQu')"
   ]
  },
  {
   "cell_type": "code",
   "execution_count": 38,
   "metadata": {},
   "outputs": [
    {
     "name": "stdout",
     "output_type": "stream",
     "text": [
      "There are 0 missing values in column Fireplaces"
     ]
    },
    {
     "data": {
      "text/plain": [
       "\n",
       "   0    1    2    3    4 \n",
       "1420 1268  219   11    1 "
      ]
     },
     "metadata": {},
     "output_type": "display_data"
    }
   ],
   "source": [
    "na_check('Fireplaces')\n",
    "table(df$Fireplaces)\n",
    "\n",
    " # No missing values in the Fireplaces columns"
   ]
  },
  {
   "cell_type": "markdown",
   "metadata": {},
   "source": [
    "### Lot Variables"
   ]
  },
  {
   "cell_type": "markdown",
   "metadata": {},
   "source": [
    "Lot Frontage is the linear feets of street connected to the property. "
   ]
  },
  {
   "cell_type": "code",
   "execution_count": 39,
   "metadata": {},
   "outputs": [
    {
     "name": "stdout",
     "output_type": "stream",
     "text": [
      "There are 486 missing values in column LotFrontage"
     ]
    },
    {
     "data": {
      "text/html": [
       "'integer'"
      ],
      "text/latex": [
       "'integer'"
      ],
      "text/markdown": [
       "'integer'"
      ],
      "text/plain": [
       "[1] \"integer\""
      ]
     },
     "metadata": {},
     "output_type": "display_data"
    }
   ],
   "source": [
    "na_check('LotFrontage')\n",
    "typeof(df$LotFrontage)"
   ]
  },
  {
   "cell_type": "markdown",
   "metadata": {},
   "source": [
    "In this case, getting rid of the NAs would significantly reduce our sample size. Thus, it is best to impute the median per neighborhood."
   ]
  },
  {
   "cell_type": "code",
   "execution_count": 40,
   "metadata": {},
   "outputs": [],
   "source": [
    "for (i in 1:nrow(df)){\n",
    "    if(is.na(df$LotFrontage[i])){\n",
    "        df$LotFrontage[i] <- as.integer(median(df$LotFrontage[df$Neighborhood==df$Neighborhood[i]], na.rm=TRUE))\n",
    "    }\n",
    "}"
   ]
  },
  {
   "cell_type": "code",
   "execution_count": 41,
   "metadata": {},
   "outputs": [
    {
     "name": "stdout",
     "output_type": "stream",
     "text": [
      "There are 0 missing values in column LotFrontage"
     ]
    }
   ],
   "source": [
    "# Check if it worked\n",
    "na_check('LotFrontage')"
   ]
  },
  {
   "cell_type": "code",
   "execution_count": 42,
   "metadata": {},
   "outputs": [
    {
     "data": {
      "text/plain": [
       "   Min. 1st Qu.  Median    Mean 3rd Qu.    Max. \n",
       "  21.00   60.00   70.00   69.54   80.00  313.00 "
      ]
     },
     "metadata": {},
     "output_type": "display_data"
    }
   ],
   "source": [
    "summary(df$LotFrontage)"
   ]
  },
  {
   "cell_type": "markdown",
   "metadata": {},
   "source": [
    "Lot Shape"
   ]
  },
  {
   "cell_type": "code",
   "execution_count": 43,
   "metadata": {},
   "outputs": [
    {
     "name": "stdout",
     "output_type": "stream",
     "text": [
      "There are 0 missing values in column LotShape"
     ]
    }
   ],
   "source": [
    "na_check('LotShape')"
   ]
  },
  {
   "cell_type": "markdown",
   "metadata": {},
   "source": [
    "General shape of the property, with no missing values. According to the doc, this is what we have:\n",
    "\n",
    "       Reg\tRegular\t\n",
    "       IR1\tSlightly irregular\n",
    "       IR2\tModerately Irregular\n",
    "       IR3\tIrregular\n",
    "There is a clear order, with regular being the best and irregular being the worst. Thus, We will encode this one as an ordinal variable."
   ]
  },
  {
   "cell_type": "code",
   "execution_count": 44,
   "metadata": {},
   "outputs": [
    {
     "data": {
      "text/plain": [
       "\n",
       "   0    1    2    3 \n",
       "  16   76  968 1859 "
      ]
     },
     "metadata": {},
     "output_type": "display_data"
    }
   ],
   "source": [
    "LotShapeQuality  <- c('IR3'=0, 'IR2'=1, 'IR1'=2, 'Reg'=3)\n",
    "df$LotShape <- as.integer(revalue(df$LotShape,LotShapeQuality))\n",
    "table(df$LotShape)"
   ]
  },
  {
   "cell_type": "markdown",
   "metadata": {},
   "source": [
    "Lot Config"
   ]
  },
  {
   "cell_type": "markdown",
   "metadata": {},
   "source": [
    "Now onto dealing with Lot Configuration - That it, the overall shape of the property. \n",
    "We are not sure whether the values are ordinal or simply categorical - We'll use a simple visualization to represent it."
   ]
  },
  {
   "cell_type": "code",
   "execution_count": 45,
   "metadata": {},
   "outputs": [
    {
     "name": "stdout",
     "output_type": "stream",
     "text": [
      "There are 0 missing values in column LotConfig"
     ]
    },
    {
     "data": {
      "text/html": [
       "'character'"
      ],
      "text/latex": [
       "'character'"
      ],
      "text/markdown": [
       "'character'"
      ],
      "text/plain": [
       "[1] \"character\""
      ]
     },
     "metadata": {},
     "output_type": "display_data"
    }
   ],
   "source": [
    "na_check('LotConfig')\n",
    "typeof(df$LotConfig)"
   ]
  },
  {
   "cell_type": "code",
   "execution_count": 46,
   "metadata": {
    "scrolled": true
   },
   "outputs": [
    {
     "data": {},
     "metadata": {},
     "output_type": "display_data"
    },
    {
     "data": {
      "image/png": "[encoded data removed]",
      "text/plain": [
       "plot without title"
      ]
     },
     "metadata": {},
     "output_type": "display_data"
    }
   ],
   "source": [
    "ggplot(df[!is.na(df$SalePrice),], aes(x=as.factor(LotConfig), y=SalePrice)) +\n",
    "        geom_bar(stat='summary', fun.y = \"median\", fill='red',colour='black') +\n",
    "        scale_y_continuous(breaks= seq(0, 800000, by=100000), labels = comma) + \n",
    "        geom_label(stat = \"count\", aes(label = ..count.., y = ..count..))"
   ]
  },
  {
   "cell_type": "markdown",
   "metadata": {},
   "source": [
    "There is no clear order - Thus this variable is a factor."
   ]
  },
  {
   "cell_type": "code",
   "execution_count": 47,
   "metadata": {},
   "outputs": [
    {
     "data": {
      "text/plain": [
       "\n",
       " Corner CulDSac     FR2     FR3  Inside \n",
       "    511     176      85      14    2133 "
      ]
     },
     "metadata": {},
     "output_type": "display_data"
    },
    {
     "data": {
      "text/html": [
       "<ol class=list-inline>\n",
       "\t<li>'Corner'</li>\n",
       "\t<li>'CulDSac'</li>\n",
       "\t<li>'FR2'</li>\n",
       "\t<li>'FR3'</li>\n",
       "\t<li>'Inside'</li>\n",
       "</ol>\n"
      ],
      "text/latex": [
       "\\begin{enumerate*}\n",
       "\\item 'Corner'\n",
       "\\item 'CulDSac'\n",
       "\\item 'FR2'\n",
       "\\item 'FR3'\n",
       "\\item 'Inside'\n",
       "\\end{enumerate*}\n"
      ],
      "text/markdown": [
       "1. 'Corner'\n",
       "2. 'CulDSac'\n",
       "3. 'FR2'\n",
       "4. 'FR3'\n",
       "5. 'Inside'\n",
       "\n",
       "\n"
      ],
      "text/plain": [
       "[1] \"Corner\"  \"CulDSac\" \"FR2\"     \"FR3\"     \"Inside\" "
      ]
     },
     "metadata": {},
     "output_type": "display_data"
    }
   ],
   "source": [
    "df$LotConfig <- as.factor(df$LotConfig)\n",
    "table(df$LotConfig)\n",
    "levels(df$LotConfig) #Quick check"
   ]
  },
  {
   "cell_type": "markdown",
   "metadata": {},
   "source": [
    "### Garage Variables"
   ]
  },
  {
   "cell_type": "markdown",
   "metadata": {},
   "source": [
    "There are 7 variables related to features of the garage.\n",
    "\n",
    "    GarageYrBlt, 159 NA\n",
    "    GarageFinish, 159 NA\n",
    "       Fin\tFinished\n",
    "       RFn\tRough Finished\t\n",
    "       Unf\tUnfinished\n",
    "       NA\tNo Garage\n",
    "\n",
    "    GarageQual,  159 NA\n",
    "       Ex\tExcellent\n",
    "       Gd\tGood\n",
    "       TA\tTypical/Average\n",
    "       Fa\tFair\n",
    "       Po\tPoor\n",
    "       NA\tNo Garage\n",
    "\n",
    "    GarageCond,  159 NA\n",
    "       Ex\tExcellent\n",
    "       Gd\tGood\n",
    "       TA\tTypical/Average\n",
    "       Fa\tFair\n",
    "       Po\tPoor\n",
    "       NA\tNo Garage\n",
    "\n",
    "    GarageType,  157 NA\n",
    "       2Types\tMore than one type of garage\n",
    "       Attchd\tAttached to home\n",
    "       Basment\tBasement Garage\n",
    "       BuiltIn\tBuilt-In (Garage part of house - typically has room above garage)\n",
    "       CarPort\tCar Port\n",
    "       Detchd\tDetached from home\n",
    "       NA\tNo Garage\n",
    "\n",
    "    GarageCars,  1 NA \n",
    "    GarageArea,  1 NA\n",
    "    \n",
    "GarageYrBlt can be infered from the year of construction of the house - some garages may have been built after, but it is reasonable to say those constructions require permits, so it would most likely recorded if the house and garage had different construction years.\n",
    "\n",
    "Garage Finish/quality/condition/type are easy to deal with, just replace NA by 'No Garage'. Some seem ordinal, like condition, some are not, like the type. We will deal with those as we go.\n"
   ]
  },
  {
   "cell_type": "code",
   "execution_count": 48,
   "metadata": {},
   "outputs": [],
   "source": [
    "Gar <- c('GarageYrBlt','GarageCars','GarageArea','GarageType','GarageCond','GarageQual','GarageFinish')"
   ]
  },
  {
   "cell_type": "code",
   "execution_count": 49,
   "metadata": {},
   "outputs": [],
   "source": [
    "df$GarageYrBlt[is.na(df$GarageYrBlt)] <- df$YearBuilt[is.na(df$GarageYrBlt)]"
   ]
  },
  {
   "cell_type": "markdown",
   "metadata": {},
   "source": [
    "We need to find the 2 rows of discrepancy between 159 NA and 157 NA to have everything cleaned up"
   ]
  },
  {
   "cell_type": "code",
   "execution_count": 50,
   "metadata": {},
   "outputs": [
    {
     "data": {
      "text/plain": [
       "\n",
       "\n",
       "|     | GarageYrBlt| GarageCars| GarageArea|GarageType |GarageCond |GarageQual |GarageFinish |\n",
       "|:----|-----------:|----------:|----------:|:----------|:----------|:----------|:------------|\n",
       "|2127 |        1910|          1|        360|Detchd     |NA         |NA         |NA           |\n",
       "|2577 |        1923|         NA|         NA|Detchd     |NA         |NA         |NA           |"
      ]
     },
     "metadata": {},
     "output_type": "display_data"
    }
   ],
   "source": [
    "kable(df[!is.na(df$GarageType) & is.na(df$GarageFinish), Gar])"
   ]
  },
  {
   "cell_type": "markdown",
   "metadata": {},
   "source": [
    "House 2577 does not have a garage, and house 2127 seems to have one. Thus, there are 158 houses without a garage. \n",
    "For house 2127, I will input the mode - naive imputation."
   ]
  },
  {
   "cell_type": "code",
   "execution_count": 51,
   "metadata": {},
   "outputs": [],
   "source": [
    "# Fixing 2127\n",
    "\n",
    "df$GarageCond[2127] <- names(sort(-table(df$GarageCond)))[1]\n",
    "df$GarageQual[2127] <- names(sort(-table(df$GarageQual)))[1]\n",
    "df$GarageFinish[2127] <- names(sort(-table(df$GarageFinish)))[1]"
   ]
  },
  {
   "cell_type": "code",
   "execution_count": 52,
   "metadata": {},
   "outputs": [
    {
     "data": {
      "text/html": [
       "<table>\n",
       "<thead><tr><th></th><th scope=col>GarageYrBlt</th><th scope=col>GarageCars</th><th scope=col>GarageArea</th><th scope=col>GarageType</th><th scope=col>GarageCond</th><th scope=col>GarageQual</th><th scope=col>GarageFinish</th></tr></thead>\n",
       "<tbody>\n",
       "\t<tr><th scope=row>2127</th><td>1910  </td><td>1     </td><td>360   </td><td>Detchd</td><td>TA    </td><td>TA    </td><td>Unf   </td></tr>\n",
       "</tbody>\n",
       "</table>\n"
      ],
      "text/latex": [
       "\\begin{tabular}{r|lllllll}\n",
       "  & GarageYrBlt & GarageCars & GarageArea & GarageType & GarageCond & GarageQual & GarageFinish\\\\\n",
       "\\hline\n",
       "\t2127 & 1910   & 1      & 360    & Detchd & TA     & TA     & Unf   \\\\\n",
       "\\end{tabular}\n"
      ],
      "text/markdown": [
       "\n",
       "| <!--/--> | GarageYrBlt | GarageCars | GarageArea | GarageType | GarageCond | GarageQual | GarageFinish | \n",
       "|---|\n",
       "| 2127 | 1910   | 1      | 360    | Detchd | TA     | TA     | Unf    | \n",
       "\n",
       "\n"
      ],
      "text/plain": [
       "     GarageYrBlt GarageCars GarageArea GarageType GarageCond GarageQual\n",
       "2127 1910        1          360        Detchd     TA         TA        \n",
       "     GarageFinish\n",
       "2127 Unf         "
      ]
     },
     "metadata": {},
     "output_type": "display_data"
    }
   ],
   "source": [
    "df[2127,Gar]"
   ]
  },
  {
   "cell_type": "code",
   "execution_count": 53,
   "metadata": {},
   "outputs": [],
   "source": [
    "# Fixing 2577 - Does not have a garage\n",
    "\n",
    "df$GarageCars[2577] <- 0\n",
    "df$GarageType[2577] <- NA\n",
    "df$GarageArea[2577] <- 0"
   ]
  },
  {
   "cell_type": "code",
   "execution_count": 54,
   "metadata": {},
   "outputs": [
    {
     "name": "stdout",
     "output_type": "stream",
     "text": [
      "There are 158 missing values in column GarageType"
     ]
    }
   ],
   "source": [
    "na_check('GarageType')"
   ]
  },
  {
   "cell_type": "markdown",
   "metadata": {},
   "source": [
    "In this section, We will provide a brief commentary about the variable and how I transform it"
   ]
  },
  {
   "cell_type": "code",
   "execution_count": 55,
   "metadata": {},
   "outputs": [
    {
     "data": {
      "text/plain": [
       "\n",
       "   2Types    Attchd   Basment   BuiltIn   CarPort    Detchd No Garage \n",
       "       23      1723        36       186        15       778       158 "
      ]
     },
     "metadata": {},
     "output_type": "display_data"
    }
   ],
   "source": [
    "# Garage Type - Not ordinal, factor, and NA means no garage\n",
    "\n",
    "df$GarageType[is.na(df$GarageType)] <- 'No Garage'\n",
    "df$GarageType <- as.factor(df$GarageType)\n",
    "table(df$GarageType)"
   ]
  },
  {
   "cell_type": "code",
   "execution_count": 56,
   "metadata": {},
   "outputs": [
    {
     "data": {
      "text/plain": [
       "\n",
       "   0    1    2    3 \n",
       " 158 1231  811  719 "
      ]
     },
     "metadata": {},
     "output_type": "display_data"
    }
   ],
   "source": [
    "# Garage Finish - ordinal, replace NA with no garage\n",
    "\n",
    "# NA = No Garage, Unf = Unfinished, RFn = Rough Finish, Fin = Finished\n",
    "\n",
    "df$GarageFinish[is.na(df$GarageFinish)] <- 'No Garage'\n",
    "df$GarageFinish <- as.integer(revalue(df$GarageFinish,c('No Garage'=0,'Unf'=1,'RFn'=2,'Fin'=3)))\n",
    "table(df$GarageFinish)"
   ]
  },
  {
   "cell_type": "code",
   "execution_count": 57,
   "metadata": {},
   "outputs": [
    {
     "data": {
      "text/plain": [
       "\n",
       "   0    1    2    3    4    5 \n",
       " 158    5  124 2605   24    3 "
      ]
     },
     "metadata": {},
     "output_type": "display_data"
    }
   ],
   "source": [
    "# Garage Quality - ordinal, NA means no garage\n",
    "\n",
    "# NA = No Garage, Po = Poor, Fa = Fair, TA = Typical, Gd = Good, Ex = Excellent\n",
    "\n",
    "df$GarageQual[is.na(df$GarageQual)] <- 'No Garage'\n",
    "Qualities  <- c('No Garage'=0,'Po'=1,'Fa'=2,'TA'=3,'Gd'=4,'Ex'=5)\n",
    "df$GarageQual <- as.integer(revalue(df$GarageQual,Qualities))\n",
    "table(df$GarageQual)"
   ]
  },
  {
   "cell_type": "code",
   "execution_count": 58,
   "metadata": {},
   "outputs": [
    {
     "data": {
      "text/plain": [
       "\n",
       "   0    1    2    3    4    5 \n",
       " 158   14   74 2655   15    3 "
      ]
     },
     "metadata": {},
     "output_type": "display_data"
    }
   ],
   "source": [
    "# Garage Condition - ordinal, NA means no garage\n",
    "\n",
    "df$GarageCond[is.na(df$GarageCond)] <- 'No Garage'\n",
    "df$GarageCond <- as.integer(revalue(df$GarageCond,Qualities))\n",
    "table(df$GarageCond)"
   ]
  },
  {
   "cell_type": "code",
   "execution_count": 59,
   "metadata": {},
   "outputs": [
    {
     "data": {
      "text/html": [
       "<dl class=dl-horizontal>\n",
       "\t<dt>SalePrice</dt>\n",
       "\t\t<dd>1459</dd>\n",
       "\t<dt>BsmtCond</dt>\n",
       "\t\t<dd>82</dd>\n",
       "\t<dt>BsmtExposure</dt>\n",
       "\t\t<dd>82</dd>\n",
       "\t<dt>BsmtQual</dt>\n",
       "\t\t<dd>81</dd>\n",
       "\t<dt>BsmtFinType2</dt>\n",
       "\t\t<dd>80</dd>\n",
       "\t<dt>BsmtFinType1</dt>\n",
       "\t\t<dd>79</dd>\n",
       "\t<dt>MasVnrType</dt>\n",
       "\t\t<dd>24</dd>\n",
       "\t<dt>MasVnrArea</dt>\n",
       "\t\t<dd>23</dd>\n",
       "\t<dt>MSZoning</dt>\n",
       "\t\t<dd>4</dd>\n",
       "\t<dt>Utilities</dt>\n",
       "\t\t<dd>2</dd>\n",
       "\t<dt>BsmtFullBath</dt>\n",
       "\t\t<dd>2</dd>\n",
       "\t<dt>BsmtHalfBath</dt>\n",
       "\t\t<dd>2</dd>\n",
       "\t<dt>Functional</dt>\n",
       "\t\t<dd>2</dd>\n",
       "\t<dt>Exterior1st</dt>\n",
       "\t\t<dd>1</dd>\n",
       "\t<dt>Exterior2nd</dt>\n",
       "\t\t<dd>1</dd>\n",
       "\t<dt>BsmtFinSF1</dt>\n",
       "\t\t<dd>1</dd>\n",
       "\t<dt>BsmtFinSF2</dt>\n",
       "\t\t<dd>1</dd>\n",
       "\t<dt>BsmtUnfSF</dt>\n",
       "\t\t<dd>1</dd>\n",
       "\t<dt>TotalBsmtSF</dt>\n",
       "\t\t<dd>1</dd>\n",
       "\t<dt>Electrical</dt>\n",
       "\t\t<dd>1</dd>\n",
       "\t<dt>KitchenQual</dt>\n",
       "\t\t<dd>1</dd>\n",
       "\t<dt>SaleType</dt>\n",
       "\t\t<dd>1</dd>\n",
       "</dl>\n"
      ],
      "text/latex": [
       "\\begin{description*}\n",
       "\\item[SalePrice] 1459\n",
       "\\item[BsmtCond] 82\n",
       "\\item[BsmtExposure] 82\n",
       "\\item[BsmtQual] 81\n",
       "\\item[BsmtFinType2] 80\n",
       "\\item[BsmtFinType1] 79\n",
       "\\item[MasVnrType] 24\n",
       "\\item[MasVnrArea] 23\n",
       "\\item[MSZoning] 4\n",
       "\\item[Utilities] 2\n",
       "\\item[BsmtFullBath] 2\n",
       "\\item[BsmtHalfBath] 2\n",
       "\\item[Functional] 2\n",
       "\\item[Exterior1st] 1\n",
       "\\item[Exterior2nd] 1\n",
       "\\item[BsmtFinSF1] 1\n",
       "\\item[BsmtFinSF2] 1\n",
       "\\item[BsmtUnfSF] 1\n",
       "\\item[TotalBsmtSF] 1\n",
       "\\item[Electrical] 1\n",
       "\\item[KitchenQual] 1\n",
       "\\item[SaleType] 1\n",
       "\\end{description*}\n"
      ],
      "text/markdown": [
       "SalePrice\n",
       ":   1459BsmtCond\n",
       ":   82BsmtExposure\n",
       ":   82BsmtQual\n",
       ":   81BsmtFinType2\n",
       ":   80BsmtFinType1\n",
       ":   79MasVnrType\n",
       ":   24MasVnrArea\n",
       ":   23MSZoning\n",
       ":   4Utilities\n",
       ":   2BsmtFullBath\n",
       ":   2BsmtHalfBath\n",
       ":   2Functional\n",
       ":   2Exterior1st\n",
       ":   1Exterior2nd\n",
       ":   1BsmtFinSF1\n",
       ":   1BsmtFinSF2\n",
       ":   1BsmtUnfSF\n",
       ":   1TotalBsmtSF\n",
       ":   1Electrical\n",
       ":   1KitchenQual\n",
       ":   1SaleType\n",
       ":   1\n",
       "\n"
      ],
      "text/plain": [
       "   SalePrice     BsmtCond BsmtExposure     BsmtQual BsmtFinType2 BsmtFinType1 \n",
       "        1459           82           82           81           80           79 \n",
       "  MasVnrType   MasVnrArea     MSZoning    Utilities BsmtFullBath BsmtHalfBath \n",
       "          24           23            4            2            2            2 \n",
       "  Functional  Exterior1st  Exterior2nd   BsmtFinSF1   BsmtFinSF2    BsmtUnfSF \n",
       "           2            1            1            1            1            1 \n",
       " TotalBsmtSF   Electrical  KitchenQual     SaleType \n",
       "           1            1            1            1 "
      ]
     },
     "metadata": {},
     "output_type": "display_data"
    }
   ],
   "source": [
    "# What do we have remaining? \n",
    "sort(colSums(sapply(df[which(colSums(is.na(df))>0)],is.na)),decreasing = TRUE)"
   ]
  },
  {
   "cell_type": "markdown",
   "metadata": {},
   "source": [
    "### Basement Variables "
   ]
  },
  {
   "cell_type": "markdown",
   "metadata": {},
   "source": [
    "11 variables related to the Basement \n",
    "\n",
    "5 of those variables have between 79 and 82 NAs\n",
    "\n",
    "BsmtQual: Evaluates the height of the basement\n",
    "\n",
    "       Ex\tExcellent (100+ inches)\t\n",
    "       Gd\tGood (90-99 inches)\n",
    "       TA\tTypical (80-89 inches)\n",
    "       Fa\tFair (70-79 inches)\n",
    "       Po\tPoor (<70 inches\n",
    "       NA\tNo Basement\n",
    "\t\t\n",
    "BsmtCond: Evaluates the general condition of the basement\n",
    "\n",
    "       Ex\tExcellent\n",
    "       Gd\tGood\n",
    "       TA\tTypical - slight dampness allowed\n",
    "       Fa\tFair - dampness or some cracking or settling\n",
    "       Po\tPoor - Severe cracking, settling, or wetness\n",
    "       NA\tNo Basement\n",
    "\t\n",
    "BsmtExposure: Refers to walkout or garden level walls\n",
    "\n",
    "       Gd\tGood Exposure\n",
    "       Av\tAverage Exposure (split levels or foyers typically score average or above)\t\n",
    "       Mn\tMimimum Exposure\n",
    "       No\tNo Exposure\n",
    "       NA\tNo Basement\n",
    "\t\n",
    "BsmtFinType1: Rating of basement finished area\n",
    "\n",
    "       GLQ\tGood Living Quarters\n",
    "       ALQ\tAverage Living Quarters\n",
    "       BLQ\tBelow Average Living Quarters\t\n",
    "       Rec\tAverage Rec Room\n",
    "       LwQ\tLow Quality\n",
    "       Unf\tUnfinshed\n",
    "       NA\tNo Basement\n",
    "\t\t\n",
    "BsmtFinSF1: Type 1 finished square feet\n",
    "\n",
    "BsmtFinType2: Rating of basement finished area (if multiple types)\n",
    "\n",
    "       GLQ\tGood Living Quarters\n",
    "       ALQ\tAverage Living Quarters\n",
    "       BLQ\tBelow Average Living Quarters\t\n",
    "       Rec\tAverage Rec Room\n",
    "       LwQ\tLow Quality\n",
    "       Unf\tUnfinshed\n",
    "       NA\tNo Basement\n",
    "\n",
    "BsmtFinSF2: Type 2 finished square feet\n",
    "\n",
    "BsmtUnfSF: Unfinished square feet of basement area\n",
    "\n",
    "TotalBsmtSF: Total square feet of basement area\n",
    "\n",
    "BsmtFullBath: Basement full bathrooms\n",
    "\n",
    "BsmtHalfBath: Basement half bathrooms"
   ]
  },
  {
   "cell_type": "code",
   "execution_count": 60,
   "metadata": {},
   "outputs": [
    {
     "data": {
      "text/html": [
       "79"
      ],
      "text/latex": [
       "79"
      ],
      "text/markdown": [
       "79"
      ],
      "text/plain": [
       "[1] 79"
      ]
     },
     "metadata": {},
     "output_type": "display_data"
    }
   ],
   "source": [
    "# Are the Nas in one category the same at the ones in the other?\n",
    "\n",
    "length(which(is.na(df$BsmtQual) & is.na(df$BsmtCond) \n",
    "             & is.na(df$BsmtExposure) & is.na(df$BsmtFinType1) & is.na(df$BsmtFinType2)))"
   ]
  },
  {
   "cell_type": "code",
   "execution_count": 61,
   "metadata": {},
   "outputs": [
    {
     "data": {
      "text/html": [
       "<table>\n",
       "<thead><tr><th></th><th scope=col>BsmtQual</th><th scope=col>BsmtCond</th><th scope=col>BsmtExposure</th><th scope=col>BsmtFinType1</th><th scope=col>BsmtFinType2</th></tr></thead>\n",
       "<tbody>\n",
       "\t<tr><th scope=row>333</th><td>Gd </td><td>TA </td><td>No </td><td>GLQ</td><td>NA </td></tr>\n",
       "\t<tr><th scope=row>949</th><td>Gd </td><td>TA </td><td>NA </td><td>Unf</td><td>Unf</td></tr>\n",
       "\t<tr><th scope=row>1488</th><td>Gd </td><td>TA </td><td>NA </td><td>Unf</td><td>Unf</td></tr>\n",
       "\t<tr><th scope=row>2041</th><td>Gd </td><td>NA </td><td>Mn </td><td>GLQ</td><td>Rec</td></tr>\n",
       "\t<tr><th scope=row>2186</th><td>TA </td><td>NA </td><td>No </td><td>BLQ</td><td>Unf</td></tr>\n",
       "\t<tr><th scope=row>2218</th><td>NA </td><td>Fa </td><td>No </td><td>Unf</td><td>Unf</td></tr>\n",
       "\t<tr><th scope=row>2219</th><td>NA </td><td>TA </td><td>No </td><td>Unf</td><td>Unf</td></tr>\n",
       "\t<tr><th scope=row>2349</th><td>Gd </td><td>TA </td><td>NA </td><td>Unf</td><td>Unf</td></tr>\n",
       "\t<tr><th scope=row>2525</th><td>TA </td><td>NA </td><td>Av </td><td>ALQ</td><td>Unf</td></tr>\n",
       "</tbody>\n",
       "</table>\n"
      ],
      "text/latex": [
       "\\begin{tabular}{r|lllll}\n",
       "  & BsmtQual & BsmtCond & BsmtExposure & BsmtFinType1 & BsmtFinType2\\\\\n",
       "\\hline\n",
       "\t333 & Gd  & TA  & No  & GLQ & NA \\\\\n",
       "\t949 & Gd  & TA  & NA  & Unf & Unf\\\\\n",
       "\t1488 & Gd  & TA  & NA  & Unf & Unf\\\\\n",
       "\t2041 & Gd  & NA  & Mn  & GLQ & Rec\\\\\n",
       "\t2186 & TA  & NA  & No  & BLQ & Unf\\\\\n",
       "\t2218 & NA  & Fa  & No  & Unf & Unf\\\\\n",
       "\t2219 & NA  & TA  & No  & Unf & Unf\\\\\n",
       "\t2349 & Gd  & TA  & NA  & Unf & Unf\\\\\n",
       "\t2525 & TA  & NA  & Av  & ALQ & Unf\\\\\n",
       "\\end{tabular}\n"
      ],
      "text/markdown": [
       "\n",
       "| <!--/--> | BsmtQual | BsmtCond | BsmtExposure | BsmtFinType1 | BsmtFinType2 | \n",
       "|---|---|---|---|---|---|---|---|---|\n",
       "| 333 | Gd  | TA  | No  | GLQ | NA  | \n",
       "| 949 | Gd  | TA  | NA  | Unf | Unf | \n",
       "| 1488 | Gd  | TA  | NA  | Unf | Unf | \n",
       "| 2041 | Gd  | NA  | Mn  | GLQ | Rec | \n",
       "| 2186 | TA  | NA  | No  | BLQ | Unf | \n",
       "| 2218 | NA  | Fa  | No  | Unf | Unf | \n",
       "| 2219 | NA  | TA  | No  | Unf | Unf | \n",
       "| 2349 | Gd  | TA  | NA  | Unf | Unf | \n",
       "| 2525 | TA  | NA  | Av  | ALQ | Unf | \n",
       "\n",
       "\n"
      ],
      "text/plain": [
       "     BsmtQual BsmtCond BsmtExposure BsmtFinType1 BsmtFinType2\n",
       "333  Gd       TA       No           GLQ          NA          \n",
       "949  Gd       TA       NA           Unf          Unf         \n",
       "1488 Gd       TA       NA           Unf          Unf         \n",
       "2041 Gd       NA       Mn           GLQ          Rec         \n",
       "2186 TA       NA       No           BLQ          Unf         \n",
       "2218 NA       Fa       No           Unf          Unf         \n",
       "2219 NA       TA       No           Unf          Unf         \n",
       "2349 Gd       TA       NA           Unf          Unf         \n",
       "2525 TA       NA       Av           ALQ          Unf         "
      ]
     },
     "metadata": {},
     "output_type": "display_data"
    }
   ],
   "source": [
    "# Where are the additional NAs\n",
    "\n",
    "df[!is.na(df$BsmtFinType1) & (is.na(df$BsmtCond)|is.na(df$BsmtQual)|is.na(df$BsmtExposure)|is.na(df$BsmtFinType2)), \n",
    "    c('BsmtQual', 'BsmtCond', 'BsmtExposure', 'BsmtFinType1', 'BsmtFinType2')]"
   ]
  },
  {
   "cell_type": "code",
   "execution_count": 62,
   "metadata": {},
   "outputs": [],
   "source": [
    "# Imputing modes for each missing variable in houses WITH basements\n",
    "\n",
    "df$BsmtFinType2[333] <- names(sort(-table(df$BsmtFinType2)))[1]\n",
    "df$BsmtExposure[c(949, 1488, 2349)] <- names(sort(-table(df$BsmtExposure)))[1]\n",
    "df$BsmtCond[c(2041, 2186, 2525)] <- names(sort(-table(df$BsmtCond)))[1]\n",
    "df$BsmtQual[c(2218, 2219)] <- names(sort(-table(df$BsmtQual)))[1]"
   ]
  },
  {
   "cell_type": "markdown",
   "metadata": {},
   "source": [
    "We now have 79 houses with no basement. Now, let's see whether they are ordinal or categorical"
   ]
  },
  {
   "cell_type": "code",
   "execution_count": 63,
   "metadata": {},
   "outputs": [
    {
     "name": "stderr",
     "output_type": "stream",
     "text": [
      "The following `from` values were not present in `x`: Po\n"
     ]
    },
    {
     "data": {
      "text/plain": [
       "\n",
       "   0    2    3    4    5 \n",
       "  79   88 1285 1209  258 "
      ]
     },
     "metadata": {},
     "output_type": "display_data"
    }
   ],
   "source": [
    "# Basement Quality - Height of the basement\n",
    "\n",
    "# Same qualities, clearly ordinal\n",
    "\n",
    "df$BsmtQual[is.na(df$BsmtQual)] <- 'No Bsmt'\n",
    "Qualities  <- c('No Bsmt'=0,'Po'=1,'Fa'=2,'TA'=3,'Gd'=4,'Ex'=5)\n",
    "df$BsmtQual <- as.integer(revalue(df$BsmtQual,Qualities))\n",
    "table(df$BsmtQual)"
   ]
  },
  {
   "cell_type": "code",
   "execution_count": 64,
   "metadata": {},
   "outputs": [
    {
     "name": "stderr",
     "output_type": "stream",
     "text": [
      "The following `from` values were not present in `x`: Ex\n"
     ]
    },
    {
     "data": {
      "text/plain": [
       "\n",
       "   0    1    2    3    4 \n",
       "  79    5  104 2609  122 "
      ]
     },
     "metadata": {},
     "output_type": "display_data"
    }
   ],
   "source": [
    "# Basement Cond - General condition of the basement\n",
    "\n",
    "# Same qualities, ordinal as well\n",
    "\n",
    "df$BsmtCond[is.na(df$BsmtCond)] <- 'No Bsmt'\n",
    "df$BsmtCond <- as.integer(revalue(df$BsmtCond,Qualities))\n",
    "table(df$BsmtCond)"
   ]
  },
  {
   "cell_type": "code",
   "execution_count": 65,
   "metadata": {},
   "outputs": [
    {
     "data": {
      "text/plain": [
       "\n",
       "   0    1    2    3    4 \n",
       "  79 1907  239  418  276 "
      ]
     },
     "metadata": {},
     "output_type": "display_data"
    }
   ],
   "source": [
    "# Basement Exps - Walkout/garden level walls\n",
    "\n",
    "# Ordinal as well, different qualities\n",
    "\n",
    "df$BsmtExposure[is.na(df$BsmtExposure)] <- 'No Bsmt'\n",
    "Exposure <- c('No Bsmt'=0, 'No'=1, 'Mn'=2, 'Av'=3, 'Gd'=4)\n",
    "\n",
    "df$BsmtExposure<-as.integer(revalue(df$BsmtExposure, Exposure))\n",
    "table(df$BsmtExposure)"
   ]
  },
  {
   "cell_type": "code",
   "execution_count": 66,
   "metadata": {},
   "outputs": [
    {
     "data": {
      "text/plain": [
       "\n",
       "  0   1   2   3   4   5   6 \n",
       " 79 851 154 288 269 429 849 "
      ]
     },
     "metadata": {},
     "output_type": "display_data"
    }
   ],
   "source": [
    "# Basement FinType1 - Rating of basement finished area\n",
    "\n",
    "# Also ordinal, different qualities\n",
    "\n",
    "df$BsmtFinType1[is.na(df$BsmtFinType1)] <- 'No Bsmt'\n",
    "FinType <- c('No Bsmt'=0, 'Unf'=1, 'LwQ'=2, 'Rec'=3, 'BLQ'=4, 'ALQ'=5, 'GLQ'=6)\n",
    "\n",
    "df$BsmtFinType1<-as.integer(revalue(df$BsmtFinType1, FinType))\n",
    "table(df$BsmtFinType1)"
   ]
  },
  {
   "cell_type": "code",
   "execution_count": 67,
   "metadata": {},
   "outputs": [
    {
     "data": {
      "text/plain": [
       "\n",
       "   0    1    2    3    4    5    6 \n",
       "  79 2494   87  105   68   52   34 "
      ]
     },
     "metadata": {},
     "output_type": "display_data"
    }
   ],
   "source": [
    "# Basement FinType2 - Rating of basement finished area if multiple types\n",
    "df$BsmtFinType2[is.na(df$BsmtFinType2)] <- 'No Bsmt'\n",
    "\n",
    "df$BsmtFinType2<-as.integer(revalue(df$BsmtFinType2, FinType))\n",
    "table(df$BsmtFinType2)"
   ]
  },
  {
   "cell_type": "code",
   "execution_count": 68,
   "metadata": {},
   "outputs": [],
   "source": [
    "# Dealing with the few NAs remaining in the remaining basement variables - here we are assuming \n",
    "# that all missing variables really represent a 0, meaning there is no basement\n",
    "\n",
    "df$BsmtFullBath[is.na(df$BsmtFullBath)] <- 0\n",
    "df$BsmtHalfBath[is.na(df$BsmtHalfBath)] <- 0\n",
    "df$BsmtFinSF1[is.na(df$BsmtFinSF1)] <- 0\n",
    "df$BsmtFinSF2[is.na(df$BsmtFinSF2)] <- 0\n",
    "df$BsmtUnfSF[is.na(df$BsmtUnfSF)] <- 0\n",
    "df$TotalBsmtSF[is.na(df$TotalBsmtSF)] <- 0"
   ]
  },
  {
   "cell_type": "code",
   "execution_count": 69,
   "metadata": {},
   "outputs": [
    {
     "data": {
      "text/html": [
       "<dl class=dl-horizontal>\n",
       "\t<dt>SalePrice</dt>\n",
       "\t\t<dd>1459</dd>\n",
       "\t<dt>MasVnrType</dt>\n",
       "\t\t<dd>24</dd>\n",
       "\t<dt>MasVnrArea</dt>\n",
       "\t\t<dd>23</dd>\n",
       "\t<dt>MSZoning</dt>\n",
       "\t\t<dd>4</dd>\n",
       "\t<dt>Utilities</dt>\n",
       "\t\t<dd>2</dd>\n",
       "\t<dt>Functional</dt>\n",
       "\t\t<dd>2</dd>\n",
       "\t<dt>Exterior1st</dt>\n",
       "\t\t<dd>1</dd>\n",
       "\t<dt>Exterior2nd</dt>\n",
       "\t\t<dd>1</dd>\n",
       "\t<dt>Electrical</dt>\n",
       "\t\t<dd>1</dd>\n",
       "\t<dt>KitchenQual</dt>\n",
       "\t\t<dd>1</dd>\n",
       "\t<dt>SaleType</dt>\n",
       "\t\t<dd>1</dd>\n",
       "</dl>\n"
      ],
      "text/latex": [
       "\\begin{description*}\n",
       "\\item[SalePrice] 1459\n",
       "\\item[MasVnrType] 24\n",
       "\\item[MasVnrArea] 23\n",
       "\\item[MSZoning] 4\n",
       "\\item[Utilities] 2\n",
       "\\item[Functional] 2\n",
       "\\item[Exterior1st] 1\n",
       "\\item[Exterior2nd] 1\n",
       "\\item[Electrical] 1\n",
       "\\item[KitchenQual] 1\n",
       "\\item[SaleType] 1\n",
       "\\end{description*}\n"
      ],
      "text/markdown": [
       "SalePrice\n",
       ":   1459MasVnrType\n",
       ":   24MasVnrArea\n",
       ":   23MSZoning\n",
       ":   4Utilities\n",
       ":   2Functional\n",
       ":   2Exterior1st\n",
       ":   1Exterior2nd\n",
       ":   1Electrical\n",
       ":   1KitchenQual\n",
       ":   1SaleType\n",
       ":   1\n",
       "\n"
      ],
      "text/plain": [
       "  SalePrice  MasVnrType  MasVnrArea    MSZoning   Utilities  Functional \n",
       "       1459          24          23           4           2           2 \n",
       "Exterior1st Exterior2nd  Electrical KitchenQual    SaleType \n",
       "          1           1           1           1           1 "
      ]
     },
     "metadata": {},
     "output_type": "display_data"
    }
   ],
   "source": [
    "# What do we have remaining? \n",
    "sort(colSums(sapply(df[which(colSums(is.na(df))>0)],is.na)),decreasing = TRUE)"
   ]
  },
  {
   "cell_type": "markdown",
   "metadata": {},
   "source": [
    "### Masonry Variables"
   ]
  },
  {
   "cell_type": "markdown",
   "metadata": {},
   "source": [
    "2 variables relate to masonry, with Masonry Veneer Type having 24 NAs and Masonry Veneer Area having 23. Logically, if a house has a veneer area, it must have a veneer type, so I must find the one that is missing."
   ]
  },
  {
   "cell_type": "code",
   "execution_count": 70,
   "metadata": {},
   "outputs": [
    {
     "data": {
      "text/html": [
       "<table>\n",
       "<thead><tr><th></th><th scope=col>MasVnrType</th><th scope=col>MasVnrArea</th></tr></thead>\n",
       "<tbody>\n",
       "\t<tr><th scope=row>2611</th><td>NA </td><td>198</td></tr>\n",
       "</tbody>\n",
       "</table>\n"
      ],
      "text/latex": [
       "\\begin{tabular}{r|ll}\n",
       "  & MasVnrType & MasVnrArea\\\\\n",
       "\\hline\n",
       "\t2611 & NA  & 198\\\\\n",
       "\\end{tabular}\n"
      ],
      "text/markdown": [
       "\n",
       "| <!--/--> | MasVnrType | MasVnrArea | \n",
       "|---|\n",
       "| 2611 | NA  | 198 | \n",
       "\n",
       "\n"
      ],
      "text/plain": [
       "     MasVnrType MasVnrArea\n",
       "2611 NA         198       "
      ]
     },
     "metadata": {},
     "output_type": "display_data"
    }
   ],
   "source": [
    "df[is.na(df$MasVnrType) & !is.na(df$MasVnrArea),c('MasVnrType','MasVnrArea')]"
   ]
  },
  {
   "cell_type": "code",
   "execution_count": 71,
   "metadata": {},
   "outputs": [],
   "source": [
    "df$MasVnrType[2611] <- names(sort(-table(df$MasVnrType)))[2]"
   ]
  },
  {
   "cell_type": "code",
   "execution_count": 72,
   "metadata": {},
   "outputs": [
    {
     "data": {
      "text/html": [
       "<table>\n",
       "<thead><tr><th></th><th scope=col>MasVnrType</th><th scope=col>MasVnrArea</th></tr></thead>\n",
       "<tbody>\n",
       "\t<tr><th scope=row>2611</th><td>BrkFace</td><td>198    </td></tr>\n",
       "</tbody>\n",
       "</table>\n"
      ],
      "text/latex": [
       "\\begin{tabular}{r|ll}\n",
       "  & MasVnrType & MasVnrArea\\\\\n",
       "\\hline\n",
       "\t2611 & BrkFace & 198    \\\\\n",
       "\\end{tabular}\n"
      ],
      "text/markdown": [
       "\n",
       "| <!--/--> | MasVnrType | MasVnrArea | \n",
       "|---|\n",
       "| 2611 | BrkFace | 198     | \n",
       "\n",
       "\n"
      ],
      "text/plain": [
       "     MasVnrType MasVnrArea\n",
       "2611 BrkFace    198       "
      ]
     },
     "metadata": {},
     "output_type": "display_data"
    }
   ],
   "source": [
    "df[2611,c('MasVnrType','MasVnrArea')]"
   ]
  },
  {
   "cell_type": "markdown",
   "metadata": {},
   "source": [
    "Is there ordinality with the type of masonry?"
   ]
  },
  {
   "cell_type": "code",
   "execution_count": 73,
   "metadata": {},
   "outputs": [],
   "source": [
    "df$MasVnrType[is.na(df$MasVnrType)] <- 'None'"
   ]
  },
  {
   "cell_type": "code",
   "execution_count": 74,
   "metadata": {},
   "outputs": [
    {
     "data": {},
     "metadata": {},
     "output_type": "display_data"
    },
    {
     "data": {
      "image/png": "[encoded data removed]",
      "text/plain": [
       "plot without title"
      ]
     },
     "metadata": {},
     "output_type": "display_data"
    }
   ],
   "source": [
    "ggplot(df[!is.na(df$SalePrice),], aes(x=as.factor(MasVnrType), y=SalePrice)) +\n",
    "        geom_bar(stat='summary', fun.y = \"median\", fill='red',colour='black') +\n",
    "        scale_y_continuous(breaks= seq(0, 800000, by=100000), labels = comma) + \n",
    "        geom_label(stat = \"count\", aes(label = ..count.., y = ..count..))"
   ]
  },
  {
   "cell_type": "markdown",
   "metadata": {},
   "source": [
    "Houses made of stone are more expensive. Thus the category is ordinal."
   ]
  },
  {
   "cell_type": "code",
   "execution_count": 75,
   "metadata": {},
   "outputs": [
    {
     "data": {
      "text/plain": [
       "\n",
       "   0    1    2 \n",
       "1790  880  249 "
      ]
     },
     "metadata": {},
     "output_type": "display_data"
    }
   ],
   "source": [
    "MasonryType <- c('None'=0, 'BrkCmn'=0, 'BrkFace'=1, 'Stone'=2)\n",
    "df$MasVnrType <- as.integer(revalue(df$MasVnrType,MasonryType))\n",
    "table(df$MasVnrType)"
   ]
  },
  {
   "cell_type": "code",
   "execution_count": 76,
   "metadata": {},
   "outputs": [],
   "source": [
    "df$MasVnrArea[is.na(df$MasVnrArea)] <- 0 # We saw previously that those houses do not have masonry"
   ]
  },
  {
   "cell_type": "markdown",
   "metadata": {},
   "source": [
    "### Dealing with the remaining variables"
   ]
  },
  {
   "cell_type": "code",
   "execution_count": 77,
   "metadata": {},
   "outputs": [
    {
     "data": {
      "text/html": [
       "<dl class=dl-horizontal>\n",
       "\t<dt>SalePrice</dt>\n",
       "\t\t<dd>1459</dd>\n",
       "\t<dt>MSZoning</dt>\n",
       "\t\t<dd>4</dd>\n",
       "\t<dt>Utilities</dt>\n",
       "\t\t<dd>2</dd>\n",
       "\t<dt>Functional</dt>\n",
       "\t\t<dd>2</dd>\n",
       "\t<dt>Exterior1st</dt>\n",
       "\t\t<dd>1</dd>\n",
       "\t<dt>Exterior2nd</dt>\n",
       "\t\t<dd>1</dd>\n",
       "\t<dt>Electrical</dt>\n",
       "\t\t<dd>1</dd>\n",
       "\t<dt>KitchenQual</dt>\n",
       "\t\t<dd>1</dd>\n",
       "\t<dt>SaleType</dt>\n",
       "\t\t<dd>1</dd>\n",
       "</dl>\n"
      ],
      "text/latex": [
       "\\begin{description*}\n",
       "\\item[SalePrice] 1459\n",
       "\\item[MSZoning] 4\n",
       "\\item[Utilities] 2\n",
       "\\item[Functional] 2\n",
       "\\item[Exterior1st] 1\n",
       "\\item[Exterior2nd] 1\n",
       "\\item[Electrical] 1\n",
       "\\item[KitchenQual] 1\n",
       "\\item[SaleType] 1\n",
       "\\end{description*}\n"
      ],
      "text/markdown": [
       "SalePrice\n",
       ":   1459MSZoning\n",
       ":   4Utilities\n",
       ":   2Functional\n",
       ":   2Exterior1st\n",
       ":   1Exterior2nd\n",
       ":   1Electrical\n",
       ":   1KitchenQual\n",
       ":   1SaleType\n",
       ":   1\n",
       "\n"
      ],
      "text/plain": [
       "  SalePrice    MSZoning   Utilities  Functional Exterior1st Exterior2nd \n",
       "       1459           4           2           2           1           1 \n",
       " Electrical KitchenQual    SaleType \n",
       "          1           1           1 "
      ]
     },
     "metadata": {},
     "output_type": "display_data"
    }
   ],
   "source": [
    "# What do we have remaining? \n",
    "sort(colSums(sapply(df[which(colSums(is.na(df))>0)],is.na)),decreasing = TRUE)"
   ]
  },
  {
   "cell_type": "code",
   "execution_count": 78,
   "metadata": {},
   "outputs": [
    {
     "data": {
      "text/html": [
       "'RL'"
      ],
      "text/latex": [
       "'RL'"
      ],
      "text/markdown": [
       "'RL'"
      ],
      "text/plain": [
       "[1] \"RL\""
      ]
     },
     "metadata": {},
     "output_type": "display_data"
    }
   ],
   "source": [
    "names(sort(-table(df$MSZoning)))[1]"
   ]
  },
  {
   "cell_type": "code",
   "execution_count": 79,
   "metadata": {},
   "outputs": [
    {
     "name": "stderr",
     "output_type": "stream",
     "text": [
      "The following `from` values were not present in `x`: No Bsmt, Po\n",
      "The following `from` values were not present in `x`: Sal\n",
      "The following `from` values were not present in `x`: No Bsmt, Po\n",
      "The following `from` values were not present in `x`: No Bsmt\n"
     ]
    }
   ],
   "source": [
    "# MS Zoning - Categorical values, 4 NAs \n",
    "\n",
    "df$MSZoning[is.na(df$MSZoning)] <- names(sort(-table(df$MSZoning)))[1]\n",
    "df$MSZoning <- as.factor(df$MSZoning)\n",
    "\n",
    "# Utilities - Kitchen Quality, ordinal , 1 NA\n",
    "\n",
    "df$KitchenQual[is.na(df$KitchenQual)] <- names(sort(-table(df$KitchenQual)))[1] #Replace by mode\n",
    "df$KitchenQual <- as.integer(revalue(df$KitchenQual,Qualities))\n",
    "\n",
    "# Functional - ordinal, 2 NAs \n",
    "\n",
    "df$Functional[is.na(df$Functional)] <- names(sort(-table(df$Functional)))[1]\n",
    "df$Functional <- as.integer(revalue(df$Functional,\n",
    "                                    c('Sal'=0, 'Sev'=1, 'Maj2'=2, 'Maj1'=3, 'Mod'=4, 'Min2'=5, 'Min1'=6, 'Typ'=7)))\n",
    "\n",
    "# Exterior 1st \n",
    "df$Exterior1st[is.na(df$Exterior1st)] <- names(sort(-table(df$Exterior1st)))[1] \n",
    "df$Exterior1st <- as.factor(df$Exterior1st)\n",
    "\n",
    "# Exterior 2nd\n",
    "df$Exterior2nd[is.na(df$Exterior2nd)] <- names(sort(-table(df$Exterior2nd)))[1] \n",
    "df$Exterior2nd <- as.factor(df$Exterior2nd)\n",
    "\n",
    "# ExterQual\n",
    "df$ExterQual <- as.integer(revalue(df$ExterQual,Qualities))\n",
    "\n",
    "# ExterCond\n",
    "df$ExterCond <- as.integer(revalue(df$ExterCond,Qualities))\n",
    "\n",
    "# Electrical\n",
    "df$Electrical[is.na(df$Electrical)] <- names(sort(-table(df$Electrical)))[1] \n",
    "df$Electrical <- as.factor(df$Electrical)\n",
    "\n",
    "# Sale Type\n",
    "df$SaleType[is.na(df$SaleType)] <- names(sort(-table(df$SaleType)))[1] \n",
    "df$SaleType <- as.factor(df$SaleType)\n",
    "\n",
    "# Sale Condition\n",
    "df$SaleCondition <- as.factor(df$SaleCondition)\n"
   ]
  },
  {
   "cell_type": "code",
   "execution_count": 80,
   "metadata": {},
   "outputs": [
    {
     "data": {
      "text/plain": [
       "\n",
       "AllPub NoSeWa \n",
       "  2916      1 "
      ]
     },
     "metadata": {},
     "output_type": "display_data"
    }
   ],
   "source": [
    "# Utilities - ordinal\n",
    "\n",
    "table(df$Utilities)"
   ]
  },
  {
   "cell_type": "code",
   "execution_count": 81,
   "metadata": {},
   "outputs": [],
   "source": [
    "# All houses have full utilities, besides ones - useless predictor\n",
    "\n",
    "df$Utilities <- NULL"
   ]
  },
  {
   "cell_type": "code",
   "execution_count": 82,
   "metadata": {},
   "outputs": [
    {
     "data": {
      "text/html": [
       "<strong>SalePrice:</strong> 1459"
      ],
      "text/latex": [
       "\\textbf{SalePrice:} 1459"
      ],
      "text/markdown": [
       "**SalePrice:** 1459"
      ],
      "text/plain": [
       "SalePrice \n",
       "     1459 "
      ]
     },
     "metadata": {},
     "output_type": "display_data"
    }
   ],
   "source": [
    "# What do we have remaining? \n",
    "sort(colSums(sapply(df[which(colSums(is.na(df))>0)],is.na)),decreasing = TRUE)\n",
    "\n",
    "# No more NAs - The NAs for the sale price correspond to the test data"
   ]
  },
  {
   "cell_type": "markdown",
   "metadata": {},
   "source": [
    "# 4. Character Variables"
   ]
  },
  {
   "cell_type": "markdown",
   "metadata": {},
   "source": [
    "We still have to take care of the character variables that did not have any missing values."
   ]
  },
  {
   "cell_type": "code",
   "execution_count": 83,
   "metadata": {},
   "outputs": [
    {
     "data": {
      "text/html": [
       "<ol class=list-inline>\n",
       "\t<li>'Street'</li>\n",
       "\t<li>'LandContour'</li>\n",
       "\t<li>'LandSlope'</li>\n",
       "\t<li>'Neighborhood'</li>\n",
       "\t<li>'Condition1'</li>\n",
       "\t<li>'Condition2'</li>\n",
       "\t<li>'BldgType'</li>\n",
       "\t<li>'HouseStyle'</li>\n",
       "\t<li>'RoofStyle'</li>\n",
       "\t<li>'RoofMatl'</li>\n",
       "\t<li>'Foundation'</li>\n",
       "\t<li>'Heating'</li>\n",
       "\t<li>'HeatingQC'</li>\n",
       "\t<li>'CentralAir'</li>\n",
       "\t<li>'PavedDrive'</li>\n",
       "</ol>\n"
      ],
      "text/latex": [
       "\\begin{enumerate*}\n",
       "\\item 'Street'\n",
       "\\item 'LandContour'\n",
       "\\item 'LandSlope'\n",
       "\\item 'Neighborhood'\n",
       "\\item 'Condition1'\n",
       "\\item 'Condition2'\n",
       "\\item 'BldgType'\n",
       "\\item 'HouseStyle'\n",
       "\\item 'RoofStyle'\n",
       "\\item 'RoofMatl'\n",
       "\\item 'Foundation'\n",
       "\\item 'Heating'\n",
       "\\item 'HeatingQC'\n",
       "\\item 'CentralAir'\n",
       "\\item 'PavedDrive'\n",
       "\\end{enumerate*}\n"
      ],
      "text/markdown": [
       "1. 'Street'\n",
       "2. 'LandContour'\n",
       "3. 'LandSlope'\n",
       "4. 'Neighborhood'\n",
       "5. 'Condition1'\n",
       "6. 'Condition2'\n",
       "7. 'BldgType'\n",
       "8. 'HouseStyle'\n",
       "9. 'RoofStyle'\n",
       "10. 'RoofMatl'\n",
       "11. 'Foundation'\n",
       "12. 'Heating'\n",
       "13. 'HeatingQC'\n",
       "14. 'CentralAir'\n",
       "15. 'PavedDrive'\n",
       "\n",
       "\n"
      ],
      "text/plain": [
       " [1] \"Street\"       \"LandContour\"  \"LandSlope\"    \"Neighborhood\" \"Condition1\"  \n",
       " [6] \"Condition2\"   \"BldgType\"     \"HouseStyle\"   \"RoofStyle\"    \"RoofMatl\"    \n",
       "[11] \"Foundation\"   \"Heating\"      \"HeatingQC\"    \"CentralAir\"   \"PavedDrive\"  "
      ]
     },
     "metadata": {},
     "output_type": "display_data"
    },
    {
     "name": "stdout",
     "output_type": "stream",
     "text": [
      "There are 15 character columns"
     ]
    }
   ],
   "source": [
    "char  <- names(df[,sapply(df,is.character)])\n",
    "char\n",
    "cat('There are',length(char),'character columns')"
   ]
  },
  {
   "cell_type": "code",
   "execution_count": 84,
   "metadata": {},
   "outputs": [
    {
     "name": "stderr",
     "output_type": "stream",
     "text": [
      "The following `from` values were not present in `x`: No Bsmt\n"
     ]
    }
   ],
   "source": [
    "# Foundation - factor\n",
    "df$Foundation <- as.factor(df$Foundation)\n",
    "\n",
    "# LandContour - factor\n",
    "df$LandContour <- as.factor(df$LandContour)\n",
    "\n",
    "# LandSlope - ordinal\n",
    "df$LandSlope <- as.integer(revalue(df$LandSlope, c('Sev'=0, 'Mod'=1, 'Gtl'=2)))\n",
    "\n",
    "# Neighborhood - factor\n",
    "df$Neighborhood <- as.factor(df$Neighborhood)\n",
    "\n",
    "# Condition1 - factor\n",
    "df$Condition1 <- as.factor(df$Condition1)\n",
    "\n",
    "# Condition2 - factor\n",
    "df$Condition2 <- as.factor(df$Condition2)\n",
    "\n",
    "# BldgType - factor\n",
    "df$BldgType <- as.factor(df$BldgType)\n",
    "\n",
    "# HouseStyle - factor\n",
    "df$HouseStyle <- as.factor(df$HouseStyle)\n",
    "\n",
    "# RoofStyle - factor\n",
    "df$RoofStyle <- as.factor(df$RoofStyle)\n",
    "\n",
    "# RoofMatl - factor\n",
    "df$RoofMatl <- as.factor(df$RoofMatl)\n",
    "\n",
    "# Heating - factor\n",
    "df$Heating <- as.factor(df$Heating)\n",
    "\n",
    "# Heating Quality - ordinal\n",
    "df$HeatingQC <- as.integer(revalue(df$HeatingQC,Qualities))\n",
    "\n",
    "# CentralAir - Yes/No, factor\n",
    "df$CentralAir <- as.factor(df$CentralAir)\n",
    "\n",
    "# PavedDrive - ordinal\n",
    "df$PavedDrive <- as.integer(revalue(df$PavedDrive,c('N'=0, 'P'=1, 'Y'=2)))\n",
    "\n",
    "# Street - ordinal\n",
    "df$Street <- as.integer(revalue(df$Street,c('Grvl'=0, 'Pave'=1)))"
   ]
  },
  {
   "cell_type": "markdown",
   "metadata": {},
   "source": [
    "# 5. Numerical Variables to Factors"
   ]
  },
  {
   "cell_type": "code",
   "execution_count": 85,
   "metadata": {
    "scrolled": true
   },
   "outputs": [
    {
     "data": {
      "text/html": [
       "<dl class=dl-horizontal>\n",
       "\t<dt>MSSubClass</dt>\n",
       "\t\t<dd>1</dd>\n",
       "\t<dt>LotFrontage</dt>\n",
       "\t\t<dd>3</dd>\n",
       "\t<dt>LotArea</dt>\n",
       "\t\t<dd>4</dd>\n",
       "\t<dt>OverallQual</dt>\n",
       "\t\t<dd>17</dd>\n",
       "\t<dt>OverallCond</dt>\n",
       "\t\t<dd>18</dd>\n",
       "\t<dt>YearBuilt</dt>\n",
       "\t\t<dd>19</dd>\n",
       "\t<dt>YearRemodAdd</dt>\n",
       "\t\t<dd>20</dd>\n",
       "\t<dt>MasVnrArea</dt>\n",
       "\t\t<dd>26</dd>\n",
       "\t<dt>BsmtFinSF1</dt>\n",
       "\t\t<dd>34</dd>\n",
       "\t<dt>BsmtFinSF2</dt>\n",
       "\t\t<dd>36</dd>\n",
       "\t<dt>BsmtUnfSF</dt>\n",
       "\t\t<dd>37</dd>\n",
       "\t<dt>TotalBsmtSF</dt>\n",
       "\t\t<dd>38</dd>\n",
       "\t<dt>X1stFlrSF</dt>\n",
       "\t\t<dd>43</dd>\n",
       "\t<dt>X2ndFlrSF</dt>\n",
       "\t\t<dd>44</dd>\n",
       "\t<dt>LowQualFinSF</dt>\n",
       "\t\t<dd>45</dd>\n",
       "\t<dt>GrLivArea</dt>\n",
       "\t\t<dd>46</dd>\n",
       "\t<dt>BsmtFullBath</dt>\n",
       "\t\t<dd>47</dd>\n",
       "\t<dt>BsmtHalfBath</dt>\n",
       "\t\t<dd>48</dd>\n",
       "\t<dt>FullBath</dt>\n",
       "\t\t<dd>49</dd>\n",
       "\t<dt>HalfBath</dt>\n",
       "\t\t<dd>50</dd>\n",
       "\t<dt>BedroomAbvGr</dt>\n",
       "\t\t<dd>51</dd>\n",
       "\t<dt>KitchenAbvGr</dt>\n",
       "\t\t<dd>52</dd>\n",
       "\t<dt>TotRmsAbvGrd</dt>\n",
       "\t\t<dd>54</dd>\n",
       "\t<dt>Fireplaces</dt>\n",
       "\t\t<dd>56</dd>\n",
       "\t<dt>GarageYrBlt</dt>\n",
       "\t\t<dd>59</dd>\n",
       "\t<dt>GarageCars</dt>\n",
       "\t\t<dd>61</dd>\n",
       "\t<dt>GarageArea</dt>\n",
       "\t\t<dd>62</dd>\n",
       "\t<dt>WoodDeckSF</dt>\n",
       "\t\t<dd>66</dd>\n",
       "\t<dt>OpenPorchSF</dt>\n",
       "\t\t<dd>67</dd>\n",
       "\t<dt>EnclosedPorch</dt>\n",
       "\t\t<dd>68</dd>\n",
       "\t<dt>X3SsnPorch</dt>\n",
       "\t\t<dd>69</dd>\n",
       "\t<dt>ScreenPorch</dt>\n",
       "\t\t<dd>70</dd>\n",
       "\t<dt>PoolArea</dt>\n",
       "\t\t<dd>71</dd>\n",
       "\t<dt>MiscVal</dt>\n",
       "\t\t<dd>75</dd>\n",
       "\t<dt>MoSold</dt>\n",
       "\t\t<dd>76</dd>\n",
       "\t<dt>YrSold</dt>\n",
       "\t\t<dd>77</dd>\n",
       "\t<dt>SalePrice</dt>\n",
       "\t\t<dd>80</dd>\n",
       "</dl>\n"
      ],
      "text/latex": [
       "\\begin{description*}\n",
       "\\item[MSSubClass] 1\n",
       "\\item[LotFrontage] 3\n",
       "\\item[LotArea] 4\n",
       "\\item[OverallQual] 17\n",
       "\\item[OverallCond] 18\n",
       "\\item[YearBuilt] 19\n",
       "\\item[YearRemodAdd] 20\n",
       "\\item[MasVnrArea] 26\n",
       "\\item[BsmtFinSF1] 34\n",
       "\\item[BsmtFinSF2] 36\n",
       "\\item[BsmtUnfSF] 37\n",
       "\\item[TotalBsmtSF] 38\n",
       "\\item[X1stFlrSF] 43\n",
       "\\item[X2ndFlrSF] 44\n",
       "\\item[LowQualFinSF] 45\n",
       "\\item[GrLivArea] 46\n",
       "\\item[BsmtFullBath] 47\n",
       "\\item[BsmtHalfBath] 48\n",
       "\\item[FullBath] 49\n",
       "\\item[HalfBath] 50\n",
       "\\item[BedroomAbvGr] 51\n",
       "\\item[KitchenAbvGr] 52\n",
       "\\item[TotRmsAbvGrd] 54\n",
       "\\item[Fireplaces] 56\n",
       "\\item[GarageYrBlt] 59\n",
       "\\item[GarageCars] 61\n",
       "\\item[GarageArea] 62\n",
       "\\item[WoodDeckSF] 66\n",
       "\\item[OpenPorchSF] 67\n",
       "\\item[EnclosedPorch] 68\n",
       "\\item[X3SsnPorch] 69\n",
       "\\item[ScreenPorch] 70\n",
       "\\item[PoolArea] 71\n",
       "\\item[MiscVal] 75\n",
       "\\item[MoSold] 76\n",
       "\\item[YrSold] 77\n",
       "\\item[SalePrice] 80\n",
       "\\end{description*}\n"
      ],
      "text/markdown": [
       "MSSubClass\n",
       ":   1LotFrontage\n",
       ":   3LotArea\n",
       ":   4OverallQual\n",
       ":   17OverallCond\n",
       ":   18YearBuilt\n",
       ":   19YearRemodAdd\n",
       ":   20MasVnrArea\n",
       ":   26BsmtFinSF1\n",
       ":   34BsmtFinSF2\n",
       ":   36BsmtUnfSF\n",
       ":   37TotalBsmtSF\n",
       ":   38X1stFlrSF\n",
       ":   43X2ndFlrSF\n",
       ":   44LowQualFinSF\n",
       ":   45GrLivArea\n",
       ":   46BsmtFullBath\n",
       ":   47BsmtHalfBath\n",
       ":   48FullBath\n",
       ":   49HalfBath\n",
       ":   50BedroomAbvGr\n",
       ":   51KitchenAbvGr\n",
       ":   52TotRmsAbvGrd\n",
       ":   54Fireplaces\n",
       ":   56GarageYrBlt\n",
       ":   59GarageCars\n",
       ":   61GarageArea\n",
       ":   62WoodDeckSF\n",
       ":   66OpenPorchSF\n",
       ":   67EnclosedPorch\n",
       ":   68X3SsnPorch\n",
       ":   69ScreenPorch\n",
       ":   70PoolArea\n",
       ":   71MiscVal\n",
       ":   75MoSold\n",
       ":   76YrSold\n",
       ":   77SalePrice\n",
       ":   80\n",
       "\n"
      ],
      "text/plain": [
       "   MSSubClass   LotFrontage       LotArea   OverallQual   OverallCond \n",
       "            1             3             4            17            18 \n",
       "    YearBuilt  YearRemodAdd    MasVnrArea    BsmtFinSF1    BsmtFinSF2 \n",
       "           19            20            26            34            36 \n",
       "    BsmtUnfSF   TotalBsmtSF     X1stFlrSF     X2ndFlrSF  LowQualFinSF \n",
       "           37            38            43            44            45 \n",
       "    GrLivArea  BsmtFullBath  BsmtHalfBath      FullBath      HalfBath \n",
       "           46            47            48            49            50 \n",
       " BedroomAbvGr  KitchenAbvGr  TotRmsAbvGrd    Fireplaces   GarageYrBlt \n",
       "           51            52            54            56            59 \n",
       "   GarageCars    GarageArea    WoodDeckSF   OpenPorchSF EnclosedPorch \n",
       "           61            62            66            67            68 \n",
       "   X3SsnPorch   ScreenPorch      PoolArea       MiscVal        MoSold \n",
       "           69            70            71            75            76 \n",
       "       YrSold     SalePrice \n",
       "           77            80 "
      ]
     },
     "metadata": {},
     "output_type": "display_data"
    }
   ],
   "source": [
    "num"
   ]
  },
  {
   "cell_type": "markdown",
   "metadata": {},
   "source": [
    "Some of these variables do not make sense as a numerical variable\n",
    "\n",
    "    Year Sold\n",
    "    Month Sold\n",
    "    MSSubClass - Code for the type of dwelling involved in the sale\n",
    "        For example: 20  1-STORY 1946 & NEWER ALL STYLES\n",
    "                     70  2-STORY 1945 & OLDER"
   ]
  },
  {
   "cell_type": "code",
   "execution_count": 86,
   "metadata": {},
   "outputs": [],
   "source": [
    "df$YrSold <- as.factor(df$YrSold)\n",
    "df$MoSold <- as.factor(df$MoSold)\n",
    "df$MSSubClass <- as.factor(df$MSSubClass)"
   ]
  },
  {
   "cell_type": "code",
   "execution_count": 87,
   "metadata": {},
   "outputs": [
    {
     "name": "stdout",
     "output_type": "stream",
     "text": [
      "There are 54 numeric variables, and 25 categoric variables"
     ]
    }
   ],
   "source": [
    "numericVars <- which(sapply(df, is.numeric)) #index vector numeric variables\n",
    "factorVars <- which(sapply(df, is.factor)) #index vector factor variables\n",
    "cat('There are', length(which(sapply(df, is.numeric))), \n",
    "    'numeric variables, and', length(which(sapply(df, is.factor))), 'categoric variables')"
   ]
  },
  {
   "cell_type": "markdown",
   "metadata": {},
   "source": [
    "# 6. Important Variables - Visualization"
   ]
  },
  {
   "cell_type": "markdown",
   "metadata": {},
   "source": [
    "Numeric Variables"
   ]
  },
  {
   "cell_type": "code",
   "execution_count": 88,
   "metadata": {
    "scrolled": true
   },
   "outputs": [
    {
     "data": {
      "text/html": [
       "<dl class=dl-horizontal>\n",
       "\t<dt>LotFrontage</dt>\n",
       "\t\t<dd>3</dd>\n",
       "\t<dt>LotArea</dt>\n",
       "\t\t<dd>4</dd>\n",
       "\t<dt>Street</dt>\n",
       "\t\t<dd>5</dd>\n",
       "\t<dt>LotShape</dt>\n",
       "\t\t<dd>7</dd>\n",
       "\t<dt>LandSlope</dt>\n",
       "\t\t<dd>10</dd>\n",
       "\t<dt>OverallQual</dt>\n",
       "\t\t<dd>16</dd>\n",
       "\t<dt>OverallCond</dt>\n",
       "\t\t<dd>17</dd>\n",
       "\t<dt>YearBuilt</dt>\n",
       "\t\t<dd>18</dd>\n",
       "\t<dt>YearRemodAdd</dt>\n",
       "\t\t<dd>19</dd>\n",
       "\t<dt>MasVnrType</dt>\n",
       "\t\t<dd>24</dd>\n",
       "\t<dt>MasVnrArea</dt>\n",
       "\t\t<dd>25</dd>\n",
       "\t<dt>ExterQual</dt>\n",
       "\t\t<dd>26</dd>\n",
       "\t<dt>ExterCond</dt>\n",
       "\t\t<dd>27</dd>\n",
       "\t<dt>BsmtQual</dt>\n",
       "\t\t<dd>29</dd>\n",
       "\t<dt>BsmtCond</dt>\n",
       "\t\t<dd>30</dd>\n",
       "\t<dt>BsmtExposure</dt>\n",
       "\t\t<dd>31</dd>\n",
       "\t<dt>BsmtFinType1</dt>\n",
       "\t\t<dd>32</dd>\n",
       "\t<dt>BsmtFinSF1</dt>\n",
       "\t\t<dd>33</dd>\n",
       "\t<dt>BsmtFinType2</dt>\n",
       "\t\t<dd>34</dd>\n",
       "\t<dt>BsmtFinSF2</dt>\n",
       "\t\t<dd>35</dd>\n",
       "\t<dt>BsmtUnfSF</dt>\n",
       "\t\t<dd>36</dd>\n",
       "\t<dt>TotalBsmtSF</dt>\n",
       "\t\t<dd>37</dd>\n",
       "\t<dt>HeatingQC</dt>\n",
       "\t\t<dd>39</dd>\n",
       "\t<dt>X1stFlrSF</dt>\n",
       "\t\t<dd>42</dd>\n",
       "\t<dt>X2ndFlrSF</dt>\n",
       "\t\t<dd>43</dd>\n",
       "\t<dt>LowQualFinSF</dt>\n",
       "\t\t<dd>44</dd>\n",
       "\t<dt>GrLivArea</dt>\n",
       "\t\t<dd>45</dd>\n",
       "\t<dt>BsmtFullBath</dt>\n",
       "\t\t<dd>46</dd>\n",
       "\t<dt>BsmtHalfBath</dt>\n",
       "\t\t<dd>47</dd>\n",
       "\t<dt>FullBath</dt>\n",
       "\t\t<dd>48</dd>\n",
       "\t<dt>HalfBath</dt>\n",
       "\t\t<dd>49</dd>\n",
       "\t<dt>BedroomAbvGr</dt>\n",
       "\t\t<dd>50</dd>\n",
       "\t<dt>KitchenAbvGr</dt>\n",
       "\t\t<dd>51</dd>\n",
       "\t<dt>KitchenQual</dt>\n",
       "\t\t<dd>52</dd>\n",
       "\t<dt>TotRmsAbvGrd</dt>\n",
       "\t\t<dd>53</dd>\n",
       "\t<dt>Functional</dt>\n",
       "\t\t<dd>54</dd>\n",
       "\t<dt>Fireplaces</dt>\n",
       "\t\t<dd>55</dd>\n",
       "\t<dt>FireplaceQu</dt>\n",
       "\t\t<dd>56</dd>\n",
       "\t<dt>GarageYrBlt</dt>\n",
       "\t\t<dd>58</dd>\n",
       "\t<dt>GarageFinish</dt>\n",
       "\t\t<dd>59</dd>\n",
       "\t<dt>GarageCars</dt>\n",
       "\t\t<dd>60</dd>\n",
       "\t<dt>GarageArea</dt>\n",
       "\t\t<dd>61</dd>\n",
       "\t<dt>GarageQual</dt>\n",
       "\t\t<dd>62</dd>\n",
       "\t<dt>GarageCond</dt>\n",
       "\t\t<dd>63</dd>\n",
       "\t<dt>PavedDrive</dt>\n",
       "\t\t<dd>64</dd>\n",
       "\t<dt>WoodDeckSF</dt>\n",
       "\t\t<dd>65</dd>\n",
       "\t<dt>OpenPorchSF</dt>\n",
       "\t\t<dd>66</dd>\n",
       "\t<dt>EnclosedPorch</dt>\n",
       "\t\t<dd>67</dd>\n",
       "\t<dt>X3SsnPorch</dt>\n",
       "\t\t<dd>68</dd>\n",
       "\t<dt>ScreenPorch</dt>\n",
       "\t\t<dd>69</dd>\n",
       "\t<dt>PoolArea</dt>\n",
       "\t\t<dd>70</dd>\n",
       "\t<dt>PoolQC</dt>\n",
       "\t\t<dd>71</dd>\n",
       "\t<dt>MiscVal</dt>\n",
       "\t\t<dd>74</dd>\n",
       "\t<dt>SalePrice</dt>\n",
       "\t\t<dd>79</dd>\n",
       "</dl>\n"
      ],
      "text/latex": [
       "\\begin{description*}\n",
       "\\item[LotFrontage] 3\n",
       "\\item[LotArea] 4\n",
       "\\item[Street] 5\n",
       "\\item[LotShape] 7\n",
       "\\item[LandSlope] 10\n",
       "\\item[OverallQual] 16\n",
       "\\item[OverallCond] 17\n",
       "\\item[YearBuilt] 18\n",
       "\\item[YearRemodAdd] 19\n",
       "\\item[MasVnrType] 24\n",
       "\\item[MasVnrArea] 25\n",
       "\\item[ExterQual] 26\n",
       "\\item[ExterCond] 27\n",
       "\\item[BsmtQual] 29\n",
       "\\item[BsmtCond] 30\n",
       "\\item[BsmtExposure] 31\n",
       "\\item[BsmtFinType1] 32\n",
       "\\item[BsmtFinSF1] 33\n",
       "\\item[BsmtFinType2] 34\n",
       "\\item[BsmtFinSF2] 35\n",
       "\\item[BsmtUnfSF] 36\n",
       "\\item[TotalBsmtSF] 37\n",
       "\\item[HeatingQC] 39\n",
       "\\item[X1stFlrSF] 42\n",
       "\\item[X2ndFlrSF] 43\n",
       "\\item[LowQualFinSF] 44\n",
       "\\item[GrLivArea] 45\n",
       "\\item[BsmtFullBath] 46\n",
       "\\item[BsmtHalfBath] 47\n",
       "\\item[FullBath] 48\n",
       "\\item[HalfBath] 49\n",
       "\\item[BedroomAbvGr] 50\n",
       "\\item[KitchenAbvGr] 51\n",
       "\\item[KitchenQual] 52\n",
       "\\item[TotRmsAbvGrd] 53\n",
       "\\item[Functional] 54\n",
       "\\item[Fireplaces] 55\n",
       "\\item[FireplaceQu] 56\n",
       "\\item[GarageYrBlt] 58\n",
       "\\item[GarageFinish] 59\n",
       "\\item[GarageCars] 60\n",
       "\\item[GarageArea] 61\n",
       "\\item[GarageQual] 62\n",
       "\\item[GarageCond] 63\n",
       "\\item[PavedDrive] 64\n",
       "\\item[WoodDeckSF] 65\n",
       "\\item[OpenPorchSF] 66\n",
       "\\item[EnclosedPorch] 67\n",
       "\\item[X3SsnPorch] 68\n",
       "\\item[ScreenPorch] 69\n",
       "\\item[PoolArea] 70\n",
       "\\item[PoolQC] 71\n",
       "\\item[MiscVal] 74\n",
       "\\item[SalePrice] 79\n",
       "\\end{description*}\n"
      ],
      "text/markdown": [
       "LotFrontage\n",
       ":   3LotArea\n",
       ":   4Street\n",
       ":   5LotShape\n",
       ":   7LandSlope\n",
       ":   10OverallQual\n",
       ":   16OverallCond\n",
       ":   17YearBuilt\n",
       ":   18YearRemodAdd\n",
       ":   19MasVnrType\n",
       ":   24MasVnrArea\n",
       ":   25ExterQual\n",
       ":   26ExterCond\n",
       ":   27BsmtQual\n",
       ":   29BsmtCond\n",
       ":   30BsmtExposure\n",
       ":   31BsmtFinType1\n",
       ":   32BsmtFinSF1\n",
       ":   33BsmtFinType2\n",
       ":   34BsmtFinSF2\n",
       ":   35BsmtUnfSF\n",
       ":   36TotalBsmtSF\n",
       ":   37HeatingQC\n",
       ":   39X1stFlrSF\n",
       ":   42X2ndFlrSF\n",
       ":   43LowQualFinSF\n",
       ":   44GrLivArea\n",
       ":   45BsmtFullBath\n",
       ":   46BsmtHalfBath\n",
       ":   47FullBath\n",
       ":   48HalfBath\n",
       ":   49BedroomAbvGr\n",
       ":   50KitchenAbvGr\n",
       ":   51KitchenQual\n",
       ":   52TotRmsAbvGrd\n",
       ":   53Functional\n",
       ":   54Fireplaces\n",
       ":   55FireplaceQu\n",
       ":   56GarageYrBlt\n",
       ":   58GarageFinish\n",
       ":   59GarageCars\n",
       ":   60GarageArea\n",
       ":   61GarageQual\n",
       ":   62GarageCond\n",
       ":   63PavedDrive\n",
       ":   64WoodDeckSF\n",
       ":   65OpenPorchSF\n",
       ":   66EnclosedPorch\n",
       ":   67X3SsnPorch\n",
       ":   68ScreenPorch\n",
       ":   69PoolArea\n",
       ":   70PoolQC\n",
       ":   71MiscVal\n",
       ":   74SalePrice\n",
       ":   79\n",
       "\n"
      ],
      "text/plain": [
       "  LotFrontage       LotArea        Street      LotShape     LandSlope \n",
       "            3             4             5             7            10 \n",
       "  OverallQual   OverallCond     YearBuilt  YearRemodAdd    MasVnrType \n",
       "           16            17            18            19            24 \n",
       "   MasVnrArea     ExterQual     ExterCond      BsmtQual      BsmtCond \n",
       "           25            26            27            29            30 \n",
       " BsmtExposure  BsmtFinType1    BsmtFinSF1  BsmtFinType2    BsmtFinSF2 \n",
       "           31            32            33            34            35 \n",
       "    BsmtUnfSF   TotalBsmtSF     HeatingQC     X1stFlrSF     X2ndFlrSF \n",
       "           36            37            39            42            43 \n",
       " LowQualFinSF     GrLivArea  BsmtFullBath  BsmtHalfBath      FullBath \n",
       "           44            45            46            47            48 \n",
       "     HalfBath  BedroomAbvGr  KitchenAbvGr   KitchenQual  TotRmsAbvGrd \n",
       "           49            50            51            52            53 \n",
       "   Functional    Fireplaces   FireplaceQu   GarageYrBlt  GarageFinish \n",
       "           54            55            56            58            59 \n",
       "   GarageCars    GarageArea    GarageQual    GarageCond    PavedDrive \n",
       "           60            61            62            63            64 \n",
       "   WoodDeckSF   OpenPorchSF EnclosedPorch    X3SsnPorch   ScreenPorch \n",
       "           65            66            67            68            69 \n",
       "     PoolArea        PoolQC       MiscVal     SalePrice \n",
       "           70            71            74            79 "
      ]
     },
     "metadata": {},
     "output_type": "display_data"
    }
   ],
   "source": [
    "numericVars"
   ]
  },
  {
   "cell_type": "code",
   "execution_count": 89,
   "metadata": {},
   "outputs": [
    {
     "data": {
      "image/png": "[encoded data removed]",
      "text/plain": [
       "Plot with title \"\""
      ]
     },
     "metadata": {},
     "output_type": "display_data"
    }
   ],
   "source": [
    "df_numVar <- df[, numericVars]\n",
    "cor_numVar <- cor(df_numVar, use=\"pairwise.complete.obs\") #correlations of all numeric variables\n",
    "\n",
    "#sort by decreasing correlations with SalePrice\n",
    "cor_sorted <- as.matrix(sort(cor_numVar[,'SalePrice'], decreasing = TRUE))\n",
    " #select only high correlations\n",
    "CorHigh <- names(which(apply(cor_sorted, 1, function(x) abs(x)>0.5)))\n",
    "cor_numVar <- cor_numVar[CorHigh, CorHigh]\n",
    "\n",
    "corrplot.mixed(cor_numVar, tl.col=\"black\", tl.pos = \"lt\", tl.cex = 0.7,cl.cex = .7, number.cex=.7)"
   ]
  },
  {
   "cell_type": "markdown",
   "metadata": {},
   "source": [
    "Compared to our first visualization, we get 2 more variables with a high correlation, for a total of 8 numeric variables with a correlation > 0.6"
   ]
  },
  {
   "cell_type": "markdown",
   "metadata": {},
   "source": [
    "How important are the different variables?"
   ]
  },
  {
   "cell_type": "markdown",
   "metadata": {},
   "source": [
    "The goal of this short section is to get a sense of which variables are most impotant. For this, I will run a Random Forest with both categorical and numerical predictors. "
   ]
  },
  {
   "cell_type": "code",
   "execution_count": 90,
   "metadata": {},
   "outputs": [],
   "source": [
    "set.seed(123)\n",
    "RF_important_variables <- randomForest(x=df[1:1460,-79],y=df$SalePrice[1:1460],ntre=500,importance=TRUE)"
   ]
  },
  {
   "cell_type": "code",
   "execution_count": 91,
   "metadata": {},
   "outputs": [],
   "source": [
    "# Necessity to specify package from which 'importance' fct is extracted from as it collides \n",
    "# with another fct of the same name in an another package\n",
    "\n",
    "imp = randomForest::importance(RF_important_variables)\n",
    "imp = data.frame(Variables = row.names(imp), MSE = imp[,1])\n",
    "imp = imp[order(imp$MSE, decreasing = TRUE),]"
   ]
  },
  {
   "cell_type": "markdown",
   "metadata": {},
   "source": [
    "- Chart Logic\n",
    "\n",
    "We only want the first 15 variables, showing by how much the MSE would increase if we randomly moved those variables - that is, how important they are in explaining the model. In reality, this is a rough Random Forest just to get a quick feeling of how the variables interact with eachother. We then flipped the axis to make it easier to read. "
   ]
  },
  {
   "cell_type": "code",
   "execution_count": 92,
   "metadata": {},
   "outputs": [
    {
     "data": {},
     "metadata": {},
     "output_type": "display_data"
    },
    {
     "data": {
      "image/png": "[encoded data removed]",
      "text/plain": [
       "plot without title"
      ]
     },
     "metadata": {},
     "output_type": "display_data"
    }
   ],
   "source": [
    "ggplot(imp[1:15,],aes(x=reorder(Variables,MSE), y = MSE, fill=MSE)) + \n",
    "    geom_bar(stat='identity') + \n",
    "    labs(x='Variables', y = '% increase in MSE if randomly permuted') +\n",
    "    coord_flip() + theme(legend.position='none')"
   ]
  },
  {
   "cell_type": "markdown",
   "metadata": {},
   "source": [
    "Out of the most important 15 variables, only 3 are categorical - the Neighborhood, the MSSubclass and the Garage Type, in this order. According to the Random Forest, it seems that the numeric variables are the most important ones in determining the sale price of a house."
   ]
  },
  {
   "cell_type": "markdown",
   "metadata": {},
   "source": [
    "# 7. Feature Engineering\n",
    "\n",
    "As we have seen during the data cleaning part, some variables are broken down into several sub-variables - for example, the proch variables (4 sub-porch variables), which seems like a bit of an overkill for our purposes.\n",
    "\n",
    "In this section, I will try to come up with new variables that could hopefully deliver more insights running the analysis."
   ]
  },
  {
   "cell_type": "markdown",
   "metadata": {},
   "source": [
    "### Total Square Footage\n",
    "\n",
    "Surprisingly enough, the total square footage is nowhere to be found in the dataset. Thus, I will create a new variable adding the livable space above and below ground."
   ]
  },
  {
   "cell_type": "code",
   "execution_count": 93,
   "metadata": {},
   "outputs": [],
   "source": [
    "df$TotalSqft  <- df$GrLivArea + df$TotalBsmtS"
   ]
  },
  {
   "cell_type": "code",
   "execution_count": 94,
   "metadata": {},
   "outputs": [
    {
     "data": {
      "image/png": "[encoded data removed]",
      "text/plain": [
       "plot without title"
      ]
     },
     "metadata": {},
     "output_type": "display_data"
    }
   ],
   "source": [
    "plot(df$TotalSqft,df$SalePrice)\n",
    "abline(lm(df$SalePrice~df$TotalSqft,data=df),col='red')"
   ]
  },
  {
   "cell_type": "code",
   "execution_count": 95,
   "metadata": {},
   "outputs": [
    {
     "data": {
      "text/html": [
       "0.778958828994226"
      ],
      "text/latex": [
       "0.778958828994226"
      ],
      "text/markdown": [
       "0.778958828994226"
      ],
      "text/plain": [
       "[1] 0.7789588"
      ]
     },
     "metadata": {},
     "output_type": "display_data"
    }
   ],
   "source": [
    "cor(df$SalePrice,df$TotalSqft,use='pairwise.complete.obs')"
   ]
  },
  {
   "cell_type": "code",
   "execution_count": 96,
   "metadata": {},
   "outputs": [
    {
     "data": {
      "text/html": [
       "<table>\n",
       "<thead><tr><th></th><th scope=col>TotalSqft</th><th scope=col>SalePrice</th></tr></thead>\n",
       "<tbody>\n",
       "\t<tr><th scope=row>1299</th><td>11752 </td><td>160000</td></tr>\n",
       "\t<tr><th scope=row>2550</th><td>10190 </td><td>    NA</td></tr>\n",
       "</tbody>\n",
       "</table>\n"
      ],
      "text/latex": [
       "\\begin{tabular}{r|ll}\n",
       "  & TotalSqft & SalePrice\\\\\n",
       "\\hline\n",
       "\t1299 & 11752  & 160000\\\\\n",
       "\t2550 & 10190  &     NA\\\\\n",
       "\\end{tabular}\n"
      ],
      "text/markdown": [
       "\n",
       "| <!--/--> | TotalSqft | SalePrice | \n",
       "|---|---|\n",
       "| 1299 | 11752  | 160000 | \n",
       "| 2550 | 10190  |     NA | \n",
       "\n",
       "\n"
      ],
      "text/plain": [
       "     TotalSqft SalePrice\n",
       "1299 11752     160000   \n",
       "2550 10190         NA   "
      ]
     },
     "metadata": {},
     "output_type": "display_data"
    },
    {
     "data": {
      "text/html": [
       "<table>\n",
       "<thead><tr><th></th><th scope=col>TotalSqft</th><th scope=col>SalePrice</th></tr></thead>\n",
       "<tbody>\n",
       "\t<tr><th scope=row>524</th><td>7814  </td><td>184750</td></tr>\n",
       "</tbody>\n",
       "</table>\n"
      ],
      "text/latex": [
       "\\begin{tabular}{r|ll}\n",
       "  & TotalSqft & SalePrice\\\\\n",
       "\\hline\n",
       "\t524 & 7814   & 184750\\\\\n",
       "\\end{tabular}\n"
      ],
      "text/markdown": [
       "\n",
       "| <!--/--> | TotalSqft | SalePrice | \n",
       "|---|\n",
       "| 524 | 7814   | 184750 | \n",
       "\n",
       "\n"
      ],
      "text/plain": [
       "    TotalSqft SalePrice\n",
       "524 7814      184750   "
      ]
     },
     "metadata": {},
     "output_type": "display_data"
    }
   ],
   "source": [
    "# Isolate the 2 clear outliers and remove them to run the correlation again\n",
    "\n",
    "(df[df$TotalSqft > 10000,c('TotalSqft','SalePrice')])\n",
    "(df[df$TotalSqft >7000 & df$TotalSqft < 8000,c('TotalSqft','SalePrice')])"
   ]
  },
  {
   "cell_type": "code",
   "execution_count": 97,
   "metadata": {},
   "outputs": [
    {
     "data": {
      "text/html": [
       "0.829041978106551"
      ],
      "text/latex": [
       "0.829041978106551"
      ],
      "text/markdown": [
       "0.829041978106551"
      ],
      "text/plain": [
       "[1] 0.829042"
      ]
     },
     "metadata": {},
     "output_type": "display_data"
    }
   ],
   "source": [
    "# Running the correlation again removing the data points at index 524 and 1299, the correlation is much stronger, \n",
    "# indicating that the new feature added (total square feet) is statistically significant\n",
    "\n",
    "cor(df$SalePrice[-c(524,1299)],df$TotalSqft[-c(524,1299)],use='pairwise.complete.obs')"
   ]
  },
  {
   "cell_type": "markdown",
   "metadata": {},
   "source": [
    "### Bathroom Variables\n",
    "\n",
    "From the dataset, there are 4 bathroom variables: full bathroom and half bathroom for living areas above and below ground. We will add them all up adding weights based on where the bathroom is located. In this section, We actually tried weighing halfbathroom the same as full ones, and then again with a weight of 0.5, and the correlation is stronger when half bathrooms are weighted down.\n",
    "We also played around with the weight for the full bathroom in the above and below ground living area, and it turns out that the strongest correlation appears when the Full bathroom in the basement is weighted down to 0.5 as well. "
   ]
  },
  {
   "cell_type": "code",
   "execution_count": 98,
   "metadata": {},
   "outputs": [],
   "source": [
    "df$TotalBath <- df$FullBath + (df$BsmtFullBath*0.5) + (df$HalfBath*0.5) + (df$BsmtHalfBath*0.5)"
   ]
  },
  {
   "cell_type": "code",
   "execution_count": 99,
   "metadata": {},
   "outputs": [
    {
     "data": {
      "image/png": "[encoded data removed]",
      "text/plain": [
       "plot without title"
      ]
     },
     "metadata": {},
     "output_type": "display_data"
    }
   ],
   "source": [
    "plot(df$TotalBath,df$SalePrice)\n",
    "abline(lm(df$SalePrice~df$TotalBath,data=df),col='red')"
   ]
  },
  {
   "cell_type": "code",
   "execution_count": 100,
   "metadata": {},
   "outputs": [
    {
     "data": {
      "text/html": [
       "0.654312210590486"
      ],
      "text/latex": [
       "0.654312210590486"
      ],
      "text/markdown": [
       "0.654312210590486"
      ],
      "text/plain": [
       "[1] 0.6543122"
      ]
     },
     "metadata": {},
     "output_type": "display_data"
    }
   ],
   "source": [
    "cor(df$TotalBath,df$SalePrice,use='pairwise.complete.obs')"
   ]
  },
  {
   "cell_type": "markdown",
   "metadata": {},
   "source": [
    "# 8. Preparing Data for modeling"
   ]
  },
  {
   "cell_type": "markdown",
   "metadata": {},
   "source": [
    "**Removing outliers**"
   ]
  },
  {
   "cell_type": "code",
   "execution_count": 101,
   "metadata": {},
   "outputs": [],
   "source": [
    "df  <- df[-c(524,1299),]"
   ]
  },
  {
   "cell_type": "markdown",
   "metadata": {},
   "source": [
    "**Dropping Highly Correlated Variables**\n",
    "\n",
    "From the past sections, we have seen several highly correlated variables (see correlation matrix in section 6). Out of the highly correlated pair of variables, I will drop the one with the least correlation with our DV, Sale Price"
   ]
  },
  {
   "cell_type": "code",
   "execution_count": 102,
   "metadata": {},
   "outputs": [],
   "source": [
    "df[,c('GarageYrBlt', 'GarageArea', 'GarageCond', 'TotalBsmtSF', 'TotalRmsAbvGrd', 'BsmtFinSF1')] <- NULL"
   ]
  },
  {
   "cell_type": "markdown",
   "metadata": {},
   "source": [
    "**Predictor Variables**"
   ]
  },
  {
   "cell_type": "code",
   "execution_count": 103,
   "metadata": {},
   "outputs": [],
   "source": [
    "numericVars <- which(sapply(df, is.numeric)) #index vector numeric variables"
   ]
  },
  {
   "cell_type": "code",
   "execution_count": 104,
   "metadata": {
    "scrolled": true
   },
   "outputs": [
    {
     "data": {
      "text/html": [
       "51"
      ],
      "text/latex": [
       "51"
      ],
      "text/markdown": [
       "51"
      ],
      "text/plain": [
       "[1] 51"
      ]
     },
     "metadata": {},
     "output_type": "display_data"
    }
   ],
   "source": [
    "length(numericVars)"
   ]
  },
  {
   "cell_type": "code",
   "execution_count": 105,
   "metadata": {},
   "outputs": [],
   "source": [
    "dfnum <- df[,numericVars]"
   ]
  },
  {
   "cell_type": "markdown",
   "metadata": {},
   "source": [
    "Many of these numeric variables are actually ordinal, which we will append to the factor dataframe, without transforming them into factors."
   ]
  },
  {
   "cell_type": "code",
   "execution_count": 106,
   "metadata": {},
   "outputs": [],
   "source": [
    "ord = dfnum[,c('OverallQual','OverallCond','LandSlope','PavedDrive','Street','HeatingQC','KitchenQual',\n",
    "               'Functional','ExterQual','ExterCond','MasVnrType','PoolQC','FireplaceQu','LotShape','GarageFinish',\n",
    "               'GarageQual','BsmtQual','BsmtCond','BsmtExposure','BsmtFinType1','BsmtFinType2')]"
   ]
  },
  {
   "cell_type": "code",
   "execution_count": 107,
   "metadata": {},
   "outputs": [],
   "source": [
    "ord1 <- c('OverallQual','OverallCond','LandSlope','PavedDrive','Street','HeatingQC','KitchenQual',\n",
    "               'Functional','ExterQual','ExterCond','MasVnrType','PoolQC','FireplaceQu','LotShape','GarageFinish',\n",
    "               'GarageQual','BsmtQual','BsmtCond','BsmtExposure','BsmtFinType1','BsmtFinType2')"
   ]
  },
  {
   "cell_type": "code",
   "execution_count": 108,
   "metadata": {},
   "outputs": [],
   "source": [
    "dfnum <- dfnum %>% select (-ord1)"
   ]
  },
  {
   "cell_type": "code",
   "execution_count": 109,
   "metadata": {},
   "outputs": [
    {
     "data": {
      "text/html": [
       "30"
      ],
      "text/latex": [
       "30"
      ],
      "text/markdown": [
       "30"
      ],
      "text/plain": [
       "[1] 30"
      ]
     },
     "metadata": {},
     "output_type": "display_data"
    }
   ],
   "source": [
    "length(dfnum)"
   ]
  },
  {
   "cell_type": "code",
   "execution_count": 110,
   "metadata": {},
   "outputs": [],
   "source": [
    "factorVars <- which(sapply(df, is.factor)) #index vector factor variables"
   ]
  },
  {
   "cell_type": "code",
   "execution_count": 111,
   "metadata": {},
   "outputs": [
    {
     "data": {
      "text/html": [
       "25"
      ],
      "text/latex": [
       "25"
      ],
      "text/markdown": [
       "25"
      ],
      "text/plain": [
       "[1] 25"
      ]
     },
     "metadata": {},
     "output_type": "display_data"
    }
   ],
   "source": [
    "length(factorVars)"
   ]
  },
  {
   "cell_type": "code",
   "execution_count": 112,
   "metadata": {},
   "outputs": [],
   "source": [
    "dffactor <- df[,factorVars]"
   ]
  },
  {
   "cell_type": "code",
   "execution_count": 113,
   "metadata": {},
   "outputs": [],
   "source": [
    "dffactor <- cbind(dffactor,ord)"
   ]
  },
  {
   "cell_type": "code",
   "execution_count": 114,
   "metadata": {},
   "outputs": [
    {
     "name": "stdout",
     "output_type": "stream",
     "text": [
      "There are 30 numeric variables, and 46 factor variables"
     ]
    }
   ],
   "source": [
    "cat('There are', length(dfnum), 'numeric variables, and', length(dffactor), 'factor variables')"
   ]
  },
  {
   "cell_type": "markdown",
   "metadata": {},
   "source": [
    "**Standardization**"
   ]
  },
  {
   "cell_type": "code",
   "execution_count": 115,
   "metadata": {},
   "outputs": [
    {
     "data": {
      "text/html": [
       "<table>\n",
       "<thead><tr><th scope=col>LotFrontage</th><th scope=col>LotArea</th><th scope=col>YearBuilt</th><th scope=col>YearRemodAdd</th><th scope=col>MasVnrArea</th><th scope=col>BsmtFinSF2</th><th scope=col>BsmtUnfSF</th><th scope=col>X1stFlrSF</th><th scope=col>X2ndFlrSF</th><th scope=col>LowQualFinSF</th><th scope=col>...</th><th scope=col>WoodDeckSF</th><th scope=col>OpenPorchSF</th><th scope=col>EnclosedPorch</th><th scope=col>X3SsnPorch</th><th scope=col>ScreenPorch</th><th scope=col>PoolArea</th><th scope=col>MiscVal</th><th scope=col>SalePrice</th><th scope=col>TotalSqft</th><th scope=col>TotalBath</th></tr></thead>\n",
       "<tbody>\n",
       "\t<tr><td>65    </td><td>8450  </td><td>2003  </td><td>2003  </td><td>196   </td><td>0     </td><td>150   </td><td> 856  </td><td>854   </td><td>0     </td><td>...   </td><td>  0   </td><td>61    </td><td>0     </td><td>0     </td><td>0     </td><td>0     </td><td>0     </td><td>208500</td><td>2566  </td><td>3.0   </td></tr>\n",
       "\t<tr><td>80    </td><td>9600  </td><td>1976  </td><td>1976  </td><td>  0   </td><td>0     </td><td>284   </td><td>1262  </td><td>  0   </td><td>0     </td><td>...   </td><td>298   </td><td> 0    </td><td>0     </td><td>0     </td><td>0     </td><td>0     </td><td>0     </td><td>181500</td><td>2524  </td><td>2.5   </td></tr>\n",
       "</tbody>\n",
       "</table>\n"
      ],
      "text/latex": [
       "\\begin{tabular}{r|llllllllllllllllllllllllllllll}\n",
       " LotFrontage & LotArea & YearBuilt & YearRemodAdd & MasVnrArea & BsmtFinSF2 & BsmtUnfSF & X1stFlrSF & X2ndFlrSF & LowQualFinSF & ... & WoodDeckSF & OpenPorchSF & EnclosedPorch & X3SsnPorch & ScreenPorch & PoolArea & MiscVal & SalePrice & TotalSqft & TotalBath\\\\\n",
       "\\hline\n",
       "\t 65     & 8450   & 2003   & 2003   & 196    & 0      & 150    &  856   & 854    & 0      & ...    &   0    & 61     & 0      & 0      & 0      & 0      & 0      & 208500 & 2566   & 3.0   \\\\\n",
       "\t 80     & 9600   & 1976   & 1976   &   0    & 0      & 284    & 1262   &   0    & 0      & ...    & 298    &  0     & 0      & 0      & 0      & 0      & 0      & 181500 & 2524   & 2.5   \\\\\n",
       "\\end{tabular}\n"
      ],
      "text/markdown": [
       "\n",
       "LotFrontage | LotArea | YearBuilt | YearRemodAdd | MasVnrArea | BsmtFinSF2 | BsmtUnfSF | X1stFlrSF | X2ndFlrSF | LowQualFinSF | ... | WoodDeckSF | OpenPorchSF | EnclosedPorch | X3SsnPorch | ScreenPorch | PoolArea | MiscVal | SalePrice | TotalSqft | TotalBath | \n",
       "|---|---|\n",
       "| 65     | 8450   | 2003   | 2003   | 196    | 0      | 150    |  856   | 854    | 0      | ...    |   0    | 61     | 0      | 0      | 0      | 0      | 0      | 208500 | 2566   | 3.0    | \n",
       "| 80     | 9600   | 1976   | 1976   |   0    | 0      | 284    | 1262   |   0    | 0      | ...    | 298    |  0     | 0      | 0      | 0      | 0      | 0      | 181500 | 2524   | 2.5    | \n",
       "\n",
       "\n"
      ],
      "text/plain": [
       "  LotFrontage LotArea YearBuilt YearRemodAdd MasVnrArea BsmtFinSF2 BsmtUnfSF\n",
       "1 65          8450    2003      2003         196        0          150      \n",
       "2 80          9600    1976      1976           0        0          284      \n",
       "  X1stFlrSF X2ndFlrSF LowQualFinSF ... WoodDeckSF OpenPorchSF EnclosedPorch\n",
       "1  856      854       0            ...   0        61          0            \n",
       "2 1262        0       0            ... 298         0          0            \n",
       "  X3SsnPorch ScreenPorch PoolArea MiscVal SalePrice TotalSqft TotalBath\n",
       "1 0          0           0        0       208500    2566      3.0      \n",
       "2 0          0           0        0       181500    2524      2.5      "
      ]
     },
     "metadata": {},
     "output_type": "display_data"
    }
   ],
   "source": [
    "head(dfnum,2)"
   ]
  },
  {
   "cell_type": "code",
   "execution_count": 116,
   "metadata": {},
   "outputs": [],
   "source": [
    "dfnorm  <- dfnum %>% mutate_at(scale, .vars = vars(-SalePrice))"
   ]
  },
  {
   "cell_type": "code",
   "execution_count": 117,
   "metadata": {},
   "outputs": [
    {
     "data": {
      "text/html": [
       "<table>\n",
       "<thead><tr><th scope=col>LotFrontage</th><th scope=col>LotArea</th><th scope=col>YearBuilt</th><th scope=col>YearRemodAdd</th><th scope=col>MasVnrArea</th><th scope=col>BsmtFinSF2</th><th scope=col>BsmtUnfSF</th><th scope=col>X1stFlrSF</th><th scope=col>X2ndFlrSF</th><th scope=col>LowQualFinSF</th><th scope=col>...</th><th scope=col>WoodDeckSF</th><th scope=col>OpenPorchSF</th><th scope=col>EnclosedPorch</th><th scope=col>X3SsnPorch</th><th scope=col>ScreenPorch</th><th scope=col>PoolArea</th><th scope=col>MiscVal</th><th scope=col>SalePrice</th><th scope=col>TotalSqft</th><th scope=col>TotalBath</th></tr></thead>\n",
       "<tbody>\n",
       "\t<tr><td>-0.2089718 </td><td>-0.21639955</td><td>1.0470513  </td><td> 0.8975478 </td><td> 0.5339956 </td><td>-0.2930841 </td><td>-0.9336018 </td><td>-0.7830793 </td><td> 1.2102656 </td><td>-0.1012147 </td><td>...        </td><td>-0.7399625 </td><td> 0.2044119 </td><td>-0.3596783 </td><td>-0.1033486 </td><td>-0.2859924 </td><td>-0.05184043</td><td>-0.08960755</td><td>208500     </td><td> 0.02401526</td><td>1.4621202  </td></tr>\n",
       "\t<tr><td> 0.4984058 </td><td>-0.06909653</td><td>0.1555794  </td><td>-0.3947970 </td><td>-0.5669270 </td><td>-0.2930841 </td><td>-0.6288477 </td><td> 0.2707427 </td><td>-0.7845038 </td><td>-0.1012147 </td><td>...        </td><td> 1.6151610 </td><td>-0.7044221 </td><td>-0.3596783 </td><td>-0.1033486 </td><td>-0.2859924 </td><td>-0.05184043</td><td>-0.08960755</td><td>181500     </td><td>-0.02969128</td><td>0.7293016  </td></tr>\n",
       "</tbody>\n",
       "</table>\n"
      ],
      "text/latex": [
       "\\begin{tabular}{r|llllllllllllllllllllllllllllll}\n",
       " LotFrontage & LotArea & YearBuilt & YearRemodAdd & MasVnrArea & BsmtFinSF2 & BsmtUnfSF & X1stFlrSF & X2ndFlrSF & LowQualFinSF & ... & WoodDeckSF & OpenPorchSF & EnclosedPorch & X3SsnPorch & ScreenPorch & PoolArea & MiscVal & SalePrice & TotalSqft & TotalBath\\\\\n",
       "\\hline\n",
       "\t -0.2089718  & -0.21639955 & 1.0470513   &  0.8975478  &  0.5339956  & -0.2930841  & -0.9336018  & -0.7830793  &  1.2102656  & -0.1012147  & ...         & -0.7399625  &  0.2044119  & -0.3596783  & -0.1033486  & -0.2859924  & -0.05184043 & -0.08960755 & 208500      &  0.02401526 & 1.4621202  \\\\\n",
       "\t  0.4984058  & -0.06909653 & 0.1555794   & -0.3947970  & -0.5669270  & -0.2930841  & -0.6288477  &  0.2707427  & -0.7845038  & -0.1012147  & ...         &  1.6151610  & -0.7044221  & -0.3596783  & -0.1033486  & -0.2859924  & -0.05184043 & -0.08960755 & 181500      & -0.02969128 & 0.7293016  \\\\\n",
       "\\end{tabular}\n"
      ],
      "text/markdown": [
       "\n",
       "LotFrontage | LotArea | YearBuilt | YearRemodAdd | MasVnrArea | BsmtFinSF2 | BsmtUnfSF | X1stFlrSF | X2ndFlrSF | LowQualFinSF | ... | WoodDeckSF | OpenPorchSF | EnclosedPorch | X3SsnPorch | ScreenPorch | PoolArea | MiscVal | SalePrice | TotalSqft | TotalBath | \n",
       "|---|---|\n",
       "| -0.2089718  | -0.21639955 | 1.0470513   |  0.8975478  |  0.5339956  | -0.2930841  | -0.9336018  | -0.7830793  |  1.2102656  | -0.1012147  | ...         | -0.7399625  |  0.2044119  | -0.3596783  | -0.1033486  | -0.2859924  | -0.05184043 | -0.08960755 | 208500      |  0.02401526 | 1.4621202   | \n",
       "|  0.4984058  | -0.06909653 | 0.1555794   | -0.3947970  | -0.5669270  | -0.2930841  | -0.6288477  |  0.2707427  | -0.7845038  | -0.1012147  | ...         |  1.6151610  | -0.7044221  | -0.3596783  | -0.1033486  | -0.2859924  | -0.05184043 | -0.08960755 | 181500      | -0.02969128 | 0.7293016   | \n",
       "\n",
       "\n"
      ],
      "text/plain": [
       "  LotFrontage LotArea     YearBuilt YearRemodAdd MasVnrArea BsmtFinSF2\n",
       "1 -0.2089718  -0.21639955 1.0470513  0.8975478    0.5339956 -0.2930841\n",
       "2  0.4984058  -0.06909653 0.1555794 -0.3947970   -0.5669270 -0.2930841\n",
       "  BsmtUnfSF  X1stFlrSF  X2ndFlrSF  LowQualFinSF ... WoodDeckSF OpenPorchSF\n",
       "1 -0.9336018 -0.7830793  1.2102656 -0.1012147   ... -0.7399625  0.2044119 \n",
       "2 -0.6288477  0.2707427 -0.7845038 -0.1012147   ...  1.6151610 -0.7044221 \n",
       "  EnclosedPorch X3SsnPorch ScreenPorch PoolArea    MiscVal     SalePrice\n",
       "1 -0.3596783    -0.1033486 -0.2859924  -0.05184043 -0.08960755 208500   \n",
       "2 -0.3596783    -0.1033486 -0.2859924  -0.05184043 -0.08960755 181500   \n",
       "  TotalSqft   TotalBath\n",
       "1  0.02401526 1.4621202\n",
       "2 -0.02969128 0.7293016"
      ]
     },
     "metadata": {},
     "output_type": "display_data"
    }
   ],
   "source": [
    "head(dfnorm,2)"
   ]
  },
  {
   "cell_type": "markdown",
   "metadata": {},
   "source": [
    "Encoding categorical variables"
   ]
  },
  {
   "cell_type": "code",
   "execution_count": 118,
   "metadata": {},
   "outputs": [],
   "source": [
    "dfdummies <- as.data.frame(model.matrix(~.-1,dffactor))"
   ]
  },
  {
   "cell_type": "code",
   "execution_count": 119,
   "metadata": {},
   "outputs": [
    {
     "data": {
      "text/html": [
       "<ol class=list-inline>\n",
       "\t<li>2917</li>\n",
       "\t<li>198</li>\n",
       "</ol>\n"
      ],
      "text/latex": [
       "\\begin{enumerate*}\n",
       "\\item 2917\n",
       "\\item 198\n",
       "\\end{enumerate*}\n"
      ],
      "text/markdown": [
       "1. 2917\n",
       "2. 198\n",
       "\n",
       "\n"
      ],
      "text/plain": [
       "[1] 2917  198"
      ]
     },
     "metadata": {},
     "output_type": "display_data"
    }
   ],
   "source": [
    "dim(dfdummies)"
   ]
  },
  {
   "cell_type": "code",
   "execution_count": 120,
   "metadata": {
    "scrolled": true
   },
   "outputs": [
    {
     "data": {
      "text/html": [
       "<table>\n",
       "<thead><tr><th scope=col>MSSubClass20</th><th scope=col>MSSubClass30</th><th scope=col>MSSubClass40</th><th scope=col>MSSubClass45</th><th scope=col>MSSubClass50</th><th scope=col>MSSubClass60</th><th scope=col>MSSubClass70</th><th scope=col>MSSubClass75</th><th scope=col>MSSubClass80</th><th scope=col>MSSubClass85</th><th scope=col>...</th><th scope=col>PoolQC</th><th scope=col>FireplaceQu</th><th scope=col>LotShape</th><th scope=col>GarageFinish</th><th scope=col>GarageQual</th><th scope=col>BsmtQual</th><th scope=col>BsmtCond</th><th scope=col>BsmtExposure</th><th scope=col>BsmtFinType1</th><th scope=col>BsmtFinType2</th></tr></thead>\n",
       "<tbody>\n",
       "\t<tr><td>0  </td><td>0  </td><td>0  </td><td>0  </td><td>0  </td><td>1  </td><td>0  </td><td>0  </td><td>0  </td><td>0  </td><td>...</td><td>0  </td><td>0  </td><td>3  </td><td>2  </td><td>3  </td><td>4  </td><td>3  </td><td>1  </td><td>6  </td><td>1  </td></tr>\n",
       "\t<tr><td>1  </td><td>0  </td><td>0  </td><td>0  </td><td>0  </td><td>0  </td><td>0  </td><td>0  </td><td>0  </td><td>0  </td><td>...</td><td>0  </td><td>3  </td><td>3  </td><td>2  </td><td>3  </td><td>4  </td><td>3  </td><td>4  </td><td>5  </td><td>1  </td></tr>\n",
       "</tbody>\n",
       "</table>\n"
      ],
      "text/latex": [
       "\\begin{tabular}{r|llllllllllllllllllllllllllllllllllllllllllllllllllllllllllllllllllllllllllllllllllllllllllllllllllllllllllllllllllllllllllllllllllllllllllllllllllllllllllllllllllllllllllllllllllllllllllllllllllllll}\n",
       " MSSubClass20 & MSSubClass30 & MSSubClass40 & MSSubClass45 & MSSubClass50 & MSSubClass60 & MSSubClass70 & MSSubClass75 & MSSubClass80 & MSSubClass85 & ... & PoolQC & FireplaceQu & LotShape & GarageFinish & GarageQual & BsmtQual & BsmtCond & BsmtExposure & BsmtFinType1 & BsmtFinType2\\\\\n",
       "\\hline\n",
       "\t 0   & 0   & 0   & 0   & 0   & 1   & 0   & 0   & 0   & 0   & ... & 0   & 0   & 3   & 2   & 3   & 4   & 3   & 1   & 6   & 1  \\\\\n",
       "\t 1   & 0   & 0   & 0   & 0   & 0   & 0   & 0   & 0   & 0   & ... & 0   & 3   & 3   & 2   & 3   & 4   & 3   & 4   & 5   & 1  \\\\\n",
       "\\end{tabular}\n"
      ],
      "text/markdown": [
       "\n",
       "MSSubClass20 | MSSubClass30 | MSSubClass40 | MSSubClass45 | MSSubClass50 | MSSubClass60 | MSSubClass70 | MSSubClass75 | MSSubClass80 | MSSubClass85 | ... | PoolQC | FireplaceQu | LotShape | GarageFinish | GarageQual | BsmtQual | BsmtCond | BsmtExposure | BsmtFinType1 | BsmtFinType2 | \n",
       "|---|---|\n",
       "| 0   | 0   | 0   | 0   | 0   | 1   | 0   | 0   | 0   | 0   | ... | 0   | 0   | 3   | 2   | 3   | 4   | 3   | 1   | 6   | 1   | \n",
       "| 1   | 0   | 0   | 0   | 0   | 0   | 0   | 0   | 0   | 0   | ... | 0   | 3   | 3   | 2   | 3   | 4   | 3   | 4   | 5   | 1   | \n",
       "\n",
       "\n"
      ],
      "text/plain": [
       "  MSSubClass20 MSSubClass30 MSSubClass40 MSSubClass45 MSSubClass50 MSSubClass60\n",
       "1 0            0            0            0            0            1           \n",
       "2 1            0            0            0            0            0           \n",
       "  MSSubClass70 MSSubClass75 MSSubClass80 MSSubClass85 ... PoolQC FireplaceQu\n",
       "1 0            0            0            0            ... 0      0          \n",
       "2 0            0            0            0            ... 0      3          \n",
       "  LotShape GarageFinish GarageQual BsmtQual BsmtCond BsmtExposure BsmtFinType1\n",
       "1 3        2            3          4        3        1            6           \n",
       "2 3        2            3          4        3        4            5           \n",
       "  BsmtFinType2\n",
       "1 1           \n",
       "2 1           "
      ]
     },
     "metadata": {},
     "output_type": "display_data"
    }
   ],
   "source": [
    "head(dfdummies,2)"
   ]
  },
  {
   "cell_type": "markdown",
   "metadata": {},
   "source": [
    "Removing levels with few or no observations in train or test as this will cause us issues during the modeling phase"
   ]
  },
  {
   "cell_type": "code",
   "execution_count": 121,
   "metadata": {
    "scrolled": true
   },
   "outputs": [
    {
     "data": {
      "text/html": [
       "<ol class=list-inline>\n",
       "\t<li>'Condition2RRAe'</li>\n",
       "\t<li>'Condition2RRAn'</li>\n",
       "\t<li>'Condition2RRNn'</li>\n",
       "\t<li>'HouseStyle2.5Fin'</li>\n",
       "\t<li>'RoofMatlMembran'</li>\n",
       "\t<li>'RoofMatlMetal'</li>\n",
       "\t<li>'RoofMatlRoll'</li>\n",
       "\t<li>'Exterior1stImStucc'</li>\n",
       "\t<li>'Exterior1stStone'</li>\n",
       "\t<li>'Exterior2ndOther'</li>\n",
       "\t<li>'HeatingOthW'</li>\n",
       "\t<li>'ElectricalMix'</li>\n",
       "\t<li>'MiscFeatureTenC'</li>\n",
       "</ol>\n"
      ],
      "text/latex": [
       "\\begin{enumerate*}\n",
       "\\item 'Condition2RRAe'\n",
       "\\item 'Condition2RRAn'\n",
       "\\item 'Condition2RRNn'\n",
       "\\item 'HouseStyle2.5Fin'\n",
       "\\item 'RoofMatlMembran'\n",
       "\\item 'RoofMatlMetal'\n",
       "\\item 'RoofMatlRoll'\n",
       "\\item 'Exterior1stImStucc'\n",
       "\\item 'Exterior1stStone'\n",
       "\\item 'Exterior2ndOther'\n",
       "\\item 'HeatingOthW'\n",
       "\\item 'ElectricalMix'\n",
       "\\item 'MiscFeatureTenC'\n",
       "\\end{enumerate*}\n"
      ],
      "text/markdown": [
       "1. 'Condition2RRAe'\n",
       "2. 'Condition2RRAn'\n",
       "3. 'Condition2RRNn'\n",
       "4. 'HouseStyle2.5Fin'\n",
       "5. 'RoofMatlMembran'\n",
       "6. 'RoofMatlMetal'\n",
       "7. 'RoofMatlRoll'\n",
       "8. 'Exterior1stImStucc'\n",
       "9. 'Exterior1stStone'\n",
       "10. 'Exterior2ndOther'\n",
       "11. 'HeatingOthW'\n",
       "12. 'ElectricalMix'\n",
       "13. 'MiscFeatureTenC'\n",
       "\n",
       "\n"
      ],
      "text/plain": [
       " [1] \"Condition2RRAe\"     \"Condition2RRAn\"     \"Condition2RRNn\"    \n",
       " [4] \"HouseStyle2.5Fin\"   \"RoofMatlMembran\"    \"RoofMatlMetal\"     \n",
       " [7] \"RoofMatlRoll\"       \"Exterior1stImStucc\" \"Exterior1stStone\"  \n",
       "[10] \"Exterior2ndOther\"   \"HeatingOthW\"        \"ElectricalMix\"     \n",
       "[13] \"MiscFeatureTenC\"   "
      ]
     },
     "metadata": {},
     "output_type": "display_data"
    }
   ],
   "source": [
    "PredictorsWithNoObs <- which(colSums(dfdummies[(nrow(df[!is.na(df$SalePrice),])+1):nrow(df),])==0)\n",
    "colnames(dfdummies[PredictorsWithNoObs])"
   ]
  },
  {
   "cell_type": "markdown",
   "metadata": {},
   "source": [
    "Removing these columns"
   ]
  },
  {
   "cell_type": "code",
   "execution_count": 122,
   "metadata": {},
   "outputs": [],
   "source": [
    "dfdummies <- dfdummies[,-PredictorsWithNoObs]"
   ]
  },
  {
   "cell_type": "markdown",
   "metadata": {},
   "source": [
    "Check if values are absent in the training set"
   ]
  },
  {
   "cell_type": "code",
   "execution_count": 123,
   "metadata": {
    "scrolled": true
   },
   "outputs": [
    {
     "data": {
      "text/html": [
       "'MSSubClass150'"
      ],
      "text/latex": [
       "'MSSubClass150'"
      ],
      "text/markdown": [
       "'MSSubClass150'"
      ],
      "text/plain": [
       "[1] \"MSSubClass150\""
      ]
     },
     "metadata": {},
     "output_type": "display_data"
    }
   ],
   "source": [
    "PredictorsWithNoObsTrain <- which(colSums(dfdummies[1:nrow(df[!is.na(df$SalePrice),]),])==0)\n",
    "colnames(dfdummies[PredictorsWithNoObsTrain])"
   ]
  },
  {
   "cell_type": "markdown",
   "metadata": {},
   "source": [
    "Removing the column"
   ]
  },
  {
   "cell_type": "code",
   "execution_count": 124,
   "metadata": {},
   "outputs": [],
   "source": [
    "dfdummies <- dfdummies[,-PredictorsWithNoObsTrain]"
   ]
  },
  {
   "cell_type": "markdown",
   "metadata": {},
   "source": [
    "**Merging the standardized numerical values dataframe and the encoded one**"
   ]
  },
  {
   "cell_type": "code",
   "execution_count": 125,
   "metadata": {},
   "outputs": [],
   "source": [
    "dfmodel <- cbind(dfnorm,dfdummies)"
   ]
  },
  {
   "cell_type": "markdown",
   "metadata": {},
   "source": [
    "**Skewness of the DV**"
   ]
  },
  {
   "cell_type": "code",
   "execution_count": 126,
   "metadata": {},
   "outputs": [
    {
     "data": {
      "image/png": "[encoded data removed]",
      "text/plain": [
       "Plot with title \"Normal Q-Q Plot\""
      ]
     },
     "metadata": {},
     "output_type": "display_data"
    }
   ],
   "source": [
    "qqnorm(dfmodel$SalePrice)\n",
    "qqline(dfmodel$SalePrice)"
   ]
  },
  {
   "cell_type": "markdown",
   "metadata": {},
   "source": [
    "This is not satisfactory - we want the line to be as straight as possible. Applying log, we get a much more acceptable qqplot."
   ]
  },
  {
   "cell_type": "code",
   "execution_count": 127,
   "metadata": {},
   "outputs": [
    {
     "data": {
      "image/png": "[encoded data removed]",
      "text/plain": [
       "Plot with title \"Normal Q-Q Plot\""
      ]
     },
     "metadata": {},
     "output_type": "display_data"
    }
   ],
   "source": [
    "dfmodel$SalePrice <- log(dfmodel$SalePrice)\n",
    "qqnorm(dfmodel$SalePrice)\n",
    "qqline(dfmodel$SalePrice)"
   ]
  },
  {
   "cell_type": "markdown",
   "metadata": {},
   "source": [
    "- Much better"
   ]
  },
  {
   "cell_type": "markdown",
   "metadata": {},
   "source": [
    "Renaming Columns with out spaces"
   ]
  },
  {
   "cell_type": "code",
   "execution_count": 128,
   "metadata": {},
   "outputs": [],
   "source": [
    "names(dfmodel)[names(dfmodel) == 'AlleyNo Alley'] <- 'AlleyNo_Alley'\n",
    "names(dfmodel)[names(dfmodel) == 'RoofMatlTar&Grv'] <- 'RoofMatlTar_Grv'\n",
    "names(dfmodel)[names(dfmodel) == 'Exterior1stWd Sdng'] <- 'Exterior1stWd_Sdng'\n",
    "names(dfmodel)[names(dfmodel) == 'Exterior2ndBrk Cmn'] <- 'Exterior2ndBrkCmn'\n",
    "names(dfmodel)[names(dfmodel) == 'Exterior2ndWd Sdng'] <- 'Exterior2ndWdSdng'\n",
    "names(dfmodel)[names(dfmodel) == 'Exterior2ndWd Shng'] <- 'Exterior2ndWdShng'\n",
    "names(dfmodel)[names(dfmodel) == 'GarageTypeNo Garage'] <- 'GarageTypeNoGarage'\n",
    "names(dfmodel)[names(dfmodel) == 'FenceNo Fence'] <- 'FenceNoFence'\n",
    "names(dfmodel)[names(dfmodel) == 'MiscFeatureNo Features'] <- 'MiscFeatureNoFeatures'"
   ]
  },
  {
   "cell_type": "markdown",
   "metadata": {},
   "source": [
    "Train and Test Sets ready for modeling"
   ]
  },
  {
   "cell_type": "code",
   "execution_count": 129,
   "metadata": {},
   "outputs": [],
   "source": [
    "train1 <- dfmodel[!is.na(dfmodel$SalePrice),]\n",
    "test1 <- dfmodel[is.na(dfmodel$SalePrice),]"
   ]
  },
  {
   "cell_type": "code",
   "execution_count": 130,
   "metadata": {
    "scrolled": true
   },
   "outputs": [
    {
     "data": {
      "text/html": [
       "<table>\n",
       "<thead><tr><th scope=col>LotFrontage</th><th scope=col>LotArea</th><th scope=col>YearBuilt</th><th scope=col>YearRemodAdd</th><th scope=col>MasVnrArea</th><th scope=col>BsmtFinSF2</th><th scope=col>BsmtUnfSF</th><th scope=col>X1stFlrSF</th><th scope=col>X2ndFlrSF</th><th scope=col>LowQualFinSF</th><th scope=col>...</th><th scope=col>PoolQC</th><th scope=col>FireplaceQu</th><th scope=col>LotShape</th><th scope=col>GarageFinish</th><th scope=col>GarageQual</th><th scope=col>BsmtQual</th><th scope=col>BsmtCond</th><th scope=col>BsmtExposure</th><th scope=col>BsmtFinType1</th><th scope=col>BsmtFinType2</th></tr></thead>\n",
       "<tbody>\n",
       "\t<tr><td>-0.2089718 </td><td>-0.21639955</td><td>1.0470513  </td><td> 0.8975478 </td><td> 0.5339956 </td><td>-0.2930841 </td><td>-0.9336018 </td><td>-0.7830793 </td><td> 1.2102656 </td><td>-0.1012147 </td><td>...        </td><td>0          </td><td>0          </td><td>3          </td><td>2          </td><td>3          </td><td>4          </td><td>3          </td><td>1          </td><td>6          </td><td>1          </td></tr>\n",
       "\t<tr><td> 0.4984058 </td><td>-0.06909653</td><td>0.1555794  </td><td>-0.3947970 </td><td>-0.5669270 </td><td>-0.2930841 </td><td>-0.6288477 </td><td> 0.2707427 </td><td>-0.7845038 </td><td>-0.1012147 </td><td>...        </td><td>0          </td><td>3          </td><td>3          </td><td>2          </td><td>3          </td><td>4          </td><td>3          </td><td>4          </td><td>5          </td><td>1          </td></tr>\n",
       "</tbody>\n",
       "</table>\n"
      ],
      "text/latex": [
       "\\begin{tabular}{r|llllllllllllllllllllllllllllllllllllllllllllllllllllllllllllllllllllllllllllllllllllllllllllllllllllllllllllllllllllllllllllllllllllllllllllllllllllllllllllllllllllllllllllllllllllllllllllllllllllllllllllllllllllll}\n",
       " LotFrontage & LotArea & YearBuilt & YearRemodAdd & MasVnrArea & BsmtFinSF2 & BsmtUnfSF & X1stFlrSF & X2ndFlrSF & LowQualFinSF & ... & PoolQC & FireplaceQu & LotShape & GarageFinish & GarageQual & BsmtQual & BsmtCond & BsmtExposure & BsmtFinType1 & BsmtFinType2\\\\\n",
       "\\hline\n",
       "\t -0.2089718  & -0.21639955 & 1.0470513   &  0.8975478  &  0.5339956  & -0.2930841  & -0.9336018  & -0.7830793  &  1.2102656  & -0.1012147  & ...         & 0           & 0           & 3           & 2           & 3           & 4           & 3           & 1           & 6           & 1          \\\\\n",
       "\t  0.4984058  & -0.06909653 & 0.1555794   & -0.3947970  & -0.5669270  & -0.2930841  & -0.6288477  &  0.2707427  & -0.7845038  & -0.1012147  & ...         & 0           & 3           & 3           & 2           & 3           & 4           & 3           & 4           & 5           & 1          \\\\\n",
       "\\end{tabular}\n"
      ],
      "text/markdown": [
       "\n",
       "LotFrontage | LotArea | YearBuilt | YearRemodAdd | MasVnrArea | BsmtFinSF2 | BsmtUnfSF | X1stFlrSF | X2ndFlrSF | LowQualFinSF | ... | PoolQC | FireplaceQu | LotShape | GarageFinish | GarageQual | BsmtQual | BsmtCond | BsmtExposure | BsmtFinType1 | BsmtFinType2 | \n",
       "|---|---|\n",
       "| -0.2089718  | -0.21639955 | 1.0470513   |  0.8975478  |  0.5339956  | -0.2930841  | -0.9336018  | -0.7830793  |  1.2102656  | -0.1012147  | ...         | 0           | 0           | 3           | 2           | 3           | 4           | 3           | 1           | 6           | 1           | \n",
       "|  0.4984058  | -0.06909653 | 0.1555794   | -0.3947970  | -0.5669270  | -0.2930841  | -0.6288477  |  0.2707427  | -0.7845038  | -0.1012147  | ...         | 0           | 3           | 3           | 2           | 3           | 4           | 3           | 4           | 5           | 1           | \n",
       "\n",
       "\n"
      ],
      "text/plain": [
       "  LotFrontage LotArea     YearBuilt YearRemodAdd MasVnrArea BsmtFinSF2\n",
       "1 -0.2089718  -0.21639955 1.0470513  0.8975478    0.5339956 -0.2930841\n",
       "2  0.4984058  -0.06909653 0.1555794 -0.3947970   -0.5669270 -0.2930841\n",
       "  BsmtUnfSF  X1stFlrSF  X2ndFlrSF  LowQualFinSF ... PoolQC FireplaceQu LotShape\n",
       "1 -0.9336018 -0.7830793  1.2102656 -0.1012147   ... 0      0           3       \n",
       "2 -0.6288477  0.2707427 -0.7845038 -0.1012147   ... 0      3           3       \n",
       "  GarageFinish GarageQual BsmtQual BsmtCond BsmtExposure BsmtFinType1\n",
       "1 2            3          4        3        1            6           \n",
       "2 2            3          4        3        4            5           \n",
       "  BsmtFinType2\n",
       "1 1           \n",
       "2 1           "
      ]
     },
     "metadata": {},
     "output_type": "display_data"
    },
    {
     "data": {
      "text/html": [
       "<table>\n",
       "<thead><tr><th></th><th scope=col>LotFrontage</th><th scope=col>LotArea</th><th scope=col>YearBuilt</th><th scope=col>YearRemodAdd</th><th scope=col>MasVnrArea</th><th scope=col>BsmtFinSF2</th><th scope=col>BsmtUnfSF</th><th scope=col>X1stFlrSF</th><th scope=col>X2ndFlrSF</th><th scope=col>LowQualFinSF</th><th scope=col>...</th><th scope=col>PoolQC</th><th scope=col>FireplaceQu</th><th scope=col>LotShape</th><th scope=col>GarageFinish</th><th scope=col>GarageQual</th><th scope=col>BsmtQual</th><th scope=col>BsmtCond</th><th scope=col>BsmtExposure</th><th scope=col>BsmtFinType1</th><th scope=col>BsmtFinType2</th></tr></thead>\n",
       "<tbody>\n",
       "\t<tr><th scope=row>1461</th><td>0.4984058  </td><td>0.1899006  </td><td>-0.3396827 </td><td>-1.112766  </td><td>-0.56692703</td><td> 0.5578182 </td><td>-0.6606877 </td><td>-0.6792545 </td><td>-0.7845038 </td><td>-0.1012147 </td><td>...        </td><td>0          </td><td>0          </td><td>3          </td><td>1          </td><td>3          </td><td>3          </td><td>3          </td><td>1          </td><td>3          </td><td>2          </td></tr>\n",
       "\t<tr><th scope=row>1462</th><td>0.5455643  </td><td>0.5286975  </td><td>-0.4387351 </td><td>-1.256360  </td><td> 0.03970378</td><td>-0.2930841 </td><td>-0.3513851 </td><td> 0.4446493 </td><td>-0.7845038 </td><td>-0.1012147 </td><td>...        </td><td>0          </td><td>0          </td><td>2          </td><td>1          </td><td>3          </td><td>3          </td><td>3          </td><td>1          </td><td>5          </td><td>1          </td></tr>\n",
       "</tbody>\n",
       "</table>\n"
      ],
      "text/latex": [
       "\\begin{tabular}{r|llllllllllllllllllllllllllllllllllllllllllllllllllllllllllllllllllllllllllllllllllllllllllllllllllllllllllllllllllllllllllllllllllllllllllllllllllllllllllllllllllllllllllllllllllllllllllllllllllllllllllllllllllllll}\n",
       "  & LotFrontage & LotArea & YearBuilt & YearRemodAdd & MasVnrArea & BsmtFinSF2 & BsmtUnfSF & X1stFlrSF & X2ndFlrSF & LowQualFinSF & ... & PoolQC & FireplaceQu & LotShape & GarageFinish & GarageQual & BsmtQual & BsmtCond & BsmtExposure & BsmtFinType1 & BsmtFinType2\\\\\n",
       "\\hline\n",
       "\t1461 & 0.4984058   & 0.1899006   & -0.3396827  & -1.112766   & -0.56692703 &  0.5578182  & -0.6606877  & -0.6792545  & -0.7845038  & -0.1012147  & ...         & 0           & 0           & 3           & 1           & 3           & 3           & 3           & 1           & 3           & 2          \\\\\n",
       "\t1462 & 0.5455643   & 0.5286975   & -0.4387351  & -1.256360   &  0.03970378 & -0.2930841  & -0.3513851  &  0.4446493  & -0.7845038  & -0.1012147  & ...         & 0           & 0           & 2           & 1           & 3           & 3           & 3           & 1           & 5           & 1          \\\\\n",
       "\\end{tabular}\n"
      ],
      "text/markdown": [
       "\n",
       "| <!--/--> | LotFrontage | LotArea | YearBuilt | YearRemodAdd | MasVnrArea | BsmtFinSF2 | BsmtUnfSF | X1stFlrSF | X2ndFlrSF | LowQualFinSF | ... | PoolQC | FireplaceQu | LotShape | GarageFinish | GarageQual | BsmtQual | BsmtCond | BsmtExposure | BsmtFinType1 | BsmtFinType2 | \n",
       "|---|---|\n",
       "| 1461 | 0.4984058   | 0.1899006   | -0.3396827  | -1.112766   | -0.56692703 |  0.5578182  | -0.6606877  | -0.6792545  | -0.7845038  | -0.1012147  | ...         | 0           | 0           | 3           | 1           | 3           | 3           | 3           | 1           | 3           | 2           | \n",
       "| 1462 | 0.5455643   | 0.5286975   | -0.4387351  | -1.256360   |  0.03970378 | -0.2930841  | -0.3513851  |  0.4446493  | -0.7845038  | -0.1012147  | ...         | 0           | 0           | 2           | 1           | 3           | 3           | 3           | 1           | 5           | 1           | \n",
       "\n",
       "\n"
      ],
      "text/plain": [
       "     LotFrontage LotArea   YearBuilt  YearRemodAdd MasVnrArea  BsmtFinSF2\n",
       "1461 0.4984058   0.1899006 -0.3396827 -1.112766    -0.56692703  0.5578182\n",
       "1462 0.5455643   0.5286975 -0.4387351 -1.256360     0.03970378 -0.2930841\n",
       "     BsmtUnfSF  X1stFlrSF  X2ndFlrSF  LowQualFinSF ... PoolQC FireplaceQu\n",
       "1461 -0.6606877 -0.6792545 -0.7845038 -0.1012147   ... 0      0          \n",
       "1462 -0.3513851  0.4446493 -0.7845038 -0.1012147   ... 0      0          \n",
       "     LotShape GarageFinish GarageQual BsmtQual BsmtCond BsmtExposure\n",
       "1461 3        1            3          3        3        1           \n",
       "1462 2        1            3          3        3        1           \n",
       "     BsmtFinType1 BsmtFinType2\n",
       "1461 3            2           \n",
       "1462 5            1           "
      ]
     },
     "metadata": {},
     "output_type": "display_data"
    }
   ],
   "source": [
    "head(train1,2)\n",
    "head(test1,2)"
   ]
  },
  {
   "cell_type": "markdown",
   "metadata": {},
   "source": [
    "# 9. Modeling"
   ]
  },
  {
   "cell_type": "markdown",
   "metadata": {},
   "source": [
    "Now, having all features processed and engineered, we can start the model training then testing with all existing features as model predictors"
   ]
  },
  {
   "cell_type": "markdown",
   "metadata": {},
   "source": [
    "## 9.1 Linear Regression with cross validation"
   ]
  },
  {
   "cell_type": "markdown",
   "metadata": {},
   "source": [
    "We are going to start off with a Linear Regression model with cross validation to set our baseline"
   ]
  },
  {
   "cell_type": "markdown",
   "metadata": {},
   "source": [
    "This will be used to compare the other models that we are going to build to see how well they perform. Ideally our RMSE values for the following models should be better than our baseline model."
   ]
  },
  {
   "cell_type": "markdown",
   "metadata": {},
   "source": [
    "Going to run a linear regression model considering SalePrice as our dependent variable and all other vairables as the predictor or independent variables"
   ]
  },
  {
   "cell_type": "code",
   "execution_count": 131,
   "metadata": {},
   "outputs": [
    {
     "name": "stdout",
     "output_type": "stream",
     "text": [
      "+ Fold1: intercept=TRUE \n",
      "- Fold1: intercept=TRUE \n",
      "+ Fold2: intercept=TRUE \n",
      "- Fold2: intercept=TRUE \n",
      "+ Fold3: intercept=TRUE \n",
      "- Fold3: intercept=TRUE \n",
      "+ Fold4: intercept=TRUE \n",
      "- Fold4: intercept=TRUE \n",
      "+ Fold5: intercept=TRUE \n",
      "- Fold5: intercept=TRUE \n",
      "Aggregating results\n",
      "Fitting final model on full training set\n"
     ]
    }
   ],
   "source": [
    "set.seed(123)\n",
    "lm_mod <- train(SalePrice~.,\n",
    "                  data = train1, \n",
    "                  method = \"lm\",\n",
    "                  trControl=trainControl(\n",
    "                    method = \"cv\",\n",
    "                    number=5,\n",
    "                    savePredictions = TRUE,\n",
    "                    verboseIter = TRUE)\n",
    ")"
   ]
  },
  {
   "cell_type": "code",
   "execution_count": 132,
   "metadata": {
    "scrolled": true
   },
   "outputs": [
    {
     "data": {
      "text/html": [
       "0.123383759964574"
      ],
      "text/latex": [
       "0.123383759964574"
      ],
      "text/markdown": [
       "0.123383759964574"
      ],
      "text/plain": [
       "[1] 0.1233838"
      ]
     },
     "metadata": {},
     "output_type": "display_data"
    }
   ],
   "source": [
    "lm_mod$results$RMSE"
   ]
  },
  {
   "cell_type": "markdown",
   "metadata": {},
   "source": [
    "The RMSE is 0.1233.. which is a what we will be trying to beat with our subsequent models that we will build"
   ]
  },
  {
   "cell_type": "code",
   "execution_count": 133,
   "metadata": {},
   "outputs": [
    {
     "data": {
      "text/html": [
       "<dl class=dl-horizontal>\n",
       "\t<dt>1461</dt>\n",
       "\t\t<dd>118905.679599653</dd>\n",
       "\t<dt>1462</dt>\n",
       "\t\t<dd>148824.472067018</dd>\n",
       "\t<dt>1463</dt>\n",
       "\t\t<dd>177338.305675308</dd>\n",
       "\t<dt>1464</dt>\n",
       "\t\t<dd>202477.91772644</dd>\n",
       "\t<dt>1465</dt>\n",
       "\t\t<dd>201390.424659117</dd>\n",
       "\t<dt>1466</dt>\n",
       "\t\t<dd>171068.417269442</dd>\n",
       "</dl>\n"
      ],
      "text/latex": [
       "\\begin{description*}\n",
       "\\item[1461] 118905.679599653\n",
       "\\item[1462] 148824.472067018\n",
       "\\item[1463] 177338.305675308\n",
       "\\item[1464] 202477.91772644\n",
       "\\item[1465] 201390.424659117\n",
       "\\item[1466] 171068.417269442\n",
       "\\end{description*}\n"
      ],
      "text/markdown": [
       "1461\n",
       ":   118905.6795996531462\n",
       ":   148824.4720670181463\n",
       ":   177338.3056753081464\n",
       ":   202477.917726441465\n",
       ":   201390.4246591171466\n",
       ":   171068.417269442\n",
       "\n"
      ],
      "text/plain": [
       "    1461     1462     1463     1464     1465     1466 \n",
       "118905.7 148824.5 177338.3 202477.9 201390.4 171068.4 "
      ]
     },
     "metadata": {},
     "output_type": "display_data"
    }
   ],
   "source": [
    "#Predicting on test dataset\n",
    "\n",
    "lm.predict.test <- predict(lm_mod, test1)\n",
    "predictions_lm <- exp(lm.predict.test) #need to reverse the log to the real values\n",
    "head(predictions_lm)\n",
    "\n",
    "##code to ADD ID column"
   ]
  },
  {
   "cell_type": "code",
   "execution_count": 134,
   "metadata": {},
   "outputs": [],
   "source": [
    "lm.sol <- data.frame(Id = testID, SalePrice = predictions_lm)"
   ]
  },
  {
   "cell_type": "code",
   "execution_count": 135,
   "metadata": {},
   "outputs": [],
   "source": [
    "write.csv(lm.sol, \"TestPredlinear.csv\",row.names=FALSE)"
   ]
  },
  {
   "cell_type": "markdown",
   "metadata": {},
   "source": [
    "## 9.2 Lasso Regression\n",
    "\n",
    "Lasso shrinks coefficients all the way to zero, effectively dropping unecessary variables."
   ]
  },
  {
   "cell_type": "code",
   "execution_count": 136,
   "metadata": {},
   "outputs": [],
   "source": [
    "SP <- c('SalePrice')"
   ]
  },
  {
   "cell_type": "markdown",
   "metadata": {},
   "source": [
    "For Lasso, We remove the variable SalePrice from the samples and run it."
   ]
  },
  {
   "cell_type": "code",
   "execution_count": 137,
   "metadata": {},
   "outputs": [],
   "source": [
    "train2 <- train1 %>% select (-SP)\n",
    "test2 <- test1 %>% select(-SP)"
   ]
  },
  {
   "cell_type": "code",
   "execution_count": 138,
   "metadata": {},
   "outputs": [
    {
     "data": {
      "text/html": [
       "<table>\n",
       "<thead><tr><th></th><th scope=col>alpha</th><th scope=col>lambda</th></tr></thead>\n",
       "<tbody>\n",
       "\t<tr><th scope=row>4</th><td>1     </td><td>0.0025</td></tr>\n",
       "</tbody>\n",
       "</table>\n"
      ],
      "text/latex": [
       "\\begin{tabular}{r|ll}\n",
       "  & alpha & lambda\\\\\n",
       "\\hline\n",
       "\t4 & 1      & 0.0025\\\\\n",
       "\\end{tabular}\n"
      ],
      "text/markdown": [
       "\n",
       "| <!--/--> | alpha | lambda | \n",
       "|---|\n",
       "| 4 | 1      | 0.0025 | \n",
       "\n",
       "\n"
      ],
      "text/plain": [
       "  alpha lambda\n",
       "4 1     0.0025"
      ]
     },
     "metadata": {},
     "output_type": "display_data"
    }
   ],
   "source": [
    "set.seed(123)\n",
    "my_control <-trainControl(method=\"cv\", number=5)\n",
    "lassoGrid <- expand.grid(alpha = 1, lambda = seq(0.001,0.1,by = 0.0005))\n",
    "\n",
    "lasso_mod <- train(x=train2, y=dfmodel$SalePrice[!is.na(dfmodel$SalePrice)], method='glmnet', trControl= my_control, tuneGrid=lassoGrid) \n",
    "lasso_mod$bestTune"
   ]
  },
  {
   "cell_type": "code",
   "execution_count": 139,
   "metadata": {},
   "outputs": [
    {
     "data": {
      "text/html": [
       "0.113738283115503"
      ],
      "text/latex": [
       "0.113738283115503"
      ],
      "text/markdown": [
       "0.113738283115503"
      ],
      "text/plain": [
       "[1] 0.1137383"
      ]
     },
     "metadata": {},
     "output_type": "display_data"
    },
    {
     "data": {
      "text/html": [
       "0.830879200867707"
      ],
      "text/latex": [
       "0.830879200867707"
      ],
      "text/markdown": [
       "0.830879200867707"
      ],
      "text/plain": [
       "[1] 0.8308792"
      ]
     },
     "metadata": {},
     "output_type": "display_data"
    },
    {
     "data": {
      "text/html": [
       "0.0796113087326443"
      ],
      "text/latex": [
       "0.0796113087326443"
      ],
      "text/markdown": [
       "0.0796113087326443"
      ],
      "text/plain": [
       "[1] 0.07961131"
      ]
     },
     "metadata": {},
     "output_type": "display_data"
    }
   ],
   "source": [
    "min(lasso_mod$results$RMSE)\n",
    "min(lasso_mod$results$Rsquared)\n",
    "min(lasso_mod$results$MAE)"
   ]
  },
  {
   "cell_type": "markdown",
   "metadata": {},
   "source": [
    "**Feature selection from Lasso**"
   ]
  },
  {
   "cell_type": "code",
   "execution_count": 140,
   "metadata": {},
   "outputs": [],
   "source": [
    "lassoVarImp <- varImp(lasso_mod,scale=F)\n",
    "lassoImportance <- lassoVarImp$importance\n",
    "\n",
    "varsSelected <- length(which(lassoImportance$Overall!=0))\n",
    "varsNotSelected <- length(which(lassoImportance$Overall==0))"
   ]
  },
  {
   "cell_type": "markdown",
   "metadata": {},
   "source": [
    "**Variables selected**"
   ]
  },
  {
   "cell_type": "code",
   "execution_count": 141,
   "metadata": {},
   "outputs": [
    {
     "data": {
      "text/html": [
       "109"
      ],
      "text/latex": [
       "109"
      ],
      "text/markdown": [
       "109"
      ],
      "text/plain": [
       "[1] 109"
      ]
     },
     "metadata": {},
     "output_type": "display_data"
    }
   ],
   "source": [
    "varsSelected"
   ]
  },
  {
   "cell_type": "markdown",
   "metadata": {},
   "source": [
    "**Variables dropped by Lasso**"
   ]
  },
  {
   "cell_type": "code",
   "execution_count": 142,
   "metadata": {},
   "outputs": [
    {
     "data": {
      "text/html": [
       "104"
      ],
      "text/latex": [
       "104"
      ],
      "text/markdown": [
       "104"
      ],
      "text/plain": [
       "[1] 104"
      ]
     },
     "metadata": {},
     "output_type": "display_data"
    }
   ],
   "source": [
    "varsNotSelected"
   ]
  },
  {
   "cell_type": "markdown",
   "metadata": {},
   "source": [
    "**Predicting Sales price on test dataset**"
   ]
  },
  {
   "cell_type": "code",
   "execution_count": 143,
   "metadata": {},
   "outputs": [
    {
     "data": {
      "text/html": [
       "<dl class=dl-horizontal>\n",
       "\t<dt>1461</dt>\n",
       "\t\t<dd>113144.752908856</dd>\n",
       "\t<dt>1462</dt>\n",
       "\t\t<dd>158486.952315333</dd>\n",
       "\t<dt>1463</dt>\n",
       "\t\t<dd>177001.144404305</dd>\n",
       "\t<dt>1464</dt>\n",
       "\t\t<dd>200043.181318015</dd>\n",
       "\t<dt>1465</dt>\n",
       "\t\t<dd>200164.202673657</dd>\n",
       "\t<dt>1466</dt>\n",
       "\t\t<dd>170571.281858478</dd>\n",
       "</dl>\n"
      ],
      "text/latex": [
       "\\begin{description*}\n",
       "\\item[1461] 113144.752908856\n",
       "\\item[1462] 158486.952315333\n",
       "\\item[1463] 177001.144404305\n",
       "\\item[1464] 200043.181318015\n",
       "\\item[1465] 200164.202673657\n",
       "\\item[1466] 170571.281858478\n",
       "\\end{description*}\n"
      ],
      "text/markdown": [
       "1461\n",
       ":   113144.7529088561462\n",
       ":   158486.9523153331463\n",
       ":   177001.1444043051464\n",
       ":   200043.1813180151465\n",
       ":   200164.2026736571466\n",
       ":   170571.281858478\n",
       "\n"
      ],
      "text/plain": [
       "    1461     1462     1463     1464     1465     1466 \n",
       "113144.8 158487.0 177001.1 200043.2 200164.2 170571.3 "
      ]
     },
     "metadata": {},
     "output_type": "display_data"
    }
   ],
   "source": [
    "LassoPred <- predict(lasso_mod, test1)\n",
    "predictions_lasso <- exp(LassoPred) #need to reverse the log to the real values\n",
    "head(predictions_lasso)\n",
    "\n",
    "##code to ADD ID column"
   ]
  },
  {
   "cell_type": "code",
   "execution_count": 144,
   "metadata": {},
   "outputs": [],
   "source": [
    "lass.sol <- data.frame(Id = testID, SalePrice = predictions_lasso)"
   ]
  },
  {
   "cell_type": "code",
   "execution_count": 145,
   "metadata": {},
   "outputs": [],
   "source": [
    "write.csv(lass.sol, \"TestPredlasso.csv\",row.names=FALSE)"
   ]
  },
  {
   "cell_type": "markdown",
   "metadata": {},
   "source": [
    "## 9.3 Ridge Regression Model"
   ]
  },
  {
   "cell_type": "markdown",
   "metadata": {},
   "source": [
    "Ridge regression performs shrinkage without exclusion of predictors. \n",
    "We will first create a matrix of all predictors and a vector of the response before we pass it into the glmner function."
   ]
  },
  {
   "cell_type": "code",
   "execution_count": 146,
   "metadata": {},
   "outputs": [],
   "source": [
    "train.ridgeMatrix <- as.matrix(train1[,names(train1) != c(\"SalePrice\")])\n",
    "test.ridgeMatrix <- as.matrix(test1[,names(test1) != c(\"SalePrice\")])"
   ]
  },
  {
   "cell_type": "code",
   "execution_count": 147,
   "metadata": {},
   "outputs": [],
   "source": [
    "train.ridge.y <- train1$SalePrice"
   ]
  },
  {
   "cell_type": "code",
   "execution_count": 148,
   "metadata": {},
   "outputs": [],
   "source": [
    "set.seed(123)"
   ]
  },
  {
   "cell_type": "markdown",
   "metadata": {},
   "source": [
    "Creating a grid of lambda values which is basically the tuning grid"
   ]
  },
  {
   "cell_type": "code",
   "execution_count": 149,
   "metadata": {},
   "outputs": [],
   "source": [
    "grid = 10^seq(10,-2, length = 100)"
   ]
  },
  {
   "cell_type": "code",
   "execution_count": 150,
   "metadata": {},
   "outputs": [
    {
     "data": {
      "text/html": [
       "<ol class=list-inline>\n",
       "\t<li>214</li>\n",
       "\t<li>100</li>\n",
       "</ol>\n"
      ],
      "text/latex": [
       "\\begin{enumerate*}\n",
       "\\item 214\n",
       "\\item 100\n",
       "\\end{enumerate*}\n"
      ],
      "text/markdown": [
       "1. 214\n",
       "2. 100\n",
       "\n",
       "\n"
      ],
      "text/plain": [
       "[1] 214 100"
      ]
     },
     "metadata": {},
     "output_type": "display_data"
    }
   ],
   "source": [
    "# train the Ridge Regression model using the grid of selected lambdas with alpha=0\n",
    "ridge.mod <- glmnet(train.ridgeMatrix,train.ridge.y,alpha = 0, lambda = grid)\n",
    "dim(coef(ridge.mod))"
   ]
  },
  {
   "cell_type": "markdown",
   "metadata": {},
   "source": [
    "### 9.3.1 Ridge regression by K-Fold cross validation"
   ]
  },
  {
   "cell_type": "code",
   "execution_count": 151,
   "metadata": {},
   "outputs": [],
   "source": [
    "set.seed(123)\n",
    "cv.out <- cv.glmnet(train.ridgeMatrix, train.ridge.y,alpha=0)"
   ]
  },
  {
   "cell_type": "code",
   "execution_count": 152,
   "metadata": {},
   "outputs": [
    {
     "data": {
      "image/png": "[encoded data removed]",
      "text/plain": [
       "plot without title"
      ]
     },
     "metadata": {},
     "output_type": "display_data"
    }
   ],
   "source": [
    "plot(cv.out)"
   ]
  },
  {
   "cell_type": "markdown",
   "metadata": {},
   "source": [
    "Finding out the best lambda from the cross validation exercise"
   ]
  },
  {
   "cell_type": "code",
   "execution_count": 153,
   "metadata": {},
   "outputs": [
    {
     "data": {
      "text/html": [
       "0.0522611783512238"
      ],
      "text/latex": [
       "0.0522611783512238"
      ],
      "text/markdown": [
       "0.0522611783512238"
      ],
      "text/plain": [
       "[1] 0.05226118"
      ]
     },
     "metadata": {},
     "output_type": "display_data"
    }
   ],
   "source": [
    "bestlam <- cv.out$lambda.min\n",
    "bestlam"
   ]
  },
  {
   "cell_type": "markdown",
   "metadata": {},
   "source": [
    "The best lambda value that results in the smallest cross validation error is 0.0522611783512238. Let’s see the RMSE associated with this value of lambda"
   ]
  },
  {
   "cell_type": "code",
   "execution_count": 154,
   "metadata": {
    "scrolled": true
   },
   "outputs": [
    {
     "data": {
      "text/html": [
       "0.100425934450849"
      ],
      "text/latex": [
       "0.100425934450849"
      ],
      "text/markdown": [
       "0.100425934450849"
      ],
      "text/plain": [
       "[1] 0.1004259"
      ]
     },
     "metadata": {},
     "output_type": "display_data"
    }
   ],
   "source": [
    "#use it in fitting the training data\n",
    "ridge.pred <- predict(ridge.mod, s=bestlam, newx=train.ridgeMatrix)\n",
    "rmse(train.ridge.y,ridge.pred)"
   ]
  },
  {
   "cell_type": "markdown",
   "metadata": {},
   "source": [
    "Now that we have finalized our ridge regression model we will predict SalePrice on the test data set"
   ]
  },
  {
   "cell_type": "code",
   "execution_count": 155,
   "metadata": {},
   "outputs": [],
   "source": [
    "ridge.test.pred <- predict(ridge.mod, s=bestlam, newx=test.ridgeMatrix)\n",
    "predictions_Ridge <- exp(ridge.test.pred)\n",
    "#Code to Add ID column"
   ]
  },
  {
   "cell_type": "code",
   "execution_count": 156,
   "metadata": {},
   "outputs": [],
   "source": [
    "ridge.sol  <- data.frame(Id = testID, SalePrice = predictions_Ridge)"
   ]
  },
  {
   "cell_type": "code",
   "execution_count": 157,
   "metadata": {},
   "outputs": [],
   "source": [
    "write.csv(ridge.sol, \"TestPredRidge.csv\",row.names=FALSE)"
   ]
  },
  {
   "cell_type": "markdown",
   "metadata": {},
   "source": [
    "## 9.4 Random Forests"
   ]
  },
  {
   "cell_type": "markdown",
   "metadata": {},
   "source": [
    "Random forests are built on the same fundamental principles as decision trees and bagging. Since the algorithm randomly selects a bootstrap sample to train on and predictors to use at each split, tree correlation will be lessened beyond bagged trees."
   ]
  },
  {
   "cell_type": "code",
   "execution_count": 157,
   "metadata": {},
   "outputs": [],
   "source": [
    "# for reproduciblity\n",
    "set.seed(123)\n"
   ]
  },
  {
   "cell_type": "markdown",
   "metadata": {},
   "source": [
    "We will first start off with a basic model before we try and tune the different parameters available to us"
   ]
  },
  {
   "cell_type": "code",
   "execution_count": 158,
   "metadata": {
    "scrolled": true
   },
   "outputs": [
    {
     "data": {
      "text/plain": [
       "\n",
       "Call:\n",
       " randomForest(formula = SalePrice ~ ., data = train1) \n",
       "               Type of random forest: regression\n",
       "                     Number of trees: 500\n",
       "No. of variables tried at each split: 71\n",
       "\n",
       "          Mean of squared residuals: 0.01649832\n",
       "                    % Var explained: 89.67"
      ]
     },
     "metadata": {},
     "output_type": "display_data"
    }
   ],
   "source": [
    "rf.mod <- randomForest(\n",
    "  formula = SalePrice~.,\n",
    "  data    = train1)\n",
    "\n",
    "rf.mod"
   ]
  },
  {
   "cell_type": "code",
   "execution_count": 159,
   "metadata": {},
   "outputs": [
    {
     "data": {
      "image/png": "[encoded data removed]",
      "text/plain": [
       "Plot with title \"rf.mod\""
      ]
     },
     "metadata": {},
     "output_type": "display_data"
    }
   ],
   "source": [
    "plot(rf.mod)"
   ]
  },
  {
   "cell_type": "markdown",
   "metadata": {},
   "source": [
    "Plotting the model will illustrate the error rate as we average across more trees and shows that our error rate stabalizes with around 100 trees but continues to decrease slowly until around 300 or so trees."
   ]
  },
  {
   "cell_type": "markdown",
   "metadata": {},
   "source": [
    "Random forests are fairly easy to tune since there are only a handful of tuning parameters. Typically, the primary concern when starting out is tuning the number of candidate variables to select from at each split. However, there are a few additional hyperparameters that we will be tuning with the help of a grid."
   ]
  },
  {
   "cell_type": "code",
   "execution_count": 160,
   "metadata": {},
   "outputs": [
    {
     "data": {
      "text/html": [
       "296"
      ],
      "text/latex": [
       "296"
      ],
      "text/markdown": [
       "296"
      ],
      "text/plain": [
       "[1] 296"
      ]
     },
     "metadata": {},
     "output_type": "display_data"
    }
   ],
   "source": [
    "# hyperparameter grid search\n",
    "rf.grid <- expand.grid(\n",
    "  mtry       = seq(20, 200, by = 5),\n",
    "  node_size  = seq(3, 9, by = 2),\n",
    "  sampe_size = c(.70, .80),\n",
    "  OOB_RMSE   = 0\n",
    ")\n",
    "\n",
    "# total number of combinations\n",
    "nrow(rf.grid)\n"
   ]
  },
  {
   "cell_type": "code",
   "execution_count": 161,
   "metadata": {},
   "outputs": [
    {
     "data": {
      "text/html": [
       "<table>\n",
       "<thead><tr><th scope=col>mtry</th><th scope=col>node_size</th><th scope=col>sampe_size</th><th scope=col>OOB_RMSE</th></tr></thead>\n",
       "<tbody>\n",
       "\t<tr><td>70       </td><td>5        </td><td>0.7      </td><td>0.1287370</td></tr>\n",
       "\t<tr><td>50       </td><td>3        </td><td>0.7      </td><td>0.1287771</td></tr>\n",
       "\t<tr><td>70       </td><td>7        </td><td>0.7      </td><td>0.1290654</td></tr>\n",
       "\t<tr><td>70       </td><td>3        </td><td>0.8      </td><td>0.1290725</td></tr>\n",
       "\t<tr><td>55       </td><td>3        </td><td>0.8      </td><td>0.1290956</td></tr>\n",
       "\t<tr><td>70       </td><td>3        </td><td>0.7      </td><td>0.1291581</td></tr>\n",
       "\t<tr><td>85       </td><td>3        </td><td>0.8      </td><td>0.1291800</td></tr>\n",
       "\t<tr><td>70       </td><td>7        </td><td>0.8      </td><td>0.1293032</td></tr>\n",
       "\t<tr><td>85       </td><td>5        </td><td>0.8      </td><td>0.1293726</td></tr>\n",
       "\t<tr><td>95       </td><td>3        </td><td>0.8      </td><td>0.1293965</td></tr>\n",
       "</tbody>\n",
       "</table>\n"
      ],
      "text/latex": [
       "\\begin{tabular}{r|llll}\n",
       " mtry & node\\_size & sampe\\_size & OOB\\_RMSE\\\\\n",
       "\\hline\n",
       "\t 70        & 5         & 0.7       & 0.1287370\\\\\n",
       "\t 50        & 3         & 0.7       & 0.1287771\\\\\n",
       "\t 70        & 7         & 0.7       & 0.1290654\\\\\n",
       "\t 70        & 3         & 0.8       & 0.1290725\\\\\n",
       "\t 55        & 3         & 0.8       & 0.1290956\\\\\n",
       "\t 70        & 3         & 0.7       & 0.1291581\\\\\n",
       "\t 85        & 3         & 0.8       & 0.1291800\\\\\n",
       "\t 70        & 7         & 0.8       & 0.1293032\\\\\n",
       "\t 85        & 5         & 0.8       & 0.1293726\\\\\n",
       "\t 95        & 3         & 0.8       & 0.1293965\\\\\n",
       "\\end{tabular}\n"
      ],
      "text/markdown": [
       "\n",
       "| mtry | node_size | sampe_size | OOB_RMSE |\n",
       "|---|---|---|---|\n",
       "| 70        | 5         | 0.7       | 0.1287370 |\n",
       "| 50        | 3         | 0.7       | 0.1287771 |\n",
       "| 70        | 7         | 0.7       | 0.1290654 |\n",
       "| 70        | 3         | 0.8       | 0.1290725 |\n",
       "| 55        | 3         | 0.8       | 0.1290956 |\n",
       "| 70        | 3         | 0.7       | 0.1291581 |\n",
       "| 85        | 3         | 0.8       | 0.1291800 |\n",
       "| 70        | 7         | 0.8       | 0.1293032 |\n",
       "| 85        | 5         | 0.8       | 0.1293726 |\n",
       "| 95        | 3         | 0.8       | 0.1293965 |\n",
       "\n"
      ],
      "text/plain": [
       "   mtry node_size sampe_size OOB_RMSE \n",
       "1  70   5         0.7        0.1287370\n",
       "2  50   3         0.7        0.1287771\n",
       "3  70   7         0.7        0.1290654\n",
       "4  70   3         0.8        0.1290725\n",
       "5  55   3         0.8        0.1290956\n",
       "6  70   3         0.7        0.1291581\n",
       "7  85   3         0.8        0.1291800\n",
       "8  70   7         0.8        0.1293032\n",
       "9  85   5         0.8        0.1293726\n",
       "10 95   3         0.8        0.1293965"
      ]
     },
     "metadata": {},
     "output_type": "display_data"
    }
   ],
   "source": [
    "for(i in 1:nrow(rf.grid)) {\n",
    "  \n",
    "  # train model\n",
    "  rf.mod <- ranger(\n",
    "    formula         = SalePrice ~ ., \n",
    "    data            = train1, \n",
    "    num.trees       = 500,\n",
    "    mtry            = rf.grid$mtry[i],\n",
    "    min.node.size   = rf.grid$node_size[i],\n",
    "    sample.fraction = rf.grid$sampe_size[i],\n",
    "    seed            = 123\n",
    "  )\n",
    "  \n",
    "  # add OOB error to grid\n",
    "  rf.grid$OOB_RMSE[i] <- sqrt(rf.mod$prediction.error)\n",
    "}\n",
    "\n",
    "rf.grid %>% \n",
    "  dplyr::arrange(OOB_RMSE) %>%\n",
    "  head(10)"
   ]
  },
  {
   "cell_type": "markdown",
   "metadata": {},
   "source": [
    "Currently, the best random forest model we have found uses mtry = 70, terminal node size of 5 observations, and a sample size of 70%. We will repeat this to see what we should expect as error rates"
   ]
  },
  {
   "cell_type": "code",
   "execution_count": 162,
   "metadata": {},
   "outputs": [
    {
     "data": {
      "image/png": "[encoded data removed]",
      "text/plain": [
       "Plot with title \"Histogram of OOB_RMSE\""
      ]
     },
     "metadata": {},
     "output_type": "display_data"
    }
   ],
   "source": [
    "OOB_RMSE <- vector(mode = \"numeric\", length = 100)\n",
    "\n",
    "for(i in seq_along(OOB_RMSE)) {\n",
    "\n",
    "  optimal_ranger <- ranger(\n",
    "    formula         = SalePrice ~ ., \n",
    "    data            = train1, \n",
    "    num.trees       = 500,\n",
    "    mtry            = 70,\n",
    "    min.node.size   = 5,\n",
    "    sample.fraction = .7,\n",
    "    importance      = 'impurity'\n",
    "  )\n",
    "  \n",
    "  OOB_RMSE[i] <- sqrt(optimal_ranger$prediction.error)\n",
    "}\n",
    "\n",
    "hist(OOB_RMSE, breaks = 20)"
   ]
  },
  {
   "cell_type": "markdown",
   "metadata": {},
   "source": [
    "Finalizing the best Random Forest Model"
   ]
  },
  {
   "cell_type": "code",
   "execution_count": 163,
   "metadata": {},
   "outputs": [],
   "source": [
    "set.seed(123) \n",
    "optimal_ranger <- ranger(\n",
    "    formula         = SalePrice ~ ., \n",
    "    data            = train1, \n",
    "    num.trees       = 500,\n",
    "    mtry            = 70,\n",
    "    min.node.size   = 5,\n",
    "    sample.fraction = .7,\n",
    "    importance      = 'impurity'\n",
    "  )"
   ]
  },
  {
   "cell_type": "code",
   "execution_count": 164,
   "metadata": {},
   "outputs": [
    {
     "data": {
      "text/html": [
       "0.128881753547348"
      ],
      "text/latex": [
       "0.128881753547348"
      ],
      "text/markdown": [
       "0.128881753547348"
      ],
      "text/plain": [
       "[1] 0.1288818"
      ]
     },
     "metadata": {},
     "output_type": "display_data"
    }
   ],
   "source": [
    "sqrt(optimal_ranger$prediction.error)"
   ]
  },
  {
   "cell_type": "markdown",
   "metadata": {},
   "source": [
    "Now that we have finalised our Random Forest model we can precdict the SalePrice on the test dataset"
   ]
  },
  {
   "cell_type": "code",
   "execution_count": 165,
   "metadata": {},
   "outputs": [
    {
     "data": {
      "text/html": [
       "<ol class=list-inline>\n",
       "\t<li>121128.318457925</li>\n",
       "\t<li>156760.832420942</li>\n",
       "\t<li>179915.115146642</li>\n",
       "\t<li>181642.176343631</li>\n",
       "\t<li>193888.077568018</li>\n",
       "\t<li>183044.945709552</li>\n",
       "</ol>\n"
      ],
      "text/latex": [
       "\\begin{enumerate*}\n",
       "\\item 121128.318457925\n",
       "\\item 156760.832420942\n",
       "\\item 179915.115146642\n",
       "\\item 181642.176343631\n",
       "\\item 193888.077568018\n",
       "\\item 183044.945709552\n",
       "\\end{enumerate*}\n"
      ],
      "text/markdown": [
       "1. 121128.318457925\n",
       "2. 156760.832420942\n",
       "3. 179915.115146642\n",
       "4. 181642.176343631\n",
       "5. 193888.077568018\n",
       "6. 183044.945709552\n",
       "\n",
       "\n"
      ],
      "text/plain": [
       "[1] 121128.3 156760.8 179915.1 181642.2 193888.1 183044.9"
      ]
     },
     "metadata": {},
     "output_type": "display_data"
    }
   ],
   "source": [
    "#\n",
    "pred_ranger <- predict(optimal_ranger, test2)\n",
    "\n",
    "rf.predictions <- exp(pred_ranger$predictions) #need to reverse the log to the real values\n",
    "head(rf.predictions)"
   ]
  },
  {
   "cell_type": "code",
   "execution_count": 166,
   "metadata": {},
   "outputs": [],
   "source": [
    "rf.sol  <- data.frame(Id = testID, SalePrice = rf.predictions)"
   ]
  },
  {
   "cell_type": "code",
   "execution_count": 167,
   "metadata": {},
   "outputs": [],
   "source": [
    "write.csv(rf.sol,\"testPredRF.csv\",row.names=FALSE)"
   ]
  },
  {
   "cell_type": "markdown",
   "metadata": {},
   "source": [
    "## 9.5 Ensemble Model with Weights"
   ]
  },
  {
   "cell_type": "code",
   "execution_count": 168,
   "metadata": {},
   "outputs": [],
   "source": [
    "# construct data frame for the ensembled solution\n",
    "solution <- data.frame(Id = testID,\n",
    "                       SalePrice =  as.numeric(predictions_Ridge*.2 + predictions_lasso*.7 + predictions_lm*.1))"
   ]
  },
  {
   "cell_type": "code",
   "execution_count": 318,
   "metadata": {},
   "outputs": [],
   "source": [
    "write.csv(solution,\"ensemble_sol.csv\",row.names=FALSE)"
   ]
  }
 ],
 "metadata": {
  "kernelspec": {
   "display_name": "R",
   "language": "R",
   "name": "ir"
  },
  "language_info": {
   "codemirror_mode": "r",
   "file_extension": ".r",
   "mimetype": "text/x-r-source",
   "name": "R",
   "pygments_lexer": "r",
   "version": "3.5.1"
  }
 },
 "nbformat": 4,
 "nbformat_minor": 2
}
